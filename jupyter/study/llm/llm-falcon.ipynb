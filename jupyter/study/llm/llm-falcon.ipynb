{
 "cells": [
  {
   "cell_type": "code",
   "execution_count": 1,
   "id": "fe5b2482-a532-4404-8864-1fb38546d25a",
   "metadata": {},
   "outputs": [],
   "source": [
    "import torch\n",
    "import os \n",
    "from transformers import AutoModelForCausalLM, AutoConfig, AutoTokenizer, BitsAndBytesConfig\n",
    "from transformers import FalconModel, FalconConfig\n",
    "from peft import PeftModel, PeftConfig"
   ]
  },
  {
   "cell_type": "code",
   "execution_count": 2,
   "id": "9537e26b-d643-45a6-9860-135ca47c5de1",
   "metadata": {},
   "outputs": [],
   "source": [
    "default_path = os.getcwd()\n",
    "data_path = os.path.join(default_path, '../../data')\n",
    "model_path = os.path.join(default_path, '../../model')\n",
    "config_path = os.path.join(default_path, '../../config')"
   ]
  },
  {
   "cell_type": "code",
   "execution_count": 3,
   "id": "2e8290a1-b986-4de4-9bbe-cf4f9bd3795d",
   "metadata": {},
   "outputs": [],
   "source": [
    "access_tok = '-'"
   ]
  },
  {
   "cell_type": "code",
   "execution_count": 4,
   "id": "cb1a66d7-14d7-4cec-b1ce-18c7908ba3d3",
   "metadata": {
    "scrolled": true
   },
   "outputs": [
    {
     "data": {
      "application/vnd.jupyter.widget-view+json": {
       "model_id": "71c97bd7fe074a70b02a40ac85e9e40c",
       "version_major": 2,
       "version_minor": 0
      },
      "text/plain": [
       "Loading checkpoint shards:   0%|          | 0/8 [00:00<?, ?it/s]"
      ]
     },
     "metadata": {},
     "output_type": "display_data"
    },
    {
     "data": {
      "text/plain": [
       "PeftModelForCausalLM(\n",
       "  (base_model): LoraModel(\n",
       "    (model): FalconForCausalLM(\n",
       "      (transformer): FalconModel(\n",
       "        (word_embeddings): Embedding(65024, 4544)\n",
       "        (h): ModuleList(\n",
       "          (0-31): 32 x FalconDecoderLayer(\n",
       "            (self_attention): FalconAttention(\n",
       "              (rotary_emb): FalconRotaryEmbedding()\n",
       "              (query_key_value): lora.Linear4bit(\n",
       "                (base_layer): Linear4bit(in_features=4544, out_features=4672, bias=False)\n",
       "                (lora_dropout): ModuleDict(\n",
       "                  (default): Dropout(p=0.1, inplace=False)\n",
       "                )\n",
       "                (lora_A): ModuleDict(\n",
       "                  (default): Linear(in_features=4544, out_features=64, bias=False)\n",
       "                )\n",
       "                (lora_B): ModuleDict(\n",
       "                  (default): Linear(in_features=64, out_features=4672, bias=False)\n",
       "                )\n",
       "                (lora_embedding_A): ParameterDict()\n",
       "                (lora_embedding_B): ParameterDict()\n",
       "              )\n",
       "              (dense): lora.Linear4bit(\n",
       "                (base_layer): Linear4bit(in_features=4544, out_features=4544, bias=False)\n",
       "                (lora_dropout): ModuleDict(\n",
       "                  (default): Dropout(p=0.1, inplace=False)\n",
       "                )\n",
       "                (lora_A): ModuleDict(\n",
       "                  (default): Linear(in_features=4544, out_features=64, bias=False)\n",
       "                )\n",
       "                (lora_B): ModuleDict(\n",
       "                  (default): Linear(in_features=64, out_features=4544, bias=False)\n",
       "                )\n",
       "                (lora_embedding_A): ParameterDict()\n",
       "                (lora_embedding_B): ParameterDict()\n",
       "              )\n",
       "              (attention_dropout): Dropout(p=0.0, inplace=False)\n",
       "            )\n",
       "            (mlp): FalconMLP(\n",
       "              (dense_h_to_4h): lora.Linear4bit(\n",
       "                (base_layer): Linear4bit(in_features=4544, out_features=18176, bias=False)\n",
       "                (lora_dropout): ModuleDict(\n",
       "                  (default): Dropout(p=0.1, inplace=False)\n",
       "                )\n",
       "                (lora_A): ModuleDict(\n",
       "                  (default): Linear(in_features=4544, out_features=64, bias=False)\n",
       "                )\n",
       "                (lora_B): ModuleDict(\n",
       "                  (default): Linear(in_features=64, out_features=18176, bias=False)\n",
       "                )\n",
       "                (lora_embedding_A): ParameterDict()\n",
       "                (lora_embedding_B): ParameterDict()\n",
       "              )\n",
       "              (act): GELU(approximate='none')\n",
       "              (dense_4h_to_h): lora.Linear4bit(\n",
       "                (base_layer): Linear4bit(in_features=18176, out_features=4544, bias=False)\n",
       "                (lora_dropout): ModuleDict(\n",
       "                  (default): Dropout(p=0.1, inplace=False)\n",
       "                )\n",
       "                (lora_A): ModuleDict(\n",
       "                  (default): Linear(in_features=18176, out_features=64, bias=False)\n",
       "                )\n",
       "                (lora_B): ModuleDict(\n",
       "                  (default): Linear(in_features=64, out_features=4544, bias=False)\n",
       "                )\n",
       "                (lora_embedding_A): ParameterDict()\n",
       "                (lora_embedding_B): ParameterDict()\n",
       "              )\n",
       "            )\n",
       "            (input_layernorm): LayerNorm((4544,), eps=1e-05, elementwise_affine=True)\n",
       "          )\n",
       "        )\n",
       "        (ln_f): LayerNorm((4544,), eps=1e-05, elementwise_affine=True)\n",
       "      )\n",
       "      (lm_head): Linear(in_features=4544, out_features=65024, bias=False)\n",
       "    )\n",
       "  )\n",
       ")"
      ]
     },
     "execution_count": 4,
     "metadata": {},
     "output_type": "execute_result"
    }
   ],
   "source": [
    "config = AutoConfig.from_pretrained('ybelkada/falcon-7b-sharded-bf16', token=access_tok)\n",
    "peft_model_id = 'dev7halo/falcon-7b-sharded-bf16-KoAlpaca'\n",
    "bnb_config = BitsAndBytesConfig(\n",
    "    load_in_4bit=True,\n",
    "    bnb_4bit_quant_type=\"nf4\",\n",
    "    bnb_4bit_compute_dtype=torch.float16,\n",
    ")\n",
    "\n",
    "model = AutoModelForCausalLM.from_pretrained(\n",
    "    config._name_or_path,\n",
    "    quantization_config=bnb_config,\n",
    "    trust_remote_code=True\n",
    ")\n",
    "model = PeftModel.from_pretrained(model, peft_model_id)\n",
    "tokenizer = AutoTokenizer.from_pretrained(config._name_or_path)\n",
    "\n",
    "model = model.to('cuda')\n",
    "model.eval()"
   ]
  },
  {
   "cell_type": "code",
   "execution_count": 45,
   "id": "54ce3a54-edad-4084-a3eb-4a8ccd126f59",
   "metadata": {},
   "outputs": [],
   "source": [
    "user_input = '한국은행의 역할과 기능에 대해서 설명해보시요'"
   ]
  },
  {
   "cell_type": "code",
   "execution_count": 46,
   "id": "02daa430-2034-4578-9edb-eda001f30e61",
   "metadata": {},
   "outputs": [
    {
     "name": "stderr",
     "output_type": "stream",
     "text": [
      "The attention mask and the pad token id were not set. As a consequence, you may observe unexpected behavior. Please pass your input's `attention_mask` to obtain reliable results.\n",
      "Setting `pad_token_id` to `eos_token_id`:11 for open-end generation.\n"
     ]
    },
    {
     "name": "stdout",
     "output_type": "stream",
     "text": [
      "한국은행의 역할과 기능에 대해서 설명해보시요. 역할은 상업적인 결정에서 사용자가 생산, 인수, 운수 등을 하는 형태로 하는 것을 의미합니다. 즉, 한국은행은 생산과 인수의 상업 기초를 마련하고, 이에 따라 국제조약을 통해 생산에 필요한 인수운수와 국내외 거래에 필요한 국제거래 등을 위하여 생산과 인수를 촉진시키는 역할을 수행합니다. 이를 위해 한국은행은 국제거래에 큰 영향을 끼쳐서 국내거래에 유리한 자유와 자산을 국내거래에서 넘어서는 영향을 끼치며, 이를\n"
     ]
    }
   ],
   "source": [
    "inputs = tokenizer(user_input, return_tensors=\"pt\")\n",
    "\n",
    "with torch.no_grad():\n",
    "    outputs = model.generate(input_ids=inputs[\"input_ids\"].to(\"cuda\"),\n",
    "                             max_new_tokens=512,\n",
    "                             temperature=0.8,\n",
    "                             top_p=0.95,)\n",
    "                             # do_sample=True, \n",
    "                             # early_stopping=True,\n",
    "                             # no_repeat_ngram_size=3)\n",
    "    print(tokenizer.batch_decode(outputs.detach().cpu().numpy(), skip_special_tokens=True)[0])"
   ]
  },
  {
   "cell_type": "code",
   "execution_count": null,
   "id": "658b5a1c-2763-45aa-bbb8-c31fe26fa99f",
   "metadata": {},
   "outputs": [],
   "source": []
  }
 ],
 "metadata": {
  "kernelspec": {
   "display_name": "Python 3 (ipykernel)",
   "language": "python",
   "name": "python3"
  },
  "language_info": {
   "codemirror_mode": {
    "name": "ipython",
    "version": 3
   },
   "file_extension": ".py",
   "mimetype": "text/x-python",
   "name": "python",
   "nbconvert_exporter": "python",
   "pygments_lexer": "ipython3",
   "version": "3.10.13"
  }
 },
 "nbformat": 4,
 "nbformat_minor": 5
}
