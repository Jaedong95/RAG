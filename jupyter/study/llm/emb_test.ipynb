{
 "cells": [
  {
   "cell_type": "code",
   "execution_count": 1,
   "id": "9a162d74-1ad1-48ae-9489-9e5a3c6d3636",
   "metadata": {},
   "outputs": [],
   "source": [
    "import os\n",
    "import pandas as pd \n",
    "import numpy as np \n",
    "import torch\n",
    "from transformers import AutoTokenizer, AutoModel\n",
    "from sentence_transformers import SentenceTransformer, util"
   ]
  },
  {
   "cell_type": "code",
   "execution_count": 2,
   "id": "0ae4cd2f-becb-4957-a84f-4d7fd891d7dd",
   "metadata": {},
   "outputs": [],
   "source": [
    "default_path = os.getcwd()\n",
    "data_path = os.path.join(default_path, '../../data')\n",
    "model_path = os.path.join(default_path, '../../model')\n",
    "config_path = os.path.join(default_path, '../../config')"
   ]
  },
  {
   "cell_type": "code",
   "execution_count": 3,
   "id": "285ba1ca-2d49-40fd-bfdb-4f18e57478ca",
   "metadata": {},
   "outputs": [],
   "source": [
    "# Mean Pooling - Take attention mask into account for correct averaging\n",
    "def mean_pooling(model_output, attention_mask):\n",
    "    token_embeddings = model_output[0] # First element of model_output contains all token embeddings\n",
    "    input_mask_expanded = attention_mask.unsqueeze(-1).expand(token_embeddings.size()).float()\n",
    "    return torch.sum(token_embeddings * input_mask_expanded, 1) / torch.clamp(input_mask_expanded.sum(1), min=1e-9)"
   ]
  },
  {
   "cell_type": "code",
   "execution_count": 4,
   "id": "fa05af5a-805f-419e-a01e-2f9291b20006",
   "metadata": {},
   "outputs": [],
   "source": [
    "models = ['sentence-transformers/xlm-r-base-en-ko-nli-ststb', 'sentence-transformers/xlm-r-large-en-ko-nli-ststb', \\\n",
    "          'sentence-transformers/multi-qa-distilbert-dot-v1', 'kakaobank/kf-deberta-base', 'upskyy/kf-deberta-multitask']"
   ]
  },
  {
   "cell_type": "code",
   "execution_count": 11,
   "id": "02463c17-51eb-45a0-84df-15323becbc03",
   "metadata": {},
   "outputs": [],
   "source": [
    "prompts = ['금리가 물가에 미치는 영향을 설명해주세요',\\\n",
    "           '금리가 주가에 미치는 영향을 설명해주세요',\\\n",
    "           '미국의 금리 인상이 한국경제에 어떤 영향을 주나요 ?', \\\n",
    "           'PER 주가수익 비율은 무엇인가?',\\\n",
    "           '채권이 무엇인지 설명하고, 채권 투자의 리스크에 대해 알려주세요',\\\n",
    "           '외환위기가 일어날 경우 발생할 일을 과거의 예시를 들어 설명해주세요', \\\n",
    "           '부동산 투자와 주식 투자의 차이점과 리스크에 대해 설명해주세요',\\\n",
    "           '삼성전자와 TSMC의 반도체 시장에서의 경쟁 상황은 어떠한가요 ?', \\\n",
    "           '넷플릭스와 디즈니+ 사이의 스트리밍 경쟁에 대해 어떻게 생각하시나요 ?',\\\n",
    "           '코스피와 코스닥의 차이는 무엇인가요 ?',\\\n",
    "           '블랙-숄즈 모델(Black-Scholes Model)이 무엇인지 설명해주세요',\\\n",
    "           '금융 위기 동안 사용된 양적 완화(Quantitive Easing)의 원리와 그 장단점은 무엇인가요?',\\\n",
    "           '고빈도 거래(High-Frequency Trading, HFT)의 원리와 그것이 주식시장에 미치는 영향에 대해 설명해주세요', \\\n",
    "           '신용 스프레드(Credit Spread) 변동의 주요 원인은 무엇이며, 이것이 채권 투자자에게 어떤 영향을 가지나요 ?',\\\n",
    "           '한국은행의 기능과 역할에 대해 설명해보시오']"
   ]
  },
  {
   "cell_type": "code",
   "execution_count": 33,
   "id": "e21ff3e8-098b-48fe-af3e-a48df7ab3986",
   "metadata": {},
   "outputs": [],
   "source": [
    "toks = [] \n",
    "\n",
    "for idx, p in enumerate(prompts): \n",
    "    toks.append([])\n",
    "    for model_name in models:\n",
    "        tokenizer = AutoTokenizer.from_pretrained(model_name)\n",
    "        tokens = tokenizer.tokenize(p)\n",
    "        # encoded_token = tokenizer.encode(p)\n",
    "        # decoded_token = tokenizer.decode(encoded_token)\n",
    "        toks[idx].append(tokens)"
   ]
  },
  {
   "cell_type": "raw",
   "id": "8068b27d-2a88-492a-add9-0cbacbc2757d",
   "metadata": {
    "scrolled": true
   },
   "source": [
    "p = '코스피와 코스닥의 차이는 무엇인가요 ?'\n",
    "tokenizer = AutoTokenizer.from_pretrained('sentence-transformers/multi-qa-distilbert-dot-v1')\n",
    "tokenizer.tokenize(p)"
   ]
  },
  {
   "cell_type": "code",
   "execution_count": 34,
   "id": "b6852b76-6a81-425c-baf3-828ab2387a98",
   "metadata": {},
   "outputs": [
    {
     "data": {
      "text/html": [
       "<div>\n",
       "<style scoped>\n",
       "    .dataframe tbody tr th:only-of-type {\n",
       "        vertical-align: middle;\n",
       "    }\n",
       "\n",
       "    .dataframe tbody tr th {\n",
       "        vertical-align: top;\n",
       "    }\n",
       "\n",
       "    .dataframe thead th {\n",
       "        text-align: right;\n",
       "    }\n",
       "</style>\n",
       "<table border=\"1\" class=\"dataframe\">\n",
       "  <thead>\n",
       "    <tr style=\"text-align: right;\">\n",
       "      <th></th>\n",
       "      <th>sentence-transformers/xlm-r-base-en-ko-nli-ststb</th>\n",
       "      <th>sentence-transformers/xlm-r-large-en-ko-nli-ststb</th>\n",
       "      <th>sentence-transformers/multi-qa-distilbert-dot-v1</th>\n",
       "      <th>kakaobank/kf-deberta-base</th>\n",
       "      <th>upskyy/kf-deberta-multitask</th>\n",
       "    </tr>\n",
       "  </thead>\n",
       "  <tbody>\n",
       "    <tr>\n",
       "      <th>금리가 물가에 미치는 영향을 설명해주세요</th>\n",
       "      <td>[▁금, 리가, ▁물, 가, 에, ▁미, 치는, ▁영향을, ▁설명, 해주세요]</td>\n",
       "      <td>[▁금, 리가, ▁물, 가, 에, ▁미, 치는, ▁영향을, ▁설명, 해주세요]</td>\n",
       "      <td>[ᄀ, ##ᅳ, ##ᆷ, ##ᄅ, ##ᅵ, ##ᄀ, ##ᅡ, ᄆ, ##ᅮ, ##ᆯ,...</td>\n",
       "      <td>[금리, ##가, 물가, ##에, 미치, ##는, 영향, ##을, 설명, ##해, ...</td>\n",
       "      <td>[금리, ##가, 물가, ##에, 미치, ##는, 영향, ##을, 설명, ##해, ...</td>\n",
       "    </tr>\n",
       "    <tr>\n",
       "      <th>금리가 주가에 미치는 영향을 설명해주세요</th>\n",
       "      <td>[▁금, 리가, ▁주, 가, 에, ▁미, 치는, ▁영향을, ▁설명, 해주세요]</td>\n",
       "      <td>[▁금, 리가, ▁주, 가, 에, ▁미, 치는, ▁영향을, ▁설명, 해주세요]</td>\n",
       "      <td>[ᄀ, ##ᅳ, ##ᆷ, ##ᄅ, ##ᅵ, ##ᄀ, ##ᅡ, ᄌ, ##ᅮ, ##ᄀ,...</td>\n",
       "      <td>[금리, ##가, 주가, ##에, 미치, ##는, 영향, ##을, 설명, ##해, ...</td>\n",
       "      <td>[금리, ##가, 주가, ##에, 미치, ##는, 영향, ##을, 설명, ##해, ...</td>\n",
       "    </tr>\n",
       "    <tr>\n",
       "      <th>미국의 금리 인상이 한국경제에 어떤 영향을 주나요 ?</th>\n",
       "      <td>[▁미국의, ▁, 금리, ▁인상, 이, ▁한국, 경제, 에, ▁어떤, ▁영향을, ▁...</td>\n",
       "      <td>[▁미국의, ▁, 금리, ▁인상, 이, ▁한국, 경제, 에, ▁어떤, ▁영향을, ▁...</td>\n",
       "      <td>[ᄆ, ##ᅵ, ##ᄀ, ##ᅮ, ##ᆨ, ##ᄋ, ##ᅴ, ᄀ, ##ᅳ, ##ᆷ,...</td>\n",
       "      <td>[미국, ##의, 금리, 인상, ##이, 한국, ##경제, ##에, 어떤, 영향, ...</td>\n",
       "      <td>[미국, ##의, 금리, 인상, ##이, 한국, ##경제, ##에, 어떤, 영향, ...</td>\n",
       "    </tr>\n",
       "    <tr>\n",
       "      <th>PER 주가수익 비율은 무엇인가?</th>\n",
       "      <td>[▁PER, ▁주, 가, 수, 익, ▁비율, 은, ▁무엇인가, ?]</td>\n",
       "      <td>[▁PER, ▁주, 가, 수, 익, ▁비율, 은, ▁무엇인가, ?]</td>\n",
       "      <td>[per, ᄌ, ##ᅮ, ##ᄀ, ##ᅡ, ##ᄉ, ##ᅮ, ##ᄋ, ##ᅵ, ##...</td>\n",
       "      <td>[PER, 주가, ##수익, 비율, ##은, 무엇, ##인가, ?]</td>\n",
       "      <td>[PER, 주가, ##수익, 비율, ##은, 무엇, ##인가, ?]</td>\n",
       "    </tr>\n",
       "    <tr>\n",
       "      <th>채권이 무엇인지 설명하고, 채권 투자의 리스크에 대해 알려주세요</th>\n",
       "      <td>[▁채, 권, 이, ▁무, 엇, 인지, ▁설명, 하고, ,, ▁채, 권, ▁투자, ...</td>\n",
       "      <td>[▁채, 권, 이, ▁무, 엇, 인지, ▁설명, 하고, ,, ▁채, 권, ▁투자, ...</td>\n",
       "      <td>[ᄎ, ##ᅢ, ##ᄀ, ##ᅯ, ##ᆫ, ##ᄋ, ##ᅵ, [UNK], ᄉ, ##...</td>\n",
       "      <td>[채권, ##이, 무엇, ##인지, 설명, ##하고, ,, 채권, 투자, ##의, ...</td>\n",
       "      <td>[채권, ##이, 무엇, ##인지, 설명, ##하고, ,, 채권, 투자, ##의, ...</td>\n",
       "    </tr>\n",
       "  </tbody>\n",
       "</table>\n",
       "</div>"
      ],
      "text/plain": [
       "                                      sentence-transformers/xlm-r-base-en-ko-nli-ststb  \\\n",
       "금리가 물가에 미치는 영향을 설명해주세요                     [▁금, 리가, ▁물, 가, 에, ▁미, 치는, ▁영향을, ▁설명, 해주세요]   \n",
       "금리가 주가에 미치는 영향을 설명해주세요                     [▁금, 리가, ▁주, 가, 에, ▁미, 치는, ▁영향을, ▁설명, 해주세요]   \n",
       "미국의 금리 인상이 한국경제에 어떤 영향을 주나요 ?        [▁미국의, ▁, 금리, ▁인상, 이, ▁한국, 경제, 에, ▁어떤, ▁영향을, ▁...   \n",
       "PER 주가수익 비율은 무엇인가?                               [▁PER, ▁주, 가, 수, 익, ▁비율, 은, ▁무엇인가, ?]   \n",
       "채권이 무엇인지 설명하고, 채권 투자의 리스크에 대해 알려주세요  [▁채, 권, 이, ▁무, 엇, 인지, ▁설명, 하고, ,, ▁채, 권, ▁투자, ...   \n",
       "\n",
       "                                     sentence-transformers/xlm-r-large-en-ko-nli-ststb  \\\n",
       "금리가 물가에 미치는 영향을 설명해주세요                     [▁금, 리가, ▁물, 가, 에, ▁미, 치는, ▁영향을, ▁설명, 해주세요]   \n",
       "금리가 주가에 미치는 영향을 설명해주세요                     [▁금, 리가, ▁주, 가, 에, ▁미, 치는, ▁영향을, ▁설명, 해주세요]   \n",
       "미국의 금리 인상이 한국경제에 어떤 영향을 주나요 ?        [▁미국의, ▁, 금리, ▁인상, 이, ▁한국, 경제, 에, ▁어떤, ▁영향을, ▁...   \n",
       "PER 주가수익 비율은 무엇인가?                               [▁PER, ▁주, 가, 수, 익, ▁비율, 은, ▁무엇인가, ?]   \n",
       "채권이 무엇인지 설명하고, 채권 투자의 리스크에 대해 알려주세요  [▁채, 권, 이, ▁무, 엇, 인지, ▁설명, 하고, ,, ▁채, 권, ▁투자, ...   \n",
       "\n",
       "                                      sentence-transformers/multi-qa-distilbert-dot-v1  \\\n",
       "금리가 물가에 미치는 영향을 설명해주세요               [ᄀ, ##ᅳ, ##ᆷ, ##ᄅ, ##ᅵ, ##ᄀ, ##ᅡ, ᄆ, ##ᅮ, ##ᆯ,...   \n",
       "금리가 주가에 미치는 영향을 설명해주세요               [ᄀ, ##ᅳ, ##ᆷ, ##ᄅ, ##ᅵ, ##ᄀ, ##ᅡ, ᄌ, ##ᅮ, ##ᄀ,...   \n",
       "미국의 금리 인상이 한국경제에 어떤 영향을 주나요 ?        [ᄆ, ##ᅵ, ##ᄀ, ##ᅮ, ##ᆨ, ##ᄋ, ##ᅴ, ᄀ, ##ᅳ, ##ᆷ,...   \n",
       "PER 주가수익 비율은 무엇인가?                   [per, ᄌ, ##ᅮ, ##ᄀ, ##ᅡ, ##ᄉ, ##ᅮ, ##ᄋ, ##ᅵ, ##...   \n",
       "채권이 무엇인지 설명하고, 채권 투자의 리스크에 대해 알려주세요  [ᄎ, ##ᅢ, ##ᄀ, ##ᅯ, ##ᆫ, ##ᄋ, ##ᅵ, [UNK], ᄉ, ##...   \n",
       "\n",
       "                                                             kakaobank/kf-deberta-base  \\\n",
       "금리가 물가에 미치는 영향을 설명해주세요               [금리, ##가, 물가, ##에, 미치, ##는, 영향, ##을, 설명, ##해, ...   \n",
       "금리가 주가에 미치는 영향을 설명해주세요               [금리, ##가, 주가, ##에, 미치, ##는, 영향, ##을, 설명, ##해, ...   \n",
       "미국의 금리 인상이 한국경제에 어떤 영향을 주나요 ?        [미국, ##의, 금리, 인상, ##이, 한국, ##경제, ##에, 어떤, 영향, ...   \n",
       "PER 주가수익 비율은 무엇인가?                               [PER, 주가, ##수익, 비율, ##은, 무엇, ##인가, ?]   \n",
       "채권이 무엇인지 설명하고, 채권 투자의 리스크에 대해 알려주세요  [채권, ##이, 무엇, ##인지, 설명, ##하고, ,, 채권, 투자, ##의, ...   \n",
       "\n",
       "                                                           upskyy/kf-deberta-multitask  \n",
       "금리가 물가에 미치는 영향을 설명해주세요               [금리, ##가, 물가, ##에, 미치, ##는, 영향, ##을, 설명, ##해, ...  \n",
       "금리가 주가에 미치는 영향을 설명해주세요               [금리, ##가, 주가, ##에, 미치, ##는, 영향, ##을, 설명, ##해, ...  \n",
       "미국의 금리 인상이 한국경제에 어떤 영향을 주나요 ?        [미국, ##의, 금리, 인상, ##이, 한국, ##경제, ##에, 어떤, 영향, ...  \n",
       "PER 주가수익 비율은 무엇인가?                               [PER, 주가, ##수익, 비율, ##은, 무엇, ##인가, ?]  \n",
       "채권이 무엇인지 설명하고, 채권 투자의 리스크에 대해 알려주세요  [채권, ##이, 무엇, ##인지, 설명, ##하고, ,, 채권, 투자, ##의, ...  "
      ]
     },
     "execution_count": 34,
     "metadata": {},
     "output_type": "execute_result"
    }
   ],
   "source": [
    "emb_result = pd.DataFrame(toks, index=prompts, columns=models)\n",
    "emb_result.head(5)"
   ]
  },
  {
   "cell_type": "code",
   "execution_count": 38,
   "id": "6a728c0e-0e17-4e5d-969b-e58ae36a263b",
   "metadata": {},
   "outputs": [],
   "source": [
    "default_path = os.getcwd()\n",
    "data_path = os.path.join(default_path, '../../../data')"
   ]
  },
  {
   "cell_type": "code",
   "execution_count": 39,
   "id": "fc5514c6-eb8b-4940-98a9-2324ea5b6abb",
   "metadata": {},
   "outputs": [],
   "source": [
    "emb_result.to_csv(os.path.join(data_path, 'emb_result.csv'))"
   ]
  },
  {
   "cell_type": "markdown",
   "id": "710e7a30-445a-406f-86bb-e1e6f00c8d6f",
   "metadata": {},
   "source": [
    "### MTEB"
   ]
  },
  {
   "cell_type": "code",
   "execution_count": 1,
   "id": "5bd89eab-1e38-464d-9346-cc76f1b2a06b",
   "metadata": {},
   "outputs": [
    {
     "data": {
      "application/vnd.jupyter.widget-view+json": {
       "model_id": "dc6dfeba4cc2407abf369bca5b5683e3",
       "version_major": 2,
       "version_minor": 0
      },
      "text/plain": [
       ".gitattributes:   0%|          | 0.00/690 [00:00<?, ?B/s]"
      ]
     },
     "metadata": {},
     "output_type": "display_data"
    },
    {
     "data": {
      "application/vnd.jupyter.widget-view+json": {
       "model_id": "5a593964e8494c40969539dd3298d8cd",
       "version_major": 2,
       "version_minor": 0
      },
      "text/plain": [
       "pytorch_model.bin:   0%|          | 0.00/267M [00:00<?, ?B/s]"
      ]
     },
     "metadata": {},
     "output_type": "display_data"
    },
    {
     "data": {
      "application/vnd.jupyter.widget-view+json": {
       "model_id": "477ea995a7d341ccb9ce7a40a81efd24",
       "version_major": 2,
       "version_minor": 0
      },
      "text/plain": [
       "(…)beddings/whitespacetokenizer_config.json:   0%|          | 0.00/2.59M [00:00<?, ?B/s]"
      ]
     },
     "metadata": {},
     "output_type": "display_data"
    },
    {
     "data": {
      "application/vnd.jupyter.widget-view+json": {
       "model_id": "d1c0d16c8ffa4e04ad08ffe3ffe42bcb",
       "version_major": 2,
       "version_minor": 0
      },
      "text/plain": [
       "(…)WordEmbeddings/wordembedding_config.json:   0%|          | 0.00/164 [00:00<?, ?B/s]"
      ]
     },
     "metadata": {},
     "output_type": "display_data"
    },
    {
     "data": {
      "application/vnd.jupyter.widget-view+json": {
       "model_id": "3944f01cfd2e4587a7a059cf6ec6716e",
       "version_major": 2,
       "version_minor": 0
      },
      "text/plain": [
       "1_Pooling/config.json:   0%|          | 0.00/190 [00:00<?, ?B/s]"
      ]
     },
     "metadata": {},
     "output_type": "display_data"
    },
    {
     "data": {
      "application/vnd.jupyter.widget-view+json": {
       "model_id": "9f5230519e004985b52633ca6cebed6d",
       "version_major": 2,
       "version_minor": 0
      },
      "text/plain": [
       "README.md:   0%|          | 0.00/2.13k [00:00<?, ?B/s]"
      ]
     },
     "metadata": {},
     "output_type": "display_data"
    },
    {
     "data": {
      "application/vnd.jupyter.widget-view+json": {
       "model_id": "8e2c2bb44cd44678ad45cb55b02ef0e0",
       "version_major": 2,
       "version_minor": 0
      },
      "text/plain": [
       "config_sentence_transformers.json:   0%|          | 0.00/122 [00:00<?, ?B/s]"
      ]
     },
     "metadata": {},
     "output_type": "display_data"
    },
    {
     "data": {
      "application/vnd.jupyter.widget-view+json": {
       "model_id": "ca0952a6a2b44776b799826ec92089b7",
       "version_major": 2,
       "version_minor": 0
      },
      "text/plain": [
       "modules.json:   0%|          | 0.00/248 [00:00<?, ?B/s]"
      ]
     },
     "metadata": {},
     "output_type": "display_data"
    },
    {
     "data": {
      "text/html": [
       "<pre style=\"white-space:pre;overflow-x:auto;line-height:normal;font-family:Menlo,'DejaVu Sans Mono',consolas,'Courier New',monospace\"><span style=\"color: #262626; text-decoration-color: #262626\">───────────────────────────────────────────────── </span><span style=\"font-weight: bold\">Selected tasks </span><span style=\"color: #262626; text-decoration-color: #262626\"> ─────────────────────────────────────────────────</span>\n",
       "</pre>\n"
      ],
      "text/plain": [
       "\u001b[38;5;235m───────────────────────────────────────────────── \u001b[0m\u001b[1mSelected tasks \u001b[0m\u001b[38;5;235m ─────────────────────────────────────────────────\u001b[0m\n"
      ]
     },
     "metadata": {},
     "output_type": "display_data"
    },
    {
     "data": {
      "text/html": [
       "<pre style=\"white-space:pre;overflow-x:auto;line-height:normal;font-family:Menlo,'DejaVu Sans Mono',consolas,'Courier New',monospace\"><span style=\"font-weight: bold\">Retrieval</span>\n",
       "</pre>\n"
      ],
      "text/plain": [
       "\u001b[1mRetrieval\u001b[0m\n"
      ]
     },
     "metadata": {},
     "output_type": "display_data"
    },
    {
     "data": {
      "text/html": [
       "<pre style=\"white-space:pre;overflow-x:auto;line-height:normal;font-family:Menlo,'DejaVu Sans Mono',consolas,'Courier New',monospace\">    - FiQA2018, <span style=\"color: #808000; text-decoration-color: #808000; font-style: italic\">beir</span>, <span style=\"color: #626262; text-decoration-color: #626262; font-style: italic\">s2p</span>\n",
       "</pre>\n"
      ],
      "text/plain": [
       "    - FiQA2018, \u001b[3;33mbeir\u001b[0m, \u001b[3;38;5;241ms2p\u001b[0m\n"
      ]
     },
     "metadata": {},
     "output_type": "display_data"
    },
    {
     "data": {
      "text/html": [
       "<pre style=\"white-space:pre;overflow-x:auto;line-height:normal;font-family:Menlo,'DejaVu Sans Mono',consolas,'Courier New',monospace\">\n",
       "\n",
       "</pre>\n"
      ],
      "text/plain": [
       "\n",
       "\n"
      ]
     },
     "metadata": {},
     "output_type": "display_data"
    },
    {
     "name": "stderr",
     "output_type": "stream",
     "text": [
      "Error while evaluating FiQA2018: Retrieval tasks require beir package. Please install it with `pip install mteb[beir]`\n"
     ]
    },
    {
     "ename": "Exception",
     "evalue": "Retrieval tasks require beir package. Please install it with `pip install mteb[beir]`",
     "output_type": "error",
     "traceback": [
      "\u001b[0;31m---------------------------------------------------------------------------\u001b[0m",
      "\u001b[0;31mModuleNotFoundError\u001b[0m                       Traceback (most recent call last)",
      "File \u001b[0;32m/opt/conda/lib/python3.10/site-packages/mteb/abstasks/BeIRTask.py:19\u001b[0m, in \u001b[0;36mBeIRTask.load_data\u001b[0;34m(self, eval_splits, **kwargs)\u001b[0m\n\u001b[1;32m     18\u001b[0m \u001b[38;5;28;01mtry\u001b[39;00m:\n\u001b[0;32m---> 19\u001b[0m     \u001b[38;5;28;01mfrom\u001b[39;00m \u001b[38;5;21;01mbeir\u001b[39;00m \u001b[38;5;28;01mimport\u001b[39;00m util\n\u001b[1;32m     20\u001b[0m \u001b[38;5;28;01mexcept\u001b[39;00m \u001b[38;5;167;01mImportError\u001b[39;00m:\n",
      "\u001b[0;31mModuleNotFoundError\u001b[0m: No module named 'beir'",
      "\nDuring handling of the above exception, another exception occurred:\n",
      "\u001b[0;31mException\u001b[0m                                 Traceback (most recent call last)",
      "Cell \u001b[0;32mIn[1], line 9\u001b[0m\n\u001b[1;32m      7\u001b[0m model \u001b[38;5;241m=\u001b[39m SentenceTransformer(model_name)\n\u001b[1;32m      8\u001b[0m evaluation \u001b[38;5;241m=\u001b[39m MTEB(tasks\u001b[38;5;241m=\u001b[39m[\u001b[38;5;124m\"\u001b[39m\u001b[38;5;124mFiQA2018\u001b[39m\u001b[38;5;124m\"\u001b[39m])\n\u001b[0;32m----> 9\u001b[0m results \u001b[38;5;241m=\u001b[39m \u001b[43mevaluation\u001b[49m\u001b[38;5;241;43m.\u001b[39;49m\u001b[43mrun\u001b[49m\u001b[43m(\u001b[49m\u001b[43mmodel\u001b[49m\u001b[43m,\u001b[49m\u001b[43m \u001b[49m\u001b[43moutput_folder\u001b[49m\u001b[38;5;241;43m=\u001b[39;49m\u001b[38;5;124;43mf\u001b[39;49m\u001b[38;5;124;43m\"\u001b[39;49m\u001b[38;5;124;43mresults/\u001b[39;49m\u001b[38;5;132;43;01m{\u001b[39;49;00m\u001b[43mmodel_name\u001b[49m\u001b[38;5;132;43;01m}\u001b[39;49;00m\u001b[38;5;124;43m\"\u001b[39;49m\u001b[43m)\u001b[49m\n",
      "File \u001b[0;32m/opt/conda/lib/python3.10/site-packages/mteb/evaluation/MTEB.py:289\u001b[0m, in \u001b[0;36mMTEB.run\u001b[0;34m(self, model, verbosity, output_folder, eval_splits, overwrite_results, raise_error, **kwargs)\u001b[0m\n\u001b[1;32m    287\u001b[0m logger\u001b[38;5;241m.\u001b[39merror(\u001b[38;5;124mf\u001b[39m\u001b[38;5;124m\"\u001b[39m\u001b[38;5;124mError while evaluating \u001b[39m\u001b[38;5;132;01m{\u001b[39;00mtask\u001b[38;5;241m.\u001b[39mdescription[\u001b[38;5;124m'\u001b[39m\u001b[38;5;124mname\u001b[39m\u001b[38;5;124m'\u001b[39m]\u001b[38;5;132;01m}\u001b[39;00m\u001b[38;5;124m: \u001b[39m\u001b[38;5;132;01m{\u001b[39;00me\u001b[38;5;132;01m}\u001b[39;00m\u001b[38;5;124m\"\u001b[39m)\n\u001b[1;32m    288\u001b[0m \u001b[38;5;28;01mif\u001b[39;00m raise_error:\n\u001b[0;32m--> 289\u001b[0m     \u001b[38;5;28;01mraise\u001b[39;00m e\n\u001b[1;32m    290\u001b[0m logger\u001b[38;5;241m.\u001b[39merror(\u001b[38;5;124mf\u001b[39m\u001b[38;5;124m\"\u001b[39m\u001b[38;5;124mPlease check all the error logs at: \u001b[39m\u001b[38;5;132;01m{\u001b[39;00m\u001b[38;5;28mself\u001b[39m\u001b[38;5;241m.\u001b[39merr_logs_path\u001b[38;5;132;01m}\u001b[39;00m\u001b[38;5;124m\"\u001b[39m)\n\u001b[1;32m    291\u001b[0m \u001b[38;5;28;01mwith\u001b[39;00m \u001b[38;5;28mopen\u001b[39m(\u001b[38;5;28mself\u001b[39m\u001b[38;5;241m.\u001b[39merr_logs_path, \u001b[38;5;124m\"\u001b[39m\u001b[38;5;124ma\u001b[39m\u001b[38;5;124m\"\u001b[39m) \u001b[38;5;28;01mas\u001b[39;00m f_out:\n",
      "File \u001b[0;32m/opt/conda/lib/python3.10/site-packages/mteb/evaluation/MTEB.py:261\u001b[0m, in \u001b[0;36mMTEB.run\u001b[0;34m(self, model, verbosity, output_folder, eval_splits, overwrite_results, raise_error, **kwargs)\u001b[0m\n\u001b[1;32m    259\u001b[0m \u001b[38;5;66;03m# load data\u001b[39;00m\n\u001b[1;32m    260\u001b[0m logger\u001b[38;5;241m.\u001b[39minfo(\u001b[38;5;124mf\u001b[39m\u001b[38;5;124m\"\u001b[39m\u001b[38;5;124mLoading dataset for \u001b[39m\u001b[38;5;132;01m{\u001b[39;00mtask\u001b[38;5;241m.\u001b[39mdescription[\u001b[38;5;124m'\u001b[39m\u001b[38;5;124mname\u001b[39m\u001b[38;5;124m'\u001b[39m]\u001b[38;5;132;01m}\u001b[39;00m\u001b[38;5;124m\"\u001b[39m)\n\u001b[0;32m--> 261\u001b[0m \u001b[43mtask\u001b[49m\u001b[38;5;241;43m.\u001b[39;49m\u001b[43mload_data\u001b[49m\u001b[43m(\u001b[49m\u001b[43meval_splits\u001b[49m\u001b[38;5;241;43m=\u001b[39;49m\u001b[43mtask_eval_splits\u001b[49m\u001b[43m)\u001b[49m\n\u001b[1;32m    263\u001b[0m \u001b[38;5;66;03m# run evaluation\u001b[39;00m\n\u001b[1;32m    264\u001b[0m task_results \u001b[38;5;241m=\u001b[39m {\n\u001b[1;32m    265\u001b[0m     \u001b[38;5;124m\"\u001b[39m\u001b[38;5;124mmteb_version\u001b[39m\u001b[38;5;124m\"\u001b[39m: __version__,\n\u001b[1;32m    266\u001b[0m     \u001b[38;5;124m\"\u001b[39m\u001b[38;5;124mdataset_revision\u001b[39m\u001b[38;5;124m\"\u001b[39m: task\u001b[38;5;241m.\u001b[39mdescription\u001b[38;5;241m.\u001b[39mget(\u001b[38;5;124m\"\u001b[39m\u001b[38;5;124mrevision\u001b[39m\u001b[38;5;124m\"\u001b[39m, \u001b[38;5;28;01mNone\u001b[39;00m),\n\u001b[1;32m    267\u001b[0m     \u001b[38;5;124m\"\u001b[39m\u001b[38;5;124mmteb_dataset_name\u001b[39m\u001b[38;5;124m\"\u001b[39m: task\u001b[38;5;241m.\u001b[39mdescription[\u001b[38;5;124m\"\u001b[39m\u001b[38;5;124mname\u001b[39m\u001b[38;5;124m\"\u001b[39m],\n\u001b[1;32m    268\u001b[0m }\n",
      "File \u001b[0;32m/opt/conda/lib/python3.10/site-packages/mteb/abstasks/BeIRTask.py:21\u001b[0m, in \u001b[0;36mBeIRTask.load_data\u001b[0;34m(self, eval_splits, **kwargs)\u001b[0m\n\u001b[1;32m     19\u001b[0m     \u001b[38;5;28;01mfrom\u001b[39;00m \u001b[38;5;21;01mbeir\u001b[39;00m \u001b[38;5;28;01mimport\u001b[39;00m util\n\u001b[1;32m     20\u001b[0m \u001b[38;5;28;01mexcept\u001b[39;00m \u001b[38;5;167;01mImportError\u001b[39;00m:\n\u001b[0;32m---> 21\u001b[0m     \u001b[38;5;28;01mraise\u001b[39;00m \u001b[38;5;167;01mException\u001b[39;00m(\u001b[38;5;124m\"\u001b[39m\u001b[38;5;124mRetrieval tasks require beir package. Please install it with `pip install mteb[beir]`\u001b[39m\u001b[38;5;124m\"\u001b[39m)\n\u001b[1;32m     23\u001b[0m USE_HF_DATASETS \u001b[38;5;241m=\u001b[39m \u001b[38;5;28;01mFalse\u001b[39;00m\n\u001b[1;32m     25\u001b[0m \u001b[38;5;66;03m# TODO @nouamane: move non-distributed to `HFDataLoader`\u001b[39;00m\n",
      "\u001b[0;31mException\u001b[0m: Retrieval tasks require beir package. Please install it with `pip install mteb[beir]`"
     ]
    }
   ],
   "source": [
    "from mteb import MTEB\n",
    "from sentence_transformers import SentenceTransformer\n",
    "\n",
    "# Define the sentence-transformers model name\n",
    "model_name = \"average_word_embeddings_komninos\"\n",
    "\n",
    "model = SentenceTransformer(model_name)\n",
    "evaluation = MTEB(tasks=[\"FiQA2018\"])\n",
    "results = evaluation.run(model, output_folder=f\"results/{model_name}\")"
   ]
  },
  {
   "cell_type": "code",
   "execution_count": null,
   "id": "8e816ede-c28d-447b-8efe-d09d714c3fb0",
   "metadata": {},
   "outputs": [],
   "source": []
  }
 ],
 "metadata": {
  "kernelspec": {
   "display_name": "Python 3 (ipykernel)",
   "language": "python",
   "name": "python3"
  },
  "language_info": {
   "codemirror_mode": {
    "name": "ipython",
    "version": 3
   },
   "file_extension": ".py",
   "mimetype": "text/x-python",
   "name": "python",
   "nbconvert_exporter": "python",
   "pygments_lexer": "ipython3",
   "version": "3.10.13"
  }
 },
 "nbformat": 4,
 "nbformat_minor": 5
}
