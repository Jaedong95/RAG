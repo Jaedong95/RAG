{
 "cells": [
  {
   "cell_type": "code",
   "execution_count": 7,
   "id": "d342c6e8-edfa-4876-b441-292d1870adb4",
   "metadata": {},
   "outputs": [],
   "source": [
    "import pymysql\n",
    "from sqlalchemy import (\n",
    "    create_engine,\n",
    "    MetaData,\n",
    "    Table,\n",
    "    Column,\n",
    "    String,\n",
    "    Integer,\n",
    "    select,\n",
    "    column\n",
    ")"
   ]
  },
  {
   "cell_type": "code",
   "execution_count": 8,
   "id": "39df6a40-e587-4f26-a2d9-fde8af5050a2",
   "metadata": {},
   "outputs": [],
   "source": [
    "pymysql.install_as_MySQLdb()"
   ]
  },
  {
   "cell_type": "code",
   "execution_count": 5,
   "id": "f4445d48-e488-4dba-add3-f752102e6c61",
   "metadata": {},
   "outputs": [],
   "source": [
    "args = dict()\n",
    "args['host'] = \"192.168.0.146\"\n",
    "args['user'] = \"cori\"\n",
    "args['password'] = \"Dhwoehd12!\"\n",
    "args['db'] = \"shinhan\"\n",
    "args['port'] = \"3306\""
   ]
  },
  {
   "cell_type": "code",
   "execution_count": 13,
   "id": "b87254a1-ae15-4b46-87eb-fe084f76540f",
   "metadata": {},
   "outputs": [],
   "source": [
    "engine = create_engine(\"mysql+mysqldb://\" + args['user'] + \":\" + args['password'] + \"@\"\n",
    "                        + args['host'] + \":\" + args['port'] + \"/\" + args['db']).connect()"
   ]
  },
  {
   "cell_type": "code",
   "execution_count": 16,
   "id": "0e8fa103-e09d-4e6c-b3dd-d06168b34aec",
   "metadata": {},
   "outputs": [
    {
     "ename": "NameError",
     "evalue": "name 'text' is not defined",
     "output_type": "error",
     "traceback": [
      "\u001b[0;31m---------------------------------------------------------------------------\u001b[0m",
      "\u001b[0;31mNameError\u001b[0m                                 Traceback (most recent call last)",
      "Cell \u001b[0;32mIn[16], line 1\u001b[0m\n\u001b[0;32m----> 1\u001b[0m result \u001b[38;5;241m=\u001b[39m engine\u001b[38;5;241m.\u001b[39mexecute(\u001b[43mtext\u001b[49m(\u001b[38;5;124m\"\u001b[39m\u001b[38;5;124mshow tables;\u001b[39m\u001b[38;5;124m\"\u001b[39m))\u001b[38;5;241m.\u001b[39mfetchall()\n",
      "\u001b[0;31mNameError\u001b[0m: name 'text' is not defined"
     ]
    }
   ],
   "source": [
    "result = engine.execute(text(\"show tables;\")).fetchall()"
   ]
  },
  {
   "cell_type": "code",
   "execution_count": null,
   "id": "04cea564-3ab0-4eb1-b60a-8f4c1b8f38ed",
   "metadata": {},
   "outputs": [],
   "source": []
  }
 ],
 "metadata": {
  "kernelspec": {
   "display_name": "Python 3 (ipykernel)",
   "language": "python",
   "name": "python3"
  },
  "language_info": {
   "codemirror_mode": {
    "name": "ipython",
    "version": 3
   },
   "file_extension": ".py",
   "mimetype": "text/x-python",
   "name": "python",
   "nbconvert_exporter": "python",
   "pygments_lexer": "ipython3",
   "version": "3.10.13"
  }
 },
 "nbformat": 4,
 "nbformat_minor": 5
}
