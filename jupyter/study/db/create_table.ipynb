{
 "cells": [
  {
   "cell_type": "code",
   "execution_count": 1,
   "id": "b56f877e-f69b-4e6c-ac05-9399b5a9e8f0",
   "metadata": {},
   "outputs": [],
   "source": [
    "import pymysql \n",
    "import pandas as pd \n",
    "import os "
   ]
  },
  {
   "cell_type": "code",
   "execution_count": 2,
   "id": "6d094fca-9901-429d-823e-39f13435b814",
   "metadata": {},
   "outputs": [],
   "source": [
    "data_path = os.path.join('/workspace/data/')"
   ]
  },
  {
   "cell_type": "code",
   "execution_count": 3,
   "id": "caa1e7fb-21e5-45be-b934-6714f556fedc",
   "metadata": {},
   "outputs": [
    {
     "data": {
      "text/plain": [
       "'/workspace/data/'"
      ]
     },
     "execution_count": 3,
     "metadata": {},
     "output_type": "execute_result"
    }
   ],
   "source": [
    "data_path"
   ]
  },
  {
   "cell_type": "code",
   "execution_count": 74,
   "id": "28d70ede-c710-4876-b481-fd8f65754554",
   "metadata": {},
   "outputs": [],
   "source": [
    "args = dict()\n",
    "args['host'] = \"192.168.0.146\"\n",
    "args['user'] = \"cori\"\n",
    "args['password'] = \"Dhwoehd12!\"\n",
    "args['db'] = \"shinhan\"\n",
    "args['port'] = 3306"
   ]
  },
  {
   "cell_type": "code",
   "execution_count": 75,
   "id": "a70aa4cb-4525-47ab-97f9-280a693ad0bc",
   "metadata": {},
   "outputs": [],
   "source": [
    "conn = pymysql.connect(host=args['host'], port=args['port'], user=args['user'], password=args['password'], db=args['db'], charset='utf8')\n",
    "curs = conn.cursor()"
   ]
  },
  {
   "cell_type": "code",
   "execution_count": 76,
   "id": "2336b4b4-91db-4372-a015-b250dcbefeb9",
   "metadata": {},
   "outputs": [
    {
     "data": {
      "text/plain": [
       "<pymysql.cursors.Cursor at 0x7fe3809bc9a0>"
      ]
     },
     "execution_count": 76,
     "metadata": {},
     "output_type": "execute_result"
    }
   ],
   "source": [
    "curs"
   ]
  },
  {
   "cell_type": "code",
   "execution_count": 77,
   "id": "a24b2149-4b36-4efa-a745-ac5c571d62a9",
   "metadata": {},
   "outputs": [
    {
     "data": {
      "text/html": [
       "<div>\n",
       "<style scoped>\n",
       "    .dataframe tbody tr th:only-of-type {\n",
       "        vertical-align: middle;\n",
       "    }\n",
       "\n",
       "    .dataframe tbody tr th {\n",
       "        vertical-align: top;\n",
       "    }\n",
       "\n",
       "    .dataframe thead th {\n",
       "        text-align: right;\n",
       "    }\n",
       "</style>\n",
       "<table border=\"1\" class=\"dataframe\">\n",
       "  <thead>\n",
       "    <tr style=\"text-align: right;\">\n",
       "      <th></th>\n",
       "      <th>대출_고유키</th>\n",
       "      <th>금융회사코드</th>\n",
       "      <th>금융회사명</th>\n",
       "      <th>금융상품코드</th>\n",
       "      <th>금융상품명</th>\n",
       "      <th>기준일자</th>\n",
       "      <th>심의필일자</th>\n",
       "      <th>적재일자</th>\n",
       "    </tr>\n",
       "  </thead>\n",
       "  <tbody>\n",
       "    <tr>\n",
       "      <th>0</th>\n",
       "      <td>대출_0</td>\n",
       "      <td>2</td>\n",
       "      <td>KDB산업은행</td>\n",
       "      <td>A100000000</td>\n",
       "      <td>혁신성장산업 지원자금</td>\n",
       "      <td>NaN</td>\n",
       "      <td>준법감시인 심의필제2023-10-013호(2023.10.27)</td>\n",
       "      <td>20240104</td>\n",
       "    </tr>\n",
       "  </tbody>\n",
       "</table>\n",
       "</div>"
      ],
      "text/plain": [
       "  대출_고유키  금융회사코드    금융회사명      금융상품코드        금융상품명 기준일자  \\\n",
       "0   대출_0       2  KDB산업은행  A100000000  혁신성장산업 지원자금  NaN   \n",
       "\n",
       "                                심의필일자      적재일자  \n",
       "0  준법감시인 심의필제2023-10-013호(2023.10.27)  20240104  "
      ]
     },
     "execution_count": 77,
     "metadata": {},
     "output_type": "execute_result"
    }
   ],
   "source": [
    "data = pd.read_csv(os.path.join(data_path, 'financial', 'SHINHAN BANK_Financial_Product_Scraping_Result_20240104_LOAN_db.csv'), encoding='utf-8')\n",
    "data.head(1)"
   ]
  },
  {
   "cell_type": "code",
   "execution_count": 78,
   "id": "fc1ce028-1c12-4038-a91e-66b3e2f8434d",
   "metadata": {},
   "outputs": [
    {
     "data": {
      "text/html": [
       "<div>\n",
       "<style scoped>\n",
       "    .dataframe tbody tr th:only-of-type {\n",
       "        vertical-align: middle;\n",
       "    }\n",
       "\n",
       "    .dataframe tbody tr th {\n",
       "        vertical-align: top;\n",
       "    }\n",
       "\n",
       "    .dataframe thead th {\n",
       "        text-align: right;\n",
       "    }\n",
       "</style>\n",
       "<table border=\"1\" class=\"dataframe\">\n",
       "  <thead>\n",
       "    <tr style=\"text-align: right;\">\n",
       "      <th></th>\n",
       "      <th>대출_고유키</th>\n",
       "      <th>금융회사코드</th>\n",
       "      <th>금융회사명</th>\n",
       "      <th>금융상품코드</th>\n",
       "      <th>금융상품명</th>\n",
       "      <th>기준일자</th>\n",
       "      <th>심의필일자</th>\n",
       "      <th>적재일자</th>\n",
       "    </tr>\n",
       "  </thead>\n",
       "  <tbody>\n",
       "    <tr>\n",
       "      <th>1373</th>\n",
       "      <td>대출_1420</td>\n",
       "      <td>88</td>\n",
       "      <td>신한은행</td>\n",
       "      <td>711117852</td>\n",
       "      <td>코로나19긴급유동성지원특례보증이차보전(2021.01.16판매중지)</td>\n",
       "      <td>20240104</td>\n",
       "      <td>준법감시인사전심사필제2021-40249-2호(2021.09.29~2022.09.29)</td>\n",
       "      <td>20240104</td>\n",
       "    </tr>\n",
       "    <tr>\n",
       "      <th>1374</th>\n",
       "      <td>대출_1421</td>\n",
       "      <td>88</td>\n",
       "      <td>신한은행</td>\n",
       "      <td>711117851</td>\n",
       "      <td>소상공인시장진흥공단이관물량처리이차보전대출(2020.12.31판매중지)</td>\n",
       "      <td>20240104</td>\n",
       "      <td>준법감시인사전심사필제2022-40357-5호(2022.03.17~2023.03.17)</td>\n",
       "      <td>20240104</td>\n",
       "    </tr>\n",
       "    <tr>\n",
       "      <th>1375</th>\n",
       "      <td>대출_1422</td>\n",
       "      <td>88</td>\n",
       "      <td>신한은행</td>\n",
       "      <td>612411100</td>\n",
       "      <td>Tops공무원우대론(2013.01.02판매중지)</td>\n",
       "      <td>20240104</td>\n",
       "      <td>준법감시인사전심사필제2023-41115-1호(2023.08.30~2024.08.28)</td>\n",
       "      <td>20240104</td>\n",
       "    </tr>\n",
       "  </tbody>\n",
       "</table>\n",
       "</div>"
      ],
      "text/plain": [
       "       대출_고유키  금융회사코드 금융회사명     금융상품코드  \\\n",
       "1373  대출_1420      88  신한은행  711117852   \n",
       "1374  대출_1421      88  신한은행  711117851   \n",
       "1375  대출_1422      88  신한은행  612411100   \n",
       "\n",
       "                                       금융상품명      기준일자  \\\n",
       "1373    코로나19긴급유동성지원특례보증이차보전(2021.01.16판매중지)  20240104   \n",
       "1374  소상공인시장진흥공단이관물량처리이차보전대출(2020.12.31판매중지)  20240104   \n",
       "1375              Tops공무원우대론(2013.01.02판매중지)  20240104   \n",
       "\n",
       "                                                심의필일자      적재일자  \n",
       "1373  준법감시인사전심사필제2021-40249-2호(2021.09.29~2022.09.29)  20240104  \n",
       "1374  준법감시인사전심사필제2022-40357-5호(2022.03.17~2023.03.17)  20240104  \n",
       "1375  준법감시인사전심사필제2023-41115-1호(2023.08.30~2024.08.28)  20240104  "
      ]
     },
     "execution_count": 78,
     "metadata": {},
     "output_type": "execute_result"
    }
   ],
   "source": [
    "data.tail(3)"
   ]
  },
  {
   "cell_type": "code",
   "execution_count": 79,
   "id": "ac08d614-c47d-4db7-a534-cdf7512a46ac",
   "metadata": {},
   "outputs": [
    {
     "data": {
      "text/html": [
       "<div>\n",
       "<style scoped>\n",
       "    .dataframe tbody tr th:only-of-type {\n",
       "        vertical-align: middle;\n",
       "    }\n",
       "\n",
       "    .dataframe tbody tr th {\n",
       "        vertical-align: top;\n",
       "    }\n",
       "\n",
       "    .dataframe thead th {\n",
       "        text-align: right;\n",
       "    }\n",
       "</style>\n",
       "<table border=\"1\" class=\"dataframe\">\n",
       "  <thead>\n",
       "    <tr style=\"text-align: right;\">\n",
       "      <th></th>\n",
       "      <th>대출_고유키</th>\n",
       "      <th>금융회사코드</th>\n",
       "      <th>금융회사명</th>\n",
       "      <th>금융상품코드</th>\n",
       "      <th>금융상품명</th>\n",
       "      <th>기준일자</th>\n",
       "      <th>심의필일자</th>\n",
       "      <th>적재일자</th>\n",
       "    </tr>\n",
       "  </thead>\n",
       "  <tbody>\n",
       "    <tr>\n",
       "      <th>1373</th>\n",
       "      <td>대출_1420</td>\n",
       "      <td>88</td>\n",
       "      <td>신한은행</td>\n",
       "      <td>711117852</td>\n",
       "      <td>코로나19긴급유동성지원특례보증이차보전(2021.01.16판매중지)</td>\n",
       "      <td>20240104</td>\n",
       "      <td>준법감시인사전심사필제2021-40249-2호(2021.09.29~2022.09.29)</td>\n",
       "      <td>20240104</td>\n",
       "    </tr>\n",
       "    <tr>\n",
       "      <th>1374</th>\n",
       "      <td>대출_1421</td>\n",
       "      <td>88</td>\n",
       "      <td>신한은행</td>\n",
       "      <td>711117851</td>\n",
       "      <td>소상공인시장진흥공단이관물량처리이차보전대출(2020.12.31판매중지)</td>\n",
       "      <td>20240104</td>\n",
       "      <td>준법감시인사전심사필제2022-40357-5호(2022.03.17~2023.03.17)</td>\n",
       "      <td>20240104</td>\n",
       "    </tr>\n",
       "    <tr>\n",
       "      <th>1375</th>\n",
       "      <td>대출_1422</td>\n",
       "      <td>88</td>\n",
       "      <td>신한은행</td>\n",
       "      <td>612411100</td>\n",
       "      <td>Tops공무원우대론(2013.01.02판매중지)</td>\n",
       "      <td>20240104</td>\n",
       "      <td>준법감시인사전심사필제2023-41115-1호(2023.08.30~2024.08.28)</td>\n",
       "      <td>20240104</td>\n",
       "    </tr>\n",
       "  </tbody>\n",
       "</table>\n",
       "</div>"
      ],
      "text/plain": [
       "       대출_고유키  금융회사코드 금융회사명     금융상품코드  \\\n",
       "1373  대출_1420      88  신한은행  711117852   \n",
       "1374  대출_1421      88  신한은행  711117851   \n",
       "1375  대출_1422      88  신한은행  612411100   \n",
       "\n",
       "                                       금융상품명      기준일자  \\\n",
       "1373    코로나19긴급유동성지원특례보증이차보전(2021.01.16판매중지)  20240104   \n",
       "1374  소상공인시장진흥공단이관물량처리이차보전대출(2020.12.31판매중지)  20240104   \n",
       "1375              Tops공무원우대론(2013.01.02판매중지)  20240104   \n",
       "\n",
       "                                                심의필일자      적재일자  \n",
       "1373  준법감시인사전심사필제2021-40249-2호(2021.09.29~2022.09.29)  20240104  \n",
       "1374  준법감시인사전심사필제2022-40357-5호(2022.03.17~2023.03.17)  20240104  \n",
       "1375  준법감시인사전심사필제2023-41115-1호(2023.08.30~2024.08.28)  20240104  "
      ]
     },
     "execution_count": 79,
     "metadata": {},
     "output_type": "execute_result"
    }
   ],
   "source": [
    "data.dropna(subset=['금융회사코드'], inplace=True)\n",
    "data.tail(3)"
   ]
  },
  {
   "cell_type": "code",
   "execution_count": 82,
   "id": "38997595-9af4-4097-9789-6f6895fb9696",
   "metadata": {},
   "outputs": [
    {
     "data": {
      "text/html": [
       "<div>\n",
       "<style scoped>\n",
       "    .dataframe tbody tr th:only-of-type {\n",
       "        vertical-align: middle;\n",
       "    }\n",
       "\n",
       "    .dataframe tbody tr th {\n",
       "        vertical-align: top;\n",
       "    }\n",
       "\n",
       "    .dataframe thead th {\n",
       "        text-align: right;\n",
       "    }\n",
       "</style>\n",
       "<table border=\"1\" class=\"dataframe\">\n",
       "  <thead>\n",
       "    <tr style=\"text-align: right;\">\n",
       "      <th></th>\n",
       "      <th>대출_고유키</th>\n",
       "      <th>금융회사코드</th>\n",
       "      <th>금융회사명</th>\n",
       "      <th>금융상품코드</th>\n",
       "      <th>금융상품명</th>\n",
       "      <th>기준일자</th>\n",
       "      <th>심의필일자</th>\n",
       "      <th>적재일자</th>\n",
       "    </tr>\n",
       "  </thead>\n",
       "  <tbody>\n",
       "    <tr>\n",
       "      <th>0</th>\n",
       "      <td>대출_0</td>\n",
       "      <td>2</td>\n",
       "      <td>KDB산업은행</td>\n",
       "      <td>A100000000</td>\n",
       "      <td>혁신성장산업 지원자금</td>\n",
       "      <td>NaN</td>\n",
       "      <td>준법감시인 심의필제2023-10-013호(2023.10.27)</td>\n",
       "      <td>20240104</td>\n",
       "    </tr>\n",
       "  </tbody>\n",
       "</table>\n",
       "</div>"
      ],
      "text/plain": [
       "  대출_고유키 금융회사코드    금융회사명      금융상품코드        금융상품명 기준일자  \\\n",
       "0   대출_0      2  KDB산업은행  A100000000  혁신성장산업 지원자금  NaN   \n",
       "\n",
       "                                심의필일자      적재일자  \n",
       "0  준법감시인 심의필제2023-10-013호(2023.10.27)  20240104  "
      ]
     },
     "execution_count": 82,
     "metadata": {},
     "output_type": "execute_result"
    }
   ],
   "source": [
    "data['금융회사코드'] = data['금융회사코드'].apply(lambda x: str(int(x)))\n",
    "data.head(1)"
   ]
  },
  {
   "cell_type": "code",
   "execution_count": 83,
   "id": "ff05ce1d-3bbd-409e-bb1e-a2ea1aa585b5",
   "metadata": {},
   "outputs": [
    {
     "name": "stdout",
     "output_type": "stream",
     "text": [
      "<class 'pandas.core.frame.DataFrame'>\n",
      "RangeIndex: 1376 entries, 0 to 1375\n",
      "Data columns (total 8 columns):\n",
      " #   Column  Non-Null Count  Dtype \n",
      "---  ------  --------------  ----- \n",
      " 0   대출_고유키  1376 non-null   object\n",
      " 1   금융회사코드  1376 non-null   object\n",
      " 2   금융회사명   1376 non-null   object\n",
      " 3   금융상품코드  1116 non-null   object\n",
      " 4   금융상품명   1374 non-null   object\n",
      " 5   기준일자    651 non-null    object\n",
      " 6   심의필일자   1260 non-null   object\n",
      " 7   적재일자    1376 non-null   int64 \n",
      "dtypes: int64(1), object(7)\n",
      "memory usage: 86.1+ KB\n"
     ]
    }
   ],
   "source": [
    "data.info()"
   ]
  },
  {
   "cell_type": "code",
   "execution_count": 84,
   "id": "06860911-b14d-4825-a4f9-9b4bd4eb247b",
   "metadata": {},
   "outputs": [
    {
     "data": {
      "text/plain": [
       "대출_고유키      0\n",
       "금융회사코드      0\n",
       "금융회사명       0\n",
       "금융상품코드    260\n",
       "금융상품명       2\n",
       "기준일자      725\n",
       "심의필일자     116\n",
       "적재일자        0\n",
       "dtype: int64"
      ]
     },
     "execution_count": 84,
     "metadata": {},
     "output_type": "execute_result"
    }
   ],
   "source": [
    "data.isna().sum()"
   ]
  },
  {
   "cell_type": "code",
   "execution_count": 85,
   "id": "73dc9cb5-5806-4053-9d7b-ba1065c66814",
   "metadata": {},
   "outputs": [
    {
     "data": {
      "text/plain": [
       "1376"
      ]
     },
     "execution_count": 85,
     "metadata": {},
     "output_type": "execute_result"
    }
   ],
   "source": [
    "len(data)"
   ]
  },
  {
   "cell_type": "code",
   "execution_count": 86,
   "id": "42c9de7d-70ae-4943-8137-3fc676b50a1a",
   "metadata": {},
   "outputs": [],
   "source": [
    "def execute_sql(sql):\n",
    "    curs.execute(sql)\n",
    "    return curs.fetchall() "
   ]
  },
  {
   "cell_type": "code",
   "execution_count": 87,
   "id": "93e2c87a-c5e8-4f66-9429-28fb83b81ead",
   "metadata": {},
   "outputs": [],
   "source": [
    "def update_sql(sql):\n",
    "    curs.execute(sql)\n",
    "    curs.fetchall() "
   ]
  },
  {
   "cell_type": "raw",
   "id": "7506cd4d-1917-4e25-8e8d-e2374bef12c7",
   "metadata": {},
   "source": [
    "sql = \"DROP TABLE deposit;\"\n",
    "execute_sql(sql)"
   ]
  },
  {
   "cell_type": "code",
   "execution_count": 88,
   "id": "5153c132-5a7b-46c5-895e-45c310f79607",
   "metadata": {},
   "outputs": [],
   "source": [
    "sql = \"CREATE TABLE card(카드_고유키 varchar(100) NOT NULL, \\\n",
    "    카드회사코드 int NOT NULL, \\\n",
    "    카드회사명  varchar(1000) NOT NULL, \\\n",
    "    상품유형 varchar(100), \\\n",
    "    상품코드 varchar(200), \\\n",
    "    상품명 varchar(1000), \\\n",
    "    카드등급 varchar(100), \\\n",
    "    후불교통 varchar(100), \\\n",
    "    카드이미지 varchar(100), \\\n",
    "    심의필일자 varchar(1000), \\\n",
    "    적재일자 int, \\\n",
    "    PRIMARY KEY(카드_고유키) \\\n",
    ")\""
   ]
  },
  {
   "cell_type": "code",
   "execution_count": 89,
   "id": "539ac6a1-57f0-47ad-ac54-e7db1ae2a4bd",
   "metadata": {
    "scrolled": true
   },
   "outputs": [
    {
     "data": {
      "text/plain": [
       "[]"
      ]
     },
     "execution_count": 89,
     "metadata": {},
     "output_type": "execute_result"
    }
   ],
   "source": [
    "execute_sql(sql)"
   ]
  },
  {
   "cell_type": "code",
   "execution_count": 90,
   "id": "23ebe208-7da1-43a3-a52b-6d5b25fadcfb",
   "metadata": {},
   "outputs": [
    {
     "data": {
      "text/plain": [
       "(('card',),)"
      ]
     },
     "execution_count": 90,
     "metadata": {},
     "output_type": "execute_result"
    }
   ],
   "source": [
    "sql = \"SHOW TABLES\"\n",
    "execute_sql(sql)"
   ]
  },
  {
   "cell_type": "code",
   "execution_count": 91,
   "id": "901b67be-be05-495d-9ca0-16947fe7d2f2",
   "metadata": {},
   "outputs": [
    {
     "name": "stdout",
     "output_type": "stream",
     "text": [
      "<class 'pandas.core.frame.DataFrame'>\n",
      "RangeIndex: 1376 entries, 0 to 1375\n",
      "Data columns (total 8 columns):\n",
      " #   Column  Non-Null Count  Dtype \n",
      "---  ------  --------------  ----- \n",
      " 0   대출_고유키  1376 non-null   object\n",
      " 1   금융회사코드  1376 non-null   object\n",
      " 2   금융회사명   1376 non-null   object\n",
      " 3   금융상품코드  1116 non-null   object\n",
      " 4   금융상품명   1374 non-null   object\n",
      " 5   기준일자    651 non-null    object\n",
      " 6   심의필일자   1260 non-null   object\n",
      " 7   적재일자    1376 non-null   int64 \n",
      "dtypes: int64(1), object(7)\n",
      "memory usage: 86.1+ KB\n"
     ]
    }
   ],
   "source": [
    "data.info()"
   ]
  },
  {
   "cell_type": "code",
   "execution_count": 92,
   "id": "8f1fe7e8-f471-4e12-bd1b-979041665457",
   "metadata": {},
   "outputs": [],
   "source": [
    "sql = \"CREATE TABLE DEPOSIT(보증_고유키 varchar(100) NOT NULL, \\\n",
    "    금융회사코드 varchar(1000) NOT NULL, \\\n",
    "    금융회사명 varchar(1000) NOT NULL, \\\n",
    "    상품종류 varchar(1000), \\\n",
    "    상품유형 varchar(1000), \\\n",
    "    금융상품코드 varchar(1000), \\\n",
    "    금융상품명 varchar(2000), \\\n",
    "    PRIMARY KEY(보증_고유키) \\\n",
    ")\""
   ]
  },
  {
   "cell_type": "code",
   "execution_count": 93,
   "id": "58626572-71ce-4e0f-8585-1cb4fd825ea7",
   "metadata": {},
   "outputs": [
    {
     "data": {
      "text/plain": [
       "[]"
      ]
     },
     "execution_count": 93,
     "metadata": {},
     "output_type": "execute_result"
    }
   ],
   "source": [
    "execute_sql(sql)"
   ]
  },
  {
   "cell_type": "code",
   "execution_count": 94,
   "id": "046fcff9-01f1-4ae0-9f9a-b126543399f5",
   "metadata": {},
   "outputs": [
    {
     "name": "stdout",
     "output_type": "stream",
     "text": [
      "<class 'pandas.core.frame.DataFrame'>\n",
      "RangeIndex: 1376 entries, 0 to 1375\n",
      "Data columns (total 8 columns):\n",
      " #   Column  Non-Null Count  Dtype \n",
      "---  ------  --------------  ----- \n",
      " 0   대출_고유키  1376 non-null   object\n",
      " 1   금융회사코드  1376 non-null   object\n",
      " 2   금융회사명   1376 non-null   object\n",
      " 3   금융상품코드  1116 non-null   object\n",
      " 4   금융상품명   1374 non-null   object\n",
      " 5   기준일자    651 non-null    object\n",
      " 6   심의필일자   1260 non-null   object\n",
      " 7   적재일자    1376 non-null   int64 \n",
      "dtypes: int64(1), object(7)\n",
      "memory usage: 86.1+ KB\n"
     ]
    }
   ],
   "source": [
    "data.info()"
   ]
  },
  {
   "cell_type": "code",
   "execution_count": 95,
   "id": "7a1ffa47-1407-4bef-a83f-607fafe84518",
   "metadata": {},
   "outputs": [],
   "source": [
    "sql = \"CREATE TABLE loan(대출_고유키 varchar(100) NOT NULL, \\\n",
    "    금융회사코드 varchar(1000) NOT NULL, \\\n",
    "    금융회사명 varchar(200) NOT NULL, \\\n",
    "    금융상품코드 varchar(1000), \\\n",
    "    금융상품명 varchar(200), \\\n",
    "    기준일자 varchar(1000), \\\n",
    "    심의필일자 varchar(1000), \\\n",
    "    적재일자 int, \\\n",
    "    PRIMARY KEY(대출_고유키) \\\n",
    ")\""
   ]
  },
  {
   "cell_type": "code",
   "execution_count": 96,
   "id": "3af6dfb9-6a83-4e78-a975-52f2877de5d9",
   "metadata": {},
   "outputs": [
    {
     "data": {
      "text/plain": [
       "[]"
      ]
     },
     "execution_count": 96,
     "metadata": {},
     "output_type": "execute_result"
    }
   ],
   "source": [
    "execute_sql(sql)"
   ]
  },
  {
   "cell_type": "code",
   "execution_count": 97,
   "id": "3c48f05c-64ac-4531-b90e-0537503b1157",
   "metadata": {},
   "outputs": [],
   "source": [
    "curs.fetchall()\n",
    "curs.close()\n",
    "conn.commit()\n",
    "conn.close()"
   ]
  },
  {
   "cell_type": "code",
   "execution_count": null,
   "id": "8a0abf2a-0d30-4319-a0f3-2630640d4433",
   "metadata": {},
   "outputs": [],
   "source": []
  }
 ],
 "metadata": {
  "kernelspec": {
   "display_name": "Python 3 (ipykernel)",
   "language": "python",
   "name": "python3"
  },
  "language_info": {
   "codemirror_mode": {
    "name": "ipython",
    "version": 3
   },
   "file_extension": ".py",
   "mimetype": "text/x-python",
   "name": "python",
   "nbconvert_exporter": "python",
   "pygments_lexer": "ipython3",
   "version": "3.10.13"
  }
 },
 "nbformat": 4,
 "nbformat_minor": 5
}
