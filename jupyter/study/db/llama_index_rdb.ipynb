{
 "cells": [
  {
   "cell_type": "code",
   "execution_count": 17,
   "id": "793af734-b59c-4a32-b5d1-04c30ae937e5",
   "metadata": {},
   "outputs": [],
   "source": [
    "import os \n",
    "from llama_index import download_loader\n",
    "from llama_index.utilities.sql_wrapper import SQLDatabase\n",
    "\n",
    "DatabaseReader = download_loader('DatabaseReader')"
   ]
  },
  {
   "cell_type": "code",
   "execution_count": 18,
   "id": "665e2fce-3514-4f8d-93ce-5adfda576eb7",
   "metadata": {},
   "outputs": [],
   "source": [
    "default_path = os.getcwd()\n",
    "data_path = os.path.join('/workspace/data/')"
   ]
  },
  {
   "cell_type": "code",
   "execution_count": 19,
   "id": "489aec3f-5322-47c9-a258-c0bb5e887cec",
   "metadata": {},
   "outputs": [],
   "source": [
    "host = '172.19.240.1'\n",
    "port = '3306'\n",
    "username = 'cori'\n",
    "password = 'Dhwoehd12!'\n",
    "database_schema = 'shinhan'\n",
    "mysql_uri = f\"mysql+pymysql://{username}:{password}@{host}:{port}/{database_schema}\"\n",
    "\n",
    "reader = DatabaseReader(\n",
    "    sql_database = SQLDatabase.from_uri(mysql_uri,sample_rows_in_table_info=2)\n",
    ")"
   ]
  },
  {
   "cell_type": "code",
   "execution_count": 23,
   "id": "2d9a2f81-49b1-4ade-b1c0-f4d61f99bd8e",
   "metadata": {},
   "outputs": [
    {
     "data": {
      "text/plain": [
       "[Document(id_='9958c300-fefe-4cab-811d-33c82a121f48', embedding=None, metadata={}, excluded_embed_metadata_keys=[], excluded_llm_metadata_keys=[], relationships={}, hash='68251394470588af9c3f5070c841ad1c8adf4072a5f9e2e529326c162db620db', text='카드_0, 323, 수협은행카드, , , , , N, 20240104/cardImage_Y/.png, , 20240104', start_char_idx=None, end_char_idx=None, text_template='{metadata_str}\\n\\n{content}', metadata_template='{key}: {value}', metadata_seperator='\\n'),\n",
       " Document(id_='b6a73811-377f-400d-8303-99d1fd13d115', embedding=None, metadata={}, excluded_embed_metadata_keys=[], excluded_llm_metadata_keys=[], relationships={}, hash='4d5738142ce1623e5de8808200bb920b1e5a2cac1efab98e40b3369437fbed3a', text='카드_1, 323, 수협은행카드, , C00053, 휴먼라이프 S1 수협카드, , N, 20240104/cardImage_Y/C00053.png, 준법감시인심의필상제2023-2517(2023.07.10.기준), 20240104', start_char_idx=None, end_char_idx=None, text_template='{metadata_str}\\n\\n{content}', metadata_template='{key}: {value}', metadata_seperator='\\n'),\n",
       " Document(id_='e654be23-5f80-492b-ab75-d0417d90bed9', embedding=None, metadata={}, excluded_embed_metadata_keys=[], excluded_llm_metadata_keys=[], relationships={}, hash='c0722b4143a46adfcab559e8303330c4780bbe959d36ec009263336d6638a591', text='카드_10, 323, 수협은행카드, , C00040, 독도사랑카드 (개인), , N, 20240104/cardImage_Y/C00040.png, 준법감시인심의필상제2023-4305(2023.12.21.기준), 20240104', start_char_idx=None, end_char_idx=None, text_template='{metadata_str}\\n\\n{content}', metadata_template='{key}: {value}', metadata_seperator='\\n')]"
      ]
     },
     "execution_count": 23,
     "metadata": {},
     "output_type": "execute_result"
    }
   ],
   "source": [
    "query = f'SELECT * FROM card LIMIT 3;'\n",
    "reader.load_data(query)"
   ]
  },
  {
   "cell_type": "code",
   "execution_count": null,
   "id": "79b8b4a0-2e23-4e18-b03e-9c795ab68ebc",
   "metadata": {},
   "outputs": [],
   "source": []
  }
 ],
 "metadata": {
  "kernelspec": {
   "display_name": "Python 3 (ipykernel)",
   "language": "python",
   "name": "python3"
  },
  "language_info": {
   "codemirror_mode": {
    "name": "ipython",
    "version": 3
   },
   "file_extension": ".py",
   "mimetype": "text/x-python",
   "name": "python",
   "nbconvert_exporter": "python",
   "pygments_lexer": "ipython3",
   "version": "3.10.13"
  }
 },
 "nbformat": 4,
 "nbformat_minor": 5
}
