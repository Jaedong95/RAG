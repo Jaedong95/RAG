{
 "cells": [
  {
   "cell_type": "markdown",
   "id": "717fae2b-06d8-4696-b9b2-a52df7840834",
   "metadata": {},
   "source": [
    "### Default Setting "
   ]
  },
  {
   "cell_type": "code",
   "execution_count": 12,
   "id": "50223d2e-6a8a-4851-8090-847161286044",
   "metadata": {},
   "outputs": [],
   "source": [
    "from llama_index import VectorStoreIndex, SimpleDirectoryReader, ServiceContext\n",
    "from llama_index.vector_stores import ChromaVectorStore\n",
    "from llama_index.readers.chroma import ChromaReader\n",
    "from llama_index.storage.storage_context import StorageContext\n",
    "# from transformers import AutoTokenizer, AutoModel\n",
    "from llama_index.embeddings import HuggingFaceEmbedding\n",
    "from llama_index.node_parser import SentenceSplitter \n",
    "from llama_index.schema import MetadataMode\n",
    "from IPython.display import Markdown, display\n",
    "import chromadb\n",
    "import pandas as pd \n",
    "import openai\n",
    "import os\n",
    "import getpass"
   ]
  },
  {
   "cell_type": "code",
   "execution_count": 8,
   "id": "90223166-f962-4bdb-8827-99521b8e1a18",
   "metadata": {},
   "outputs": [],
   "source": [
    "data_path = os.path.join('/workspace/data/')\n",
    "index_path = os.path.join('/workspace/db/local')"
   ]
  },
  {
   "cell_type": "code",
   "execution_count": 3,
   "id": "09e1113d-0642-4d5c-bd33-4dbadb7f9a1f",
   "metadata": {},
   "outputs": [
    {
     "name": "stdin",
     "output_type": "stream",
     "text": [
      "OpenAI API Key: ········\n"
     ]
    }
   ],
   "source": [
    "os.environ[\"OPENAI_API_KEY\"] = getpass.getpass(\"OpenAI API Key:\")\n",
    "openai.api_key = os.environ[\"OPENAI_API_KEY\"]"
   ]
  },
  {
   "cell_type": "code",
   "execution_count": 4,
   "id": "e2f8dd58-be7b-4174-bba1-7b169abc8cfd",
   "metadata": {},
   "outputs": [],
   "source": [
    "model_name = 'kakaobank/kf-deberta-base'\n",
    "embed_model = HuggingFaceEmbedding(model_name=model_name)"
   ]
  },
  {
   "cell_type": "markdown",
   "id": "95000eb6-8cce-4958-a8ea-982fd24995be",
   "metadata": {},
   "source": [
    "### Load Indices "
   ]
  },
  {
   "cell_type": "code",
   "execution_count": 15,
   "id": "6a56eba6-7741-41af-82a7-997f3209afc8",
   "metadata": {},
   "outputs": [],
   "source": [
    "from llama_index import StorageContext, load_index_from_storage, load_indices_from_storage"
   ]
  },
  {
   "cell_type": "code",
   "execution_count": 13,
   "id": "1c73dc59-c925-428a-93cc-5b82f2f17811",
   "metadata": {},
   "outputs": [],
   "source": [
    "parser = SentenceSplitter(chunk_size=512, chunk_overlap=30)   # SentenceSplitter(chunk_size=1024, chunk_overlap=20)"
   ]
  },
  {
   "cell_type": "code",
   "execution_count": 17,
   "id": "55090db2-4590-4eb5-be71-11ba66232b18",
   "metadata": {},
   "outputs": [],
   "source": [
    "desc_storage_context = StorageContext.from_defaults(persist_dir=os.path.join(index_path, 'desc'))\n",
    "features_storage_context = StorageContext.from_defaults(persist_dir=os.path.join(index_path, 'features'))\n",
    "qualification_storage_context = StorageContext.from_defaults(persist_dir=os.path.join(index_path, 'qualification'))"
   ]
  },
  {
   "cell_type": "code",
   "execution_count": 18,
   "id": "f92e5179-e2e4-4c4a-8e5c-bc838bb668a9",
   "metadata": {},
   "outputs": [],
   "source": [
    "service_context = ServiceContext.from_defaults(node_parser=parser, embed_model=embed_model)"
   ]
  },
  {
   "cell_type": "code",
   "execution_count": 31,
   "id": "7d648694-553d-4c35-a9b4-19a163bb68de",
   "metadata": {},
   "outputs": [],
   "source": [
    "# service_context 전달 안해주면 query 시 dimension 오류 발생 \n",
    "features_idx = load_index_from_storage(features_storage_context, index_id='loan_tmp', service_context=service_context)\n",
    "desc_idx = load_indices_from_storage(desc_storage_context, index_ids=['card_tmp', 'loan_tmp', 'deposit_tmp'], service_context=service_context)\n",
    "qualification_idx = load_index_from_storage(qualification_storage_context, index_id='loan_tmp', service_context=service_context)"
   ]
  },
  {
   "cell_type": "code",
   "execution_count": 27,
   "id": "a8247e12-bc2a-4a71-bb70-4f38eac77e14",
   "metadata": {},
   "outputs": [
    {
     "data": {
      "text/plain": [
       "<llama_index.indices.vector_store.base.VectorStoreIndex at 0x7f3a087739d0>"
      ]
     },
     "execution_count": 27,
     "metadata": {},
     "output_type": "execute_result"
    }
   ],
   "source": [
    "desc_idx[0]"
   ]
  },
  {
   "cell_type": "code",
   "execution_count": 34,
   "id": "0668f981-8de6-4e99-a0db-e2e7dfc0a638",
   "metadata": {
    "scrolled": true
   },
   "outputs": [
    {
     "data": {
      "text/plain": [
       "Response(response='서민금융진흥원의 보증을 통해 신청 가능한 카드의 보증 자격은 군인연금수급자임을 증명하는 신분증을 가지고 있는 사람들입니다. 이러한 사람들은 전국 군복지시설 및 5대 대표업종 청구할인, 버스요금 지원서비스를 받을 수 있습니다.', source_nodes=[NodeWithScore(node=TextNode(id_='902300ff-cbca-47f7-bd8d-5235a4c79b5c', embedding=None, metadata={'category': 'card'}, excluded_embed_metadata_keys=[], excluded_llm_metadata_keys=['category'], relationships={<NodeRelationship.SOURCE: '1'>: RelatedNodeInfo(node_id='카드_1016', node_type=<ObjectType.DOCUMENT: '4'>, metadata={'category': 'card'}, hash='f1d7cec412088a7b70fb8e6387a4e2eb1e735924b3add09139ec520f6b849c1f'), <NodeRelationship.PREVIOUS: '2'>: RelatedNodeInfo(node_id='5cd004e9-c047-437d-a69c-60ae0e78bff8', node_type=<ObjectType.TEXT: '1'>, metadata={'category': 'card'}, hash='07f50829d05259589f87b15fbb2aa65512a9f817d23e35896e89eed6b02d4a86'), <NodeRelationship.NEXT: '3'>: RelatedNodeInfo(node_id='206c2c2c-0d11-47f9-a8e9-af8b852845ee', node_type=<ObjectType.TEXT: '1'>, metadata={}, hash='4c30177fed83222468f96faa993e4a64ea70059be9d572e2bde3941b02476d07')}, hash='f1d7cec412088a7b70fb8e6387a4e2eb1e735924b3add09139ec520f6b849c1f', text='서민금융진흥원의 보증을 통해 신청 가능한 카드', start_char_idx=0, end_char_idx=25, text_template='{metadata_str}\\n\\n{content}', metadata_template='{key}: {value}', metadata_seperator='\\n'), score=0.6120229969209772), NodeWithScore(node=TextNode(id_='8f16525a-0d05-434b-9274-ac4e9fa2173f', embedding=None, metadata={'category': 'card'}, excluded_embed_metadata_keys=[], excluded_llm_metadata_keys=['category'], relationships={<NodeRelationship.SOURCE: '1'>: RelatedNodeInfo(node_id='카드_80', node_type=<ObjectType.DOCUMENT: '4'>, metadata={'category': 'card'}, hash='1ff417d5fd10754d6e3d7790653e6a95124af80aefb7295196a77710b2b9728f'), <NodeRelationship.PREVIOUS: '2'>: RelatedNodeInfo(node_id='769ff874-b7ea-4c7a-9939-3836f0a2648b', node_type=<ObjectType.TEXT: '1'>, metadata={'category': 'card'}, hash='c9d2e59df928a9a31a451231bbb57b70e2b639f572e27938d6a6f7053e68111f'), <NodeRelationship.NEXT: '3'>: RelatedNodeInfo(node_id='0f0ac24d-b7e7-48e1-92bb-19519434f2a2', node_type=<ObjectType.TEXT: '1'>, metadata={}, hash='e6776b478b3282e64ebda580e56de2a2032324ceb039498f956def57d3dbbca0')}, hash='1ff417d5fd10754d6e3d7790653e6a95124af80aefb7295196a77710b2b9728f', text='군인연금수급자임을 증명하는 신분증 기능에 전국 군복지시설 및 5대 대표업종 청구할인, 버스요금 지원서비스', start_char_idx=0, end_char_idx=58, text_template='{metadata_str}\\n\\n{content}', metadata_template='{key}: {value}', metadata_seperator='\\n'), score=0.6044373926139219)], metadata={'902300ff-cbca-47f7-bd8d-5235a4c79b5c': {'category': 'card'}, '8f16525a-0d05-434b-9274-ac4e9fa2173f': {'category': 'card'}})"
      ]
     },
     "execution_count": 34,
     "metadata": {},
     "output_type": "execute_result"
    }
   ],
   "source": [
    "query_engine = desc_idx[0].as_query_engine()\n",
    "query_engine.query('보증 자격')"
   ]
  },
  {
   "cell_type": "markdown",
   "id": "b571c2d6-9690-4841-a090-09b51b0990ea",
   "metadata": {},
   "source": [
    "### Define Retrieval "
   ]
  },
  {
   "cell_type": "code",
   "execution_count": null,
   "id": "d4cd9d3e-4467-4d45-9c24-46c38e7a91d1",
   "metadata": {},
   "outputs": [],
   "source": []
  }
 ],
 "metadata": {
  "kernelspec": {
   "display_name": "Python 3 (ipykernel)",
   "language": "python",
   "name": "python3"
  },
  "language_info": {
   "codemirror_mode": {
    "name": "ipython",
    "version": 3
   },
   "file_extension": ".py",
   "mimetype": "text/x-python",
   "name": "python",
   "nbconvert_exporter": "python",
   "pygments_lexer": "ipython3",
   "version": "3.10.13"
  }
 },
 "nbformat": 4,
 "nbformat_minor": 5
}
