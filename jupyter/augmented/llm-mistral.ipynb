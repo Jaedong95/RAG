{
 "cells": [
  {
   "cell_type": "code",
   "execution_count": 1,
   "id": "7e8fc92a-7af7-4c1a-8d75-1eb30b10483f",
   "metadata": {},
   "outputs": [],
   "source": [
    "import torch\n",
    "import os \n",
    "from transformers import AutoTokenizer, AutoModelForCausalLM, AutoConfig\n",
    "from transformers import TextStreamer, GenerationConfig"
   ]
  },
  {
   "cell_type": "code",
   "execution_count": 2,
   "id": "485dad6c-9fd6-4d95-a567-e3a73e190593",
   "metadata": {},
   "outputs": [],
   "source": [
    "access_tok = ''   # Hugging Face Access Token"
   ]
  },
  {
   "cell_type": "code",
   "execution_count": 3,
   "id": "06fba0e0-195e-4b5f-9fac-4e4dc33d844d",
   "metadata": {},
   "outputs": [],
   "source": [
    "default_path = os.getcwd()\n",
    "data_path = os.path.join(default_path, '../../data')\n",
    "model_path = os.path.join(default_path, '../../model')\n",
    "config_path = os.path.join(default_path, '../../config')"
   ]
  },
  {
   "cell_type": "code",
   "execution_count": 4,
   "id": "2a224a93-77de-4578-aad9-8072e0420d2c",
   "metadata": {},
   "outputs": [
    {
     "data": {
      "application/vnd.jupyter.widget-view+json": {
       "model_id": "f33751e2cbe7459ea5540f3c242e1157",
       "version_major": 2,
       "version_minor": 0
      },
      "text/plain": [
       "Loading checkpoint shards:   0%|          | 0/2 [00:00<?, ?it/s]"
      ]
     },
     "metadata": {},
     "output_type": "display_data"
    }
   ],
   "source": [
    "model_name='davidkim205/komt-mistral-7b-v1'\n",
    "model = AutoModelForCausalLM.from_pretrained(model_name, torch_dtype=torch.float16, low_cpu_mem_usage=True) # , device_map=\"auto\")\n",
    "tokenizer = AutoTokenizer.from_pretrained(model_name)\n",
    "streamer = TextStreamer(tokenizer)"
   ]
  },
  {
   "cell_type": "code",
   "execution_count": 5,
   "id": "d91ee567-0a4d-42b1-b0e9-8fdc85fd5752",
   "metadata": {},
   "outputs": [
    {
     "data": {
      "text/plain": [
       "MistralForCausalLM(\n",
       "  (model): MistralModel(\n",
       "    (embed_tokens): Embedding(32000, 4096)\n",
       "    (layers): ModuleList(\n",
       "      (0-31): 32 x MistralDecoderLayer(\n",
       "        (self_attn): MistralAttention(\n",
       "          (q_proj): Linear(in_features=4096, out_features=4096, bias=False)\n",
       "          (k_proj): Linear(in_features=4096, out_features=1024, bias=False)\n",
       "          (v_proj): Linear(in_features=4096, out_features=1024, bias=False)\n",
       "          (o_proj): Linear(in_features=4096, out_features=4096, bias=False)\n",
       "          (rotary_emb): MistralRotaryEmbedding()\n",
       "        )\n",
       "        (mlp): MistralMLP(\n",
       "          (gate_proj): Linear(in_features=4096, out_features=14336, bias=False)\n",
       "          (up_proj): Linear(in_features=4096, out_features=14336, bias=False)\n",
       "          (down_proj): Linear(in_features=14336, out_features=4096, bias=False)\n",
       "          (act_fn): SiLU()\n",
       "        )\n",
       "        (input_layernorm): MistralRMSNorm()\n",
       "        (post_attention_layernorm): MistralRMSNorm()\n",
       "      )\n",
       "    )\n",
       "    (norm): MistralRMSNorm()\n",
       "  )\n",
       "  (lm_head): Linear(in_features=4096, out_features=32000, bias=False)\n",
       ")"
      ]
     },
     "execution_count": 5,
     "metadata": {},
     "output_type": "execute_result"
    }
   ],
   "source": [
    "g_device = torch.device(\"cuda\") if torch.cuda.is_available() else \"cpu\"\n",
    "model.to(g_device)"
   ]
  },
  {
   "cell_type": "code",
   "execution_count": 6,
   "id": "89639b9d-19dc-47cc-bc08-c8d14f71a776",
   "metadata": {},
   "outputs": [
    {
     "data": {
      "text/plain": [
       "device(type='cuda')"
      ]
     },
     "execution_count": 6,
     "metadata": {},
     "output_type": "execute_result"
    }
   ],
   "source": [
    "g_device"
   ]
  },
  {
   "cell_type": "code",
   "execution_count": 7,
   "id": "40719219-74be-4293-bb2b-fd8eaf285296",
   "metadata": {},
   "outputs": [],
   "source": [
    "def gen(x):\n",
    "    generation_config = GenerationConfig(\n",
    "        temperature=0.8,\n",
    "        top_p=0.8,\n",
    "        top_k=100,\n",
    "        max_new_tokens=1024,\n",
    "        early_stopping=True,\n",
    "        do_sample=True,\n",
    "    )\n",
    "    q = f\"[INST]{x} [/INST]\"\n",
    "    gened = model.generate(\n",
    "        **tokenizer(\n",
    "            q,\n",
    "            return_tensors='pt',\n",
    "            return_token_type_ids=False\n",
    "        ).to('cuda'),\n",
    "        generation_config=generation_config,\n",
    "        pad_token_id=tokenizer.eos_token_id,\n",
    "        eos_token_id=tokenizer.eos_token_id,\n",
    "        streamer=streamer,\n",
    "    )\n",
    "    result_str = tokenizer.decode(gened[0])\n",
    "\n",
    "    start_tag = f\"\\n\\n### Response: \"\n",
    "    start_index = result_str.find(start_tag)\n",
    "\n",
    "    if start_index != -1:\n",
    "        result_str = result_str[start_index + len(start_tag):].strip()\n",
    "    return result_str"
   ]
  },
  {
   "cell_type": "code",
   "execution_count": 8,
   "id": "eeeb3b2c-1bcb-4269-b143-8859c4410307",
   "metadata": {},
   "outputs": [
    {
     "name": "stderr",
     "output_type": "stream",
     "text": [
      "/opt/conda/lib/python3.10/site-packages/transformers/generation/configuration_utils.py:430: UserWarning: `num_beams` is set to 1. However, `early_stopping` is set to `True` -- this flag is only used in beam-based generation modes. You should set `num_beams>1` or unset `early_stopping`. This was detected when initializing the generation config instance, which means the corresponding file may hold incorrect parameterization and should be fixed.\n",
      "  warnings.warn(\n",
      "/opt/conda/lib/python3.10/site-packages/transformers/generation/configuration_utils.py:430: UserWarning: `num_beams` is set to 1. However, `early_stopping` is set to `True` -- this flag is only used in beam-based generation modes. You should set `num_beams>1` or unset `early_stopping`.\n",
      "  warnings.warn(\n"
     ]
    },
    {
     "name": "stdout",
     "output_type": "stream",
     "text": [
      "<s> [INST]제주도를 1박2일로 혼자 여행하려고 하는데 여행 코스를 만들어줘 [/INST]제주도를 1박 2일 정도 여행할 때 꼭 가봐야 할 곳은 다양하지만, 제주를 처음 방문하는 사람들이 가장 먼저 알아둬야 할 곳은 제주의 대표적인 명소인 한라산입니다.\n",
      "다음으로 제주도의 대표적인 해변인 하상해수욕장, 청량리해수욕장, 포항해수욕장, 미금해수욕장, 모슬포 해수욕장, 화북해수욕장 등이 있습니다. \n",
      "\n",
      "또한, 제주도의 유일한 섬인 덕천사지 바위로 가는 방법은 자전거를 이용하는 것이 가장 좋습니다. 이곳은 아름다운 자연경관과 바위를 볼 수 있는 곳입니다. \n",
      "\n",
      "그 외에도 제주도의 다양한 관광지를 이용할 수 있습니다. 아래에 제주도를 여행할 때 꼭 가봐야 할 곳을 정리해봤습니다. \n",
      "\n",
      "- 대표적인 명소: 한라산, 해넘이 전망대, 한라산 별곽, 성산일출봉, 성산일출봉 천년숲, 성산일출봉 천년숲 천년숲 풍경, 성산일출봉 천년숲 하늘바위, 성산일출봉 천년숲 하늘바위 천년숲, 성산일출봉 천년숲 하늘바위 천년숲 하늘바위, 성산일출봉 천년숲 하늘바위 천년숲, 성산일출봉 천년숲 하늘바위 천년숲 하늘바위, 성산일출봉 천년숲 하늘바위 천년숲, 성산일출봉 천년숲 하늘바위 천년숲 하늘바위, 성산일출봉 천년숲 하늘바위 천년숲, 성산일출봉 천년숲 하늘바위 천년숲, 성산일출봉 천년숲 하늘바위 천년숲 하늘바위, 성산일출봉 천년숲 하늘바위 천년숲, 성산일출봉 천년숲 하늘바위 천년숲, 성산일출봉 천년숲 하늘바위 천년숲, 성산일출봉 천년숲 하늘바위 천년숲, 성산일출봉 천년숲 하늘바위 천년숲, 성산일출봉 천년숲 하늘바위 천년숲, 성산일출봉 천년숲 하늘바위 천년숲, 성산일출봉 천년숲 하늘바위 천년숲, 성산일출봉 천년숲 하늘바위 천년숲, 성산일출\n"
     ]
    },
    {
     "data": {
      "text/plain": [
       "'<s> [INST]제주도를 1박2일로 혼자 여행하려고 하는데 여행 코스를 만들어줘 [/INST]제주도를 1박 2일 정도 여행할 때 꼭 가봐야 할 곳은 다양하지만, 제주를 처음 방문하는 사람들이 가장 먼저 알아둬야 할 곳은 제주의 대표적인 명소인 한라산입니다.\\n다음으로 제주도의 대표적인 해변인 하상해수욕장, 청량리해수욕장, 포항해수욕장, 미금해수욕장, 모슬포 해수욕장, 화북해수욕장 등이 있습니다. \\n\\n또한, 제주도의 유일한 섬인 덕천사지 바위로 가는 방법은 자전거를 이용하는 것이 가장 좋습니다. 이곳은 아름다운 자연경관과 바위를 볼 수 있는 곳입니다. \\n\\n그 외에도 제주도의 다양한 관광지를 이용할 수 있습니다. 아래에 제주도를 여행할 때 꼭 가봐야 할 곳을 정리해봤습니다. \\n\\n- 대표적인 명소: 한라산, 해넘이 전망대, 한라산 별곽, 성산일출봉, 성산일출봉 천년숲, 성산일출봉 천년숲 천년숲 풍경, 성산일출봉 천년숲 하늘바위, 성산일출봉 천년숲 하늘바위 천년숲, 성산일출봉 천년숲 하늘바위 천년숲 하늘바위, 성산일출봉 천년숲 하늘바위 천년숲, 성산일출봉 천년숲 하늘바위 천년숲 하늘바위, 성산일출봉 천년숲 하늘바위 천년숲, 성산일출봉 천년숲 하늘바위 천년숲 하늘바위, 성산일출봉 천년숲 하늘바위 천년숲, 성산일출봉 천년숲 하늘바위 천년숲, 성산일출봉 천년숲 하늘바위 천년숲 하늘바위, 성산일출봉 천년숲 하늘바위 천년숲, 성산일출봉 천년숲 하늘바위 천년숲, 성산일출봉 천년숲 하늘바위 천년숲, 성산일출봉 천년숲 하늘바위 천년숲, 성산일출봉 천년숲 하늘바위 천년숲, 성산일출봉 천년숲 하늘바위 천년숲, 성산일출봉 천년숲 하늘바위 천년숲, 성산일출봉 천년숲 하늘바위 천년숲, 성산일출봉 천년숲 하늘바위 천년숲, 성산일출'"
      ]
     },
     "execution_count": 8,
     "metadata": {},
     "output_type": "execute_result"
    }
   ],
   "source": [
    "gen('제주도를 1박2일로 혼자 여행하려고 하는데 여행 코스를 만들어줘')"
   ]
  },
  {
   "cell_type": "markdown",
   "id": "348f6371-f1c7-4975-8c98-ef38c0a1febd",
   "metadata": {},
   "source": [
    "#### PEFT "
   ]
  },
  {
   "cell_type": "code",
   "execution_count": 4,
   "id": "2957b4f7-6516-4f63-812c-30f5642804a5",
   "metadata": {},
   "outputs": [],
   "source": [
    "import torch\n",
    "from transformers import AutoTokenizer, AutoModelForCausalLM, BitsAndBytesConfig\n",
    "from peft import PeftModel, PeftConfig\n",
    "from transformers import TextStreamer, GenerationConfig"
   ]
  },
  {
   "cell_type": "code",
   "execution_count": 5,
   "id": "7184399a-c342-4aaf-8837-ce4a3e80fc46",
   "metadata": {},
   "outputs": [
    {
     "data": {
      "application/vnd.jupyter.widget-view+json": {
       "model_id": "0755adc50b7947139d7cb7260178be30",
       "version_major": 2,
       "version_minor": 0
      },
      "text/plain": [
       "Loading checkpoint shards:   0%|          | 0/2 [00:00<?, ?it/s]"
      ]
     },
     "metadata": {},
     "output_type": "display_data"
    }
   ],
   "source": [
    "model='davidkim205/komt-mistral-7b-v1'\n",
    "peft_model_name = 'davidkim205/komt-mistral-7b-v1-lora'\n",
    "config = PeftConfig.from_pretrained(peft_model_name)\n",
    "bnb_config = BitsAndBytesConfig(\n",
    "    load_in_4bit=True,\n",
    "    bnb_4bit_use_double_quant=True,\n",
    "    bnb_4bit_quant_type=\"nf4\",\n",
    "    bnb_4bit_compute_dtype=torch.bfloat16\n",
    ")\n",
    "config.base_model_name_or_path = model\n",
    "model = AutoModelForCausalLM.from_pretrained(config.base_model_name_or_path, quantization_config=bnb_config, device_map=\"auto\")\n",
    "model = PeftModel.from_pretrained(model, peft_model_name)\n",
    "tokenizer = AutoTokenizer.from_pretrained(config.base_model_name_or_path)\n",
    "streamer = TextStreamer(tokenizer)"
   ]
  },
  {
   "cell_type": "code",
   "execution_count": 6,
   "id": "de7abe79-1531-4f18-a30a-24dad5a1ed31",
   "metadata": {},
   "outputs": [],
   "source": [
    "def gen(x):\n",
    "    generation_config = GenerationConfig(\n",
    "        temperature=0.8,\n",
    "        top_p=0.8,\n",
    "        top_k=100,\n",
    "        max_new_tokens=1024,\n",
    "        early_stopping=True,\n",
    "        do_sample=True,\n",
    "    )\n",
    "    q = f\"[INST]{x} [/INST]\"\n",
    "    gened = model.generate(\n",
    "        **tokenizer(\n",
    "            q,\n",
    "            return_tensors='pt',\n",
    "            return_token_type_ids=False\n",
    "        ).to('cuda'),\n",
    "        generation_config=generation_config,\n",
    "        pad_token_id=tokenizer.eos_token_id,\n",
    "        eos_token_id=tokenizer.eos_token_id,\n",
    "        streamer=streamer,\n",
    "    )\n",
    "    result_str = tokenizer.decode(gened[0])\n",
    "\n",
    "    start_tag = f\"[/INST]\"\n",
    "    start_index = result_str.find(start_tag)\n",
    "\n",
    "    if start_index != -1:\n",
    "        result_str = result_str[start_index + len(start_tag):].strip()\n",
    "    return result_str"
   ]
  },
  {
   "cell_type": "code",
   "execution_count": 7,
   "id": "8de81b7d-bdc0-4070-9536-ef7ed2e45708",
   "metadata": {},
   "outputs": [
    {
     "name": "stderr",
     "output_type": "stream",
     "text": [
      "/opt/conda/lib/python3.10/site-packages/transformers/generation/configuration_utils.py:430: UserWarning: `num_beams` is set to 1. However, `early_stopping` is set to `True` -- this flag is only used in beam-based generation modes. You should set `num_beams>1` or unset `early_stopping`. This was detected when initializing the generation config instance, which means the corresponding file may hold incorrect parameterization and should be fixed.\n",
      "  warnings.warn(\n",
      "/opt/conda/lib/python3.10/site-packages/transformers/generation/configuration_utils.py:430: UserWarning: `num_beams` is set to 1. However, `early_stopping` is set to `True` -- this flag is only used in beam-based generation modes. You should set `num_beams>1` or unset `early_stopping`.\n",
      "  warnings.warn(\n"
     ]
    },
    {
     "name": "stdout",
     "output_type": "stream",
     "text": [
      "<s> [INST]제주도를 1박2일로 혼자 여행하려고 하는데 여행 코스를 만들어줘 [/INST]1박 2일 제주 여행 코스는 다음과 같습니다:\n",
      "\n",
      "날짜: 예약 가능\n",
      "\n",
      "1일 출발: 오전 9시 서울 여의도 월드아카데미에서 출발합니다.\n",
      "\n",
      "2일 제주도 도착: 오전 11시 제주공항에 도착합니다. 저녁 6시 30분 제주 오라시오 호텔에 도착합니다.\n",
      "\n",
      "3일 여행:\n",
      "- 오전 9시 호텔에서 출발하여 제주시 애월읍 탐라문학관으로 이동합니다. 탐라문학관은 한국 근현대 문학의 산실이자 우리 문학의 명소입니다.\n",
      "- 오후 3시 애월읍 앞에 위치한 탐라섬에서 바다 조개 낚시를 즐깁니다. \n",
      "- 저녁 6시 섬 앞에 있는 제주 황제시장으로 이동하여 국산 제품을 쇼핑합니다.\n",
      "\n",
      "4일 여행:\n",
      "- 오전 9시 호텔에서 출발하여 한라산 오름으로 이동합니다.\n",
      "- 오후 2시 한라산 오름에서 해발 1200m의 한라산 정상을 등반합니다. \n",
      "- 저녁 6시 호텔에 도착하여 휴식을 취합니다.\n",
      "\n",
      "5일 여행:\n",
      "- 오전 9시 호텔에서 출발하여 제주시 한경면 천정리로 이동합니다. \n",
      "- 오후 2시 천정리에서 제주 천정사를 방문합니다. \n",
      "- 저녁 6시 호텔에 도착하여 휴식을 취합니다.\n",
      "\n",
      "6일 여행:\n",
      "- 오전 9시 호텔에서 출발하여 제주시 서귀포로 이동합니다.\n",
      "- 오후 2시 서귀포 항에서 섬 해상 여행을 즐기며 서귀포 항 주변을 관람합니다.\n",
      "- 저녁 6시 호텔에 도착하여 휴식을 취합니다.\n",
      "\n",
      "7일 여행:\n",
      "- 오전 9시 호텔에서 출발하여 서귀포시 성산일출봉으로 이동합니다.\n",
      "- 오후 3시 성산일출봉에서 해발 200m의 성산 일출 관람을 즐기고 성산일출봉 전망대에서 해변을 휼쓸어 보며 즐거운 시간을 보냅니다.\n",
      "- 저녁 6시 호텔에 도착하여 휴식을 취합니다.\n",
      "\n",
      "8일 여행:\n",
      "- 오전 9시 호텔에서 출발하여 서귀포시 용두리 한라리조트로 이동합니다.\n",
      "- 오후 2시 용두리조트에서 잔잔한 휴식을 취하고 저녁 6시 호텔에 도착합니다.\n",
      "\n",
      "9일 여행:\n",
      "- 오전\n",
      "##########\n",
      "1박 2일 제주 여행 코스는 다음과 같습니다:\n",
      "\n",
      "날짜: 예약 가능\n",
      "\n",
      "1일 출발: 오전 9시 서울 여의도 월드아카데미에서 출발합니다.\n",
      "\n",
      "2일 제주도 도착: 오전 11시 제주공항에 도착합니다. 저녁 6시 30분 제주 오라시오 호텔에 도착합니다.\n",
      "\n",
      "3일 여행:\n",
      "- 오전 9시 호텔에서 출발하여 제주시 애월읍 탐라문학관으로 이동합니다. 탐라문학관은 한국 근현대 문학의 산실이자 우리 문학의 명소입니다.\n",
      "- 오후 3시 애월읍 앞에 위치한 탐라섬에서 바다 조개 낚시를 즐깁니다. \n",
      "- 저녁 6시 섬 앞에 있는 제주 황제시장으로 이동하여 국산 제품을 쇼핑합니다.\n",
      "\n",
      "4일 여행:\n",
      "- 오전 9시 호텔에서 출발하여 한라산 오름으로 이동합니다.\n",
      "- 오후 2시 한라산 오름에서 해발 1200m의 한라산 정상을 등반합니다. \n",
      "- 저녁 6시 호텔에 도착하여 휴식을 취합니다.\n",
      "\n",
      "5일 여행:\n",
      "- 오전 9시 호텔에서 출발하여 제주시 한경면 천정리로 이동합니다. \n",
      "- 오후 2시 천정리에서 제주 천정사를 방문합니다. \n",
      "- 저녁 6시 호텔에 도착하여 휴식을 취합니다.\n",
      "\n",
      "6일 여행:\n",
      "- 오전 9시 호텔에서 출발하여 제주시 서귀포로 이동합니다.\n",
      "- 오후 2시 서귀포 항에서 섬 해상 여행을 즐기며 서귀포 항 주변을 관람합니다.\n",
      "- 저녁 6시 호텔에 도착하여 휴식을 취합니다.\n",
      "\n",
      "7일 여행:\n",
      "- 오전 9시 호텔에서 출발하여 서귀포시 성산일출봉으로 이동합니다.\n",
      "- 오후 3시 성산일출봉에서 해발 200m의 성산 일출 관람을 즐기고 성산일출봉 전망대에서 해변을 휼쓸어 보며 즐거운 시간을 보냅니다.\n",
      "- 저녁 6시 호텔에 도착하여 휴식을 취합니다.\n",
      "\n",
      "8일 여행:\n",
      "- 오전 9시 호텔에서 출발하여 서귀포시 용두리 한라리조트로 이동합니다.\n",
      "- 오후 2시 용두리조트에서 잔잔한 휴식을 취하고 저녁 6시 호텔에 도착합니다.\n",
      "\n",
      "9일 여행:\n",
      "- 오전\n"
     ]
    }
   ],
   "source": [
    "result = gen('제주도를 1박2일로 혼자 여행하려고 하는데 여행 코스를 만들어줘')\n",
    "\n",
    "print('##########')\n",
    "print(result)"
   ]
  },
  {
   "cell_type": "code",
   "execution_count": null,
   "id": "6ece5d77-b390-40df-83ce-4213f15c1733",
   "metadata": {},
   "outputs": [],
   "source": []
  },
  {
   "cell_type": "code",
   "execution_count": null,
   "id": "4c30ce57-5851-4682-a773-b1d9ee16b053",
   "metadata": {},
   "outputs": [],
   "source": []
  }
 ],
 "metadata": {
  "kernelspec": {
   "display_name": "Python 3 (ipykernel)",
   "language": "python",
   "name": "python3"
  },
  "language_info": {
   "codemirror_mode": {
    "name": "ipython",
    "version": 3
   },
   "file_extension": ".py",
   "mimetype": "text/x-python",
   "name": "python",
   "nbconvert_exporter": "python",
   "pygments_lexer": "ipython3",
   "version": "3.10.13"
  }
 },
 "nbformat": 4,
 "nbformat_minor": 5
}
