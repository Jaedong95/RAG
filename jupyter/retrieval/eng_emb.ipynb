{
 "cells": [
  {
   "cell_type": "code",
   "execution_count": 1,
   "id": "43a8b8f3-f6d1-476c-9dd3-e5d9406b7ac9",
   "metadata": {},
   "outputs": [],
   "source": [
    "import chromadb\n",
    "import pandas as pd\n",
    "import numpy as np \n",
    "import os \n",
    "import torch\n",
    "import torch.nn.functional as F\n",
    "from chromadb.utils import embedding_functions\n",
    "from sentence_transformers import SentenceTransformer, util\n",
    "from transformers import AutoTokenizer, AutoModel"
   ]
  },
  {
   "cell_type": "code",
   "execution_count": 3,
   "id": "99e5d4e3-19d2-40c7-ad07-394d40565fcb",
   "metadata": {},
   "outputs": [],
   "source": [
    "default_path = os.getcwd()\n",
    "data_path = os.path.join(default_path, '../data')"
   ]
  },
  {
   "cell_type": "code",
   "execution_count": 5,
   "id": "0387407f-fa2b-4989-b44b-281cca56d61c",
   "metadata": {},
   "outputs": [
    {
     "name": "stdout",
     "output_type": "stream",
     "text": [
      "data 개수: 7706\n"
     ]
    },
    {
     "data": {
      "text/html": [
       "<div>\n",
       "<style scoped>\n",
       "    .dataframe tbody tr th:only-of-type {\n",
       "        vertical-align: middle;\n",
       "    }\n",
       "\n",
       "    .dataframe tbody tr th {\n",
       "        vertical-align: top;\n",
       "    }\n",
       "\n",
       "    .dataframe thead th {\n",
       "        text-align: right;\n",
       "    }\n",
       "</style>\n",
       "<table border=\"1\" class=\"dataframe\">\n",
       "  <thead>\n",
       "    <tr style=\"text-align: right;\">\n",
       "      <th></th>\n",
       "      <th>question</th>\n",
       "      <th>best_answer</th>\n",
       "      <th>category</th>\n",
       "    </tr>\n",
       "  </thead>\n",
       "  <tbody>\n",
       "    <tr>\n",
       "      <th>0</th>\n",
       "      <td>When did Virgin Australia start operating?</td>\n",
       "      <td>Virgin Australia commenced services on 31 Augu...</td>\n",
       "      <td>closed_qa</td>\n",
       "    </tr>\n",
       "    <tr>\n",
       "      <th>1</th>\n",
       "      <td>Why can camels survive for long without water?</td>\n",
       "      <td>Camels use the fat in their humps to keep them...</td>\n",
       "      <td>open_qa</td>\n",
       "    </tr>\n",
       "    <tr>\n",
       "      <th>2</th>\n",
       "      <td>Alice's parents have three daughters: Amy, Jes...</td>\n",
       "      <td>The name of the third daughter is Alice</td>\n",
       "      <td>open_qa</td>\n",
       "    </tr>\n",
       "  </tbody>\n",
       "</table>\n",
       "</div>"
      ],
      "text/plain": [
       "                                            question  \\\n",
       "0         When did Virgin Australia start operating?   \n",
       "1     Why can camels survive for long without water?   \n",
       "2  Alice's parents have three daughters: Amy, Jes...   \n",
       "\n",
       "                                         best_answer   category  \n",
       "0  Virgin Australia commenced services on 31 Augu...  closed_qa  \n",
       "1  Camels use the fat in their humps to keep them...    open_qa  \n",
       "2            The name of the third daughter is Alice    open_qa  "
      ]
     },
     "execution_count": 5,
     "metadata": {},
     "output_type": "execute_result"
    }
   ],
   "source": [
    "data = pd.read_csv(os.path.join(data_path, 'test_data', 'databricks_dollby.csv'))\n",
    "print(f'data 개수: {len(data)}')\n",
    "data.head(3)"
   ]
  },
  {
   "cell_type": "code",
   "execution_count": 7,
   "id": "8f2af1b1-a51e-4a4a-806a-19e03168cabf",
   "metadata": {},
   "outputs": [
    {
     "data": {
      "text/plain": [
       "['When did Virgin Australia start operating?',\n",
       " 'Why can camels survive for long without water?']"
      ]
     },
     "execution_count": 7,
     "metadata": {},
     "output_type": "execute_result"
    }
   ],
   "source": [
    "question = data.question.values.tolist()\n",
    "question[:2]"
   ]
  },
  {
   "cell_type": "code",
   "execution_count": 8,
   "id": "3120b26f-f358-4c53-ba86-e229932a72eb",
   "metadata": {},
   "outputs": [],
   "source": [
    "chroma_client = chromadb.HttpClient(host='3.39.250.201', port=8000)"
   ]
  },
  {
   "cell_type": "code",
   "execution_count": 10,
   "id": "1f1f3844-a025-4780-852b-316b2d0f33be",
   "metadata": {},
   "outputs": [
    {
     "data": {
      "text/plain": [
       "[Collection(name=kor_emb)]"
      ]
     },
     "execution_count": 10,
     "metadata": {},
     "output_type": "execute_result"
    }
   ],
   "source": [
    "chroma_client.list_collections()"
   ]
  },
  {
   "cell_type": "code",
   "execution_count": 11,
   "id": "59fbbd07-b9ca-45f8-afde-938773da18aa",
   "metadata": {},
   "outputs": [],
   "source": [
    "default_ef = embedding_functions.DefaultEmbeddingFunction()"
   ]
  },
  {
   "cell_type": "code",
   "execution_count": 13,
   "id": "e6c5a461-b66f-427c-b23e-caf18fb409e6",
   "metadata": {},
   "outputs": [],
   "source": [
    "emb_collection = chroma_client.create_collection(name=\"eng_emb\" , embedding_function=default_ef)"
   ]
  },
  {
   "cell_type": "code",
   "execution_count": 14,
   "id": "81e5369d-ed25-497b-9b0b-a2682638cc62",
   "metadata": {},
   "outputs": [],
   "source": [
    "doc = []; metadata = []; ids = []\n",
    "\n",
    "for idx in range(len(data)):\n",
    "    doc.append(data.question[idx])\n",
    "    metadata.append({'source': data.category[idx]})\n",
    "    ids.append(str(idx + 1))"
   ]
  },
  {
   "cell_type": "code",
   "execution_count": 16,
   "id": "c5768512-02a2-4999-8a9e-c6718f530a72",
   "metadata": {},
   "outputs": [
    {
     "data": {
      "text/plain": [
       "(7706, 7706)"
      ]
     },
     "execution_count": 16,
     "metadata": {},
     "output_type": "execute_result"
    }
   ],
   "source": [
    "len(doc), len(metadata)"
   ]
  },
  {
   "cell_type": "code",
   "execution_count": 21,
   "id": "491c8c68-666c-4c79-8df7-44128a733b6f",
   "metadata": {},
   "outputs": [
    {
     "data": {
      "text/plain": [
       "['When did Virgin Australia start operating?',\n",
       " 'Why can camels survive for long without water?',\n",
       " \"Alice's parents have three daughters: Amy, Jessy, and what’s the name of the third daughter?\",\n",
       " 'When was Tomoaki Komorida born?']"
      ]
     },
     "execution_count": 21,
     "metadata": {},
     "output_type": "execute_result"
    }
   ],
   "source": [
    "question[:4]"
   ]
  },
  {
   "cell_type": "code",
   "execution_count": 18,
   "id": "5152258c-da58-490a-a092-1c91cd4b3b99",
   "metadata": {},
   "outputs": [],
   "source": [
    "emb_collection.add(\n",
    "    documents=doc,\n",
    "    metadatas=metadata,\n",
    "    ids=ids\n",
    ")"
   ]
  },
  {
   "cell_type": "code",
   "execution_count": 23,
   "id": "4df6e11a-43e0-4bea-a24b-7fa96eccfebd",
   "metadata": {},
   "outputs": [
    {
     "data": {
      "text/plain": [
       "{'ids': [['2', '2916', '5828', '6424', '7603']],\n",
       " 'distances': [[0.4543702006340027,\n",
       "   0.8250446915626526,\n",
       "   1.119078278541565,\n",
       "   1.1853063106536865,\n",
       "   1.1853063106536865]],\n",
       " 'embeddings': None,\n",
       " 'metadatas': [[{'source': 'open_qa'},\n",
       "   {'source': 'open_qa'},\n",
       "   {'source': 'closed_qa'},\n",
       "   {'source': 'closed_qa'},\n",
       "   {'source': 'closed_qa'}]],\n",
       " 'documents': [['Why can camels survive for long without water?',\n",
       "   'How can you tell the difference between a dromedary and a camel?',\n",
       "   'Why did the Sahara experience a period of rapid desertification?',\n",
       "   'What do giant Pandas eats?',\n",
       "   'What do giant Pandas eats?']],\n",
       " 'uris': None,\n",
       " 'data': None}"
      ]
     },
     "execution_count": 23,
     "metadata": {},
     "output_type": "execute_result"
    }
   ],
   "source": [
    "txt = 'why can camels can survive in the dessert ?'\n",
    "\n",
    "results = emb_collection.query(\n",
    "    query_texts = txt, \n",
    "    n_results = 5\n",
    ")\n",
    "results"
   ]
  },
  {
   "cell_type": "code",
   "execution_count": null,
   "id": "c1ae0a21-0846-4505-a4ec-3a3b6af4ccac",
   "metadata": {},
   "outputs": [],
   "source": []
  }
 ],
 "metadata": {
  "kernelspec": {
   "display_name": "Python 3 (ipykernel)",
   "language": "python",
   "name": "python3"
  },
  "language_info": {
   "codemirror_mode": {
    "name": "ipython",
    "version": 3
   },
   "file_extension": ".py",
   "mimetype": "text/x-python",
   "name": "python",
   "nbconvert_exporter": "python",
   "pygments_lexer": "ipython3",
   "version": "3.10.13"
  }
 },
 "nbformat": 4,
 "nbformat_minor": 5
}
