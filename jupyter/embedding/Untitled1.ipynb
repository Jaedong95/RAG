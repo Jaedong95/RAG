{
 "cells": [
  {
   "cell_type": "code",
   "execution_count": 1,
   "id": "351aaafb-ef85-4197-8691-5e20bd2816c1",
   "metadata": {},
   "outputs": [],
   "source": [
    "from llama_index import Document, VectorStoreIndex, SimpleDirectoryReader, ServiceContext\n",
    "from llama_index.vector_stores import ChromaVectorStore\n",
    "from llama_index.readers.chroma import ChromaReader\n",
    "from llama_index.storage.storage_context import StorageContext\n",
    "# from transformers import AutoTokenizer, AutoModel\n",
    "from llama_index.embeddings import HuggingFaceEmbedding\n",
    "from llama_index.schema import MetadataMode\n",
    "from IPython.display import Markdown, display\n",
    "from llama_index import Document, VectorStoreIndex \n",
    "from llama_index.node_parser import SentenceSplitter\n",
    "import chromadb\n",
    "import pandas as pd \n",
    "import openai\n",
    "import re\n",
    "import os\n",
    "import getpass\n",
    "import glob "
   ]
  },
  {
   "cell_type": "code",
   "execution_count": 2,
   "id": "512d1995-2935-4c79-9852-a71044f77bd3",
   "metadata": {},
   "outputs": [],
   "source": [
    "default_path = os.getcwd()\n",
    "model_path = os.path.join(default_path, '../../models')\n",
    "model_dir = os.path.join(model_path, \"mistral_origin\")\n",
    "data_path = os.path.join(default_path, '../../../data')\n",
    "rulebook_path = os.path.join(data_path, 'pdf', 'rules')"
   ]
  },
  {
   "cell_type": "code",
   "execution_count": 3,
   "id": "42af706d-5b41-43df-8eee-e8924fd518ee",
   "metadata": {},
   "outputs": [
    {
     "data": {
      "text/plain": [
       "'/rag/jupyter/llama-index_examples/embedding/../../../data/pdf/rules/메일_화상채팅.pdf'"
      ]
     },
     "execution_count": 3,
     "metadata": {},
     "output_type": "execute_result"
    }
   ],
   "source": [
    "file_list = glob.glob(f'{rulebook_path}/*.pdf')\n",
    "file_list[3]"
   ]
  },
  {
   "cell_type": "code",
   "execution_count": null,
   "id": "ff66cfae-20c7-4ae0-850b-cda09c437e9f",
   "metadata": {},
   "outputs": [],
   "source": [
    "os.environ[\"OPENAI_API_KEY\"] = getpass.getpass(\"OpenAI API Key:\")\n",
    "openai.api_key = os.environ[\"OPENAI_API_KEY\"]"
   ]
  },
  {
   "cell_type": "code",
   "execution_count": null,
   "id": "a330b881-deb6-4176-af74-c06a4d902865",
   "metadata": {},
   "outputs": [],
   "source": [
    "chroma_client = chromadb.HttpClient(host=\"192.168.0.146\")"
   ]
  },
  {
   "cell_type": "code",
   "execution_count": null,
   "id": "96c94119-8ce5-4207-afaa-1218c9eb6451",
   "metadata": {},
   "outputs": [],
   "source": [
    "chroma_client.list_collections()"
   ]
  },
  {
   "cell_type": "code",
   "execution_count": null,
   "id": "925ad0b9-d5db-4fec-856f-831c96cba355",
   "metadata": {},
   "outputs": [],
   "source": [
    "data_collection = chroma_client.get_or_create_collection(\"data\")"
   ]
  },
  {
   "cell_type": "code",
   "execution_count": null,
   "id": "5117b7a8-38ca-43da-aa82-9ab7c422a9bb",
   "metadata": {},
   "outputs": [],
   "source": [
    "data_store = ChromaVectorStore(chroma_collection=data_collection)\n",
    "data_storage = StorageContext.from_defaults(vector_store=data_store)"
   ]
  },
  {
   "cell_type": "code",
   "execution_count": null,
   "id": "7cfd19ca-a436-492e-8c93-1d6d9a1b0f32",
   "metadata": {},
   "outputs": [],
   "source": [
    "page_no = 0"
   ]
  },
  {
   "cell_type": "code",
   "execution_count": null,
   "id": "b578feae-2a7d-49ad-8324-aa6275235b1f",
   "metadata": {},
   "outputs": [],
   "source": [
    "documents = SimpleDirectoryReader(input_files=[file_list[6]]).load_data()"
   ]
  },
  {
   "cell_type": "code",
   "execution_count": null,
   "id": "ef2cd5df-8917-4cbb-a96e-5c098505364f",
   "metadata": {},
   "outputs": [],
   "source": [
    "num_mapper = dict({'①':'제1항', '②':'제2항', '③':'제3항', '④':'제4항', '⑤':'제5항', '⑥':'제6항',\\\n",
    "                   '⑦':'제7항', '⑧': '제8항', '⑨': '제9항', '⑩': '제10항', '⑪': '제11항', '⑫': '제12항',\\\n",
    "                  '⑬':'제13항', '⑭':'제14항', '⑮':'제15항', '⑯':'제16항', '⑰':'제17항', '⑱':'제18항', '⑲':'제19항', '⑳':'제20항'})"
   ]
  },
  {
   "cell_type": "code",
   "execution_count": null,
   "id": "c8a1839b-a6be-44fa-8ffd-4208fb60d981",
   "metadata": {},
   "outputs": [],
   "source": [
    "def text_cleanse(document):\n",
    "    '''\n",
    "    여러 공백 문자열 단일 공백 문자로 변환 \n",
    "    여러 줄변환 문자 줄변환 문자로 변환 (\\n x 2~ => \\n x 2) \n",
    "    문서 맨 윗 내용이 페이지 번호인 경우 페이지 번호 제거 \n",
    "    '''\n",
    "    document.text = re.sub('[^A-Za-z0-9\\'\\\"\\-가-힣(){}\\\\n[]]', '', document.text)\n",
    "    for num in num_mapper.keys():\n",
    "        document.text = document.text.replace(num, num_mapper[num])\n",
    "    document.text = re.sub(' +', ' ', document.text)\n",
    "    document.text = document.text.strip()\n",
    "    # document.text = re.sub(r'\\r\\n{2,}', '\\n\\n', document.text)\n",
    "    \n",
    "    text_list = document.text.splitlines(True)\n",
    "    if text_list[0].startswith('페이지') or text_list[0].startswith(document.metadata['page_label']):\n",
    "        text_list = text_list[1:]\n",
    "\n",
    "    new_text = [] \n",
    "    for line in text_list:\n",
    "        if line == '\\n' or line == ' \\n':\n",
    "            continue \n",
    "        new_text.append(line) \n",
    "    document.text = ''.join(new_text)\n",
    "    return document"
   ]
  },
  {
   "cell_type": "code",
   "execution_count": null,
   "id": "d99f081a-4db0-49ae-a852-40e34d3c77b3",
   "metadata": {},
   "outputs": [],
   "source": [
    "for idx in range(len(documents)):\n",
    "    documents[idx] = text_cleanse(documents[idx])"
   ]
  },
  {
   "cell_type": "code",
   "execution_count": null,
   "id": "0b28642a-955c-4af9-aa6e-5238eedc0e7c",
   "metadata": {},
   "outputs": [],
   "source": [
    "print(documents[1].text)"
   ]
  },
  {
   "cell_type": "code",
   "execution_count": null,
   "id": "278f6404-d6d7-41ee-9a23-88df133ea8d7",
   "metadata": {},
   "outputs": [],
   "source": [
    "text = documents[0].text \n",
    "documents[0].metadata['page_label']"
   ]
  },
  {
   "cell_type": "code",
   "execution_count": null,
   "id": "093a286f-7f10-4e0f-9681-2a3be232b8be",
   "metadata": {},
   "outputs": [],
   "source": [
    "import re \n",
    "\n",
    "text = '제 1 장 제1장 제 1장 제 2 장 제2장 제 2장' \n",
    "# re.findall(r'제.*[0-9].*장', text)\n",
    "re.findall(r'제.+2.+장', text)"
   ]
  },
  {
   "cell_type": "code",
   "execution_count": null,
   "id": "a84d7ce0-bb9b-4812-8940-26252427f537",
   "metadata": {},
   "outputs": [],
   "source": [
    "text = '제 1 장 제1장 제 1장 제 2 장 제2장 제 2장 제 4장' \n",
    "re.findall(r'제 *1 *장', text)"
   ]
  },
  {
   "cell_type": "code",
   "execution_count": null,
   "id": "3492d590-fcba-4507-a988-943ca99323e5",
   "metadata": {},
   "outputs": [],
   "source": [
    "def get_start_point(documents):\n",
    "    s_point = 1\n",
    "    for doc in documents:\n",
    "        if len(re.findall(r'제 *1 *장', doc.text)) != 0 and (len(re.findall(r'목 *차', doc.text)) == 0 and len(re.findall(r'차 *례', doc.text)) == 0): \n",
    "            '''\n",
    "            print(re.findall(r'제 *1 *장', doc.text))\n",
    "            print(re.findall(r'목 *차', doc.text))\n",
    "            print(re.findall(r'차 *례', doc.text))'''\n",
    "            s_point = doc.metadata['page_label']\n",
    "            break \n",
    "    return int(s_point) - 1"
   ]
  },
  {
   "cell_type": "code",
   "execution_count": null,
   "id": "4c59d6f7-4170-4c43-a373-57745317387b",
   "metadata": {},
   "outputs": [],
   "source": [
    "s_point = get_start_point(documents)\n",
    "s_point"
   ]
  },
  {
   "cell_type": "code",
   "execution_count": null,
   "id": "c6b57a9b-bdee-4d4b-8af9-07ab0d64b2c0",
   "metadata": {},
   "outputs": [],
   "source": [
    "print(documents[4].text)"
   ]
  },
  {
   "cell_type": "code",
   "execution_count": null,
   "id": "eda6b4ed-4fc3-4575-95bc-7210cee29605",
   "metadata": {},
   "outputs": [],
   "source": [
    "documents[0].metadata"
   ]
  },
  {
   "cell_type": "code",
   "execution_count": null,
   "id": "4efaf56c-8975-425b-9d00-518418fc696b",
   "metadata": {},
   "outputs": [],
   "source": [
    "def split_doc(idx, prev_spot, current_spot, document):\n",
    "    file_name = document.metadata['file_name'].split('.')[0]\n",
    "    splitted = document.text.split(current_spot)\n",
    "    prev_doc = Document(text=splitted[0],\n",
    "                       doc_id=f\"{file_name}_doc_{idx}\",\n",
    "                       metadata={\"spot\": prev_spot, \"file_name\": document.metadata['file_name']},\n",
    "                       excluded_llm_metadata_keys = ['spot', 'file_name']\n",
    "                )\n",
    "    current_doc = Document(text=splitted[1],\n",
    "                       doc_id=f\"{file_name}_doc_{idx + 1}\",\n",
    "                       metadata={\"spot\": current_spot, \"file_name\": document.metadata['file_name']},\n",
    "                       excluded_llm_metadata_keys = ['spot', 'file_name']\n",
    "                )\n",
    "    return idx + 2, prev_doc, current_doc"
   ]
  },
  {
   "cell_type": "code",
   "execution_count": null,
   "id": "0b23bf42-597e-443e-940b-5d311078f857",
   "metadata": {},
   "outputs": [],
   "source": [
    "def get_doc_content(idx, document):  \n",
    "    '''\n",
    "    input: document (페이지 단위로 분할된 document object) \n",
    "    output: document_list (장 단위로 분할된 document objects) \n",
    "    '''\n",
    "    doc_list = []; meta_info = dict();\n",
    "    prev_spot = document.metadata['spot']\n",
    "    split_spot = re.findall(r'제 *[0-9] *장', document.text)\n",
    "    if len(split_spot) == 0:\n",
    "        return document\n",
    "        \n",
    "    splitted_docs = [] \n",
    "    for spot in split_spot:\n",
    "        new_idx, prev_doc, current_doc = split_doc(idx, prev_spot, spot, document)\n",
    "        prev_spot = spot\n",
    "        splitted_docs.append(prev_doc)\n",
    "        document = current_doc\n",
    "    return splitted_doc"
   ]
  },
  {
   "cell_type": "code",
   "execution_count": null,
   "id": "8ae31523-aa98-48ee-a244-0614b72f2330",
   "metadata": {},
   "outputs": [],
   "source": [
    "len(documents), s_point"
   ]
  },
  {
   "cell_type": "code",
   "execution_count": null,
   "id": "98362b97-c822-43bb-adac-ceb6f7d96374",
   "metadata": {},
   "outputs": [],
   "source": [
    "documents[2].text.split('제2장')[1].split('제 3장')   #, documents[2].text.split('제2장')[1]"
   ]
  },
  {
   "cell_type": "code",
   "execution_count": null,
   "id": "2faf6769-9b1b-46fb-a02f-3c61ba134034",
   "metadata": {},
   "outputs": [],
   "source": [
    "documents[s_point].metadata['spot'] = '제1장' \n",
    "for idx, doc in enumerate(documents):\n",
    "    if idx >= s_point: \n",
    "        get_doc_content(idx, doc)"
   ]
  },
  {
   "cell_type": "code",
   "execution_count": null,
   "id": "aff12635-3133-4ac7-a092-24408b8700c5",
   "metadata": {},
   "outputs": [],
   "source": []
  }
 ],
 "metadata": {
  "kernelspec": {
   "display_name": "Python 3 (ipykernel)",
   "language": "python",
   "name": "python3"
  },
  "language_info": {
   "codemirror_mode": {
    "name": "ipython",
    "version": 3
   },
   "file_extension": ".py",
   "mimetype": "text/x-python",
   "name": "python",
   "nbconvert_exporter": "python",
   "pygments_lexer": "ipython3",
   "version": "3.10.13"
  }
 },
 "nbformat": 4,
 "nbformat_minor": 5
}
