{
 "cells": [
  {
   "cell_type": "raw",
   "id": "6c5b4c67-744d-4923-aed5-7bb3ee93132e",
   "metadata": {},
   "source": [
    "Data Indexing & Storing \n",
    "# desc  - card (상품설명) + deposit (상품설명) + loan (상품설명) \n",
    "# features  - loan (상품특징)\n",
    "# qualification  - loan (대출신청자격) \n",
    "# rule_book - 규정집 pdf "
   ]
  },
  {
   "cell_type": "code",
   "execution_count": 2,
   "id": "2147c131-6911-4794-9913-f6ee81919619",
   "metadata": {},
   "outputs": [],
   "source": [
    "from llama_index import Document, VectorStoreIndex, SimpleDirectoryReader, ServiceContext\n",
    "from llama_index.vector_stores import ChromaVectorStore\n",
    "from llama_index.readers.chroma import ChromaReader\n",
    "from llama_index.storage.storage_context import StorageContext\n",
    "# from transformers import AutoTokenizer, AutoModel\n",
    "from llama_index.embeddings import HuggingFaceEmbedding\n",
    "from llama_index.schema import MetadataMode\n",
    "from IPython.display import Markdown, display\n",
    "import chromadb\n",
    "import pandas as pd \n",
    "import openai\n",
    "import os\n",
    "import getpass"
   ]
  },
  {
   "cell_type": "code",
   "execution_count": 32,
   "id": "5ee57627-e0a1-4300-b794-a15010131bf4",
   "metadata": {},
   "outputs": [],
   "source": [
    "data_path = os.path.join('/workspace/data/')\n",
    "index_path = os.path.join('/workspace/db/chroma-llama')\n",
    "config_path = os.path.join('/workspace/config')"
   ]
  },
  {
   "cell_type": "code",
   "execution_count": 39,
   "id": "08c329af-3bbd-49d4-be7c-910ab1a5773f",
   "metadata": {},
   "outputs": [
    {
     "name": "stdin",
     "output_type": "stream",
     "text": [
      "User:  hey\n"
     ]
    }
   ],
   "source": [
    "query = input(\"User: \")"
   ]
  },
  {
   "cell_type": "code",
   "execution_count": 38,
   "id": "4bbd0c6b-9cc3-4ad3-b0c9-bef4fe36e3c2",
   "metadata": {},
   "outputs": [
    {
     "data": {
      "text/plain": [
       "'hey'"
      ]
     },
     "execution_count": 38,
     "metadata": {},
     "output_type": "execute_result"
    }
   ],
   "source": [
    "query"
   ]
  },
  {
   "cell_type": "code",
   "execution_count": 33,
   "id": "3ace32ad-214b-45b0-b506-15374c51e13c",
   "metadata": {},
   "outputs": [],
   "source": [
    "with open(os.path.join(config_path, 'config.json'), \"r\", encoding=\"utf-8\") as f:\n",
    "    config = json.load(f)"
   ]
  },
  {
   "cell_type": "code",
   "execution_count": 36,
   "id": "f15eab7b-af17-4eaa-b35f-3f056f3e0525",
   "metadata": {},
   "outputs": [
    {
     "data": {
      "text/plain": [
       "'/rag/db/chorma-llama/'"
      ]
     },
     "execution_count": 36,
     "metadata": {},
     "output_type": "execute_result"
    }
   ],
   "source": [
    "config['index_path']"
   ]
  },
  {
   "cell_type": "raw",
   "id": "d6db96d4-066d-4ff8-a197-387bcfe9fb94",
   "metadata": {
    "scrolled": true
   },
   "source": [
    "os.environ[\"OPENAI_API_KEY\"] = getpass.getpass(\"OpenAI API Key:\")\n",
    "openai.api_key = os.environ[\"OPENAI_API_KEY\"]"
   ]
  },
  {
   "cell_type": "code",
   "execution_count": 4,
   "id": "2b94ef94-6405-476a-abf5-f6d59dc8be03",
   "metadata": {},
   "outputs": [],
   "source": [
    "chroma_client = chromadb.PersistentClient(path=index_path)\n",
    "desc_collection = chroma_client.get_or_create_collection(\"desc\")\n",
    "feature_collection = chroma_client.get_or_create_collection(\"feature\")\n",
    "qualification_collection = chroma_client.get_or_create_collection(\"qualification\")"
   ]
  },
  {
   "cell_type": "raw",
   "id": "288cdf88-525d-487c-9418-3de1fb10e429",
   "metadata": {
    "scrolled": true
   },
   "source": [
    "len(data) - len(data[data['대출신청자격'].isna()])"
   ]
  },
  {
   "cell_type": "raw",
   "id": "fcda08ca-61de-43fb-859f-c042b61f744c",
   "metadata": {},
   "source": [
    "chroma_client.delete_collection('desc')"
   ]
  },
  {
   "cell_type": "code",
   "execution_count": 5,
   "id": "3da2316f-84db-47d3-8305-319c9a75cc18",
   "metadata": {},
   "outputs": [
    {
     "data": {
      "text/plain": [
       "0"
      ]
     },
     "execution_count": 5,
     "metadata": {},
     "output_type": "execute_result"
    }
   ],
   "source": [
    "desc_collection.count()   # 2566 "
   ]
  },
  {
   "cell_type": "code",
   "execution_count": 6,
   "id": "290a21ac-551e-4518-9481-6dc0daf463a1",
   "metadata": {},
   "outputs": [],
   "source": [
    "desc_store = ChromaVectorStore(chroma_collection=desc_collection)\n",
    "feature_store = ChromaVectorStore(chroma_collection=feature_collection)\n",
    "qualification_store = ChromaVectorStore(chroma_collection=qualification_collection)"
   ]
  },
  {
   "cell_type": "code",
   "execution_count": 7,
   "id": "bb459b31-ddd8-4e59-9b3f-6e96dbe0e985",
   "metadata": {},
   "outputs": [],
   "source": [
    "desc_storage = StorageContext.from_defaults(vector_store=desc_store)\n",
    "feature_storage = StorageContext.from_defaults(vector_store=feature_store)\n",
    "qualification_storage = StorageContext.from_defaults(vector_store=qualification_store)"
   ]
  },
  {
   "cell_type": "code",
   "execution_count": 8,
   "id": "5a029e82-8407-4b48-8efd-33f1b5a792de",
   "metadata": {},
   "outputs": [],
   "source": [
    "from llama_index import Document, VectorStoreIndex \n",
    "from llama_index.node_parser import SentenceSplitter"
   ]
  },
  {
   "cell_type": "code",
   "execution_count": 9,
   "id": "6856e21b-ecd6-4302-8088-e8eea70592be",
   "metadata": {},
   "outputs": [
    {
     "data": {
      "text/html": [
       "<div>\n",
       "<style scoped>\n",
       "    .dataframe tbody tr th:only-of-type {\n",
       "        vertical-align: middle;\n",
       "    }\n",
       "\n",
       "    .dataframe tbody tr th {\n",
       "        vertical-align: top;\n",
       "    }\n",
       "\n",
       "    .dataframe thead th {\n",
       "        text-align: right;\n",
       "    }\n",
       "</style>\n",
       "<table border=\"1\" class=\"dataframe\">\n",
       "  <thead>\n",
       "    <tr style=\"text-align: right;\">\n",
       "      <th></th>\n",
       "      <th>카드_고유키</th>\n",
       "      <th>상품명</th>\n",
       "      <th>카드설명</th>\n",
       "    </tr>\n",
       "  </thead>\n",
       "  <tbody>\n",
       "    <tr>\n",
       "      <th>0</th>\n",
       "      <td>카드_1</td>\n",
       "      <td>휴먼라이프 S1 수협카드</td>\n",
       "      <td>바다위새로운세상휴먼라이프크루즈여행을위한맞춤혜택</td>\n",
       "    </tr>\n",
       "  </tbody>\n",
       "</table>\n",
       "</div>"
      ],
      "text/plain": [
       "  카드_고유키            상품명                       카드설명\n",
       "0   카드_1  휴먼라이프 S1 수협카드  바다위새로운세상휴먼라이프크루즈여행을위한맞춤혜택"
      ]
     },
     "execution_count": 9,
     "metadata": {},
     "output_type": "execute_result"
    }
   ],
   "source": [
    "data = pd.read_csv(os.path.join(data_path, 'financial', 'SHINHAN BANK_Financial_Product_Scraping_Result_20240104_CARD_vec.csv'))\n",
    "data.head(1)"
   ]
  },
  {
   "cell_type": "code",
   "execution_count": 10,
   "id": "a56a827b-2ead-4c63-bc38-bd7592a5bfce",
   "metadata": {},
   "outputs": [
    {
     "data": {
      "text/plain": [
       "1023"
      ]
     },
     "execution_count": 10,
     "metadata": {},
     "output_type": "execute_result"
    }
   ],
   "source": [
    "len(data) - len(data[data.카드설명.isna()])"
   ]
  },
  {
   "cell_type": "code",
   "execution_count": 11,
   "id": "96a10d51-569e-4c25-afb3-ebbdd072cb7b",
   "metadata": {},
   "outputs": [],
   "source": [
    "nona = data.copy()"
   ]
  },
  {
   "cell_type": "code",
   "execution_count": 12,
   "id": "6bd36e0f-319a-4960-be43-0c03e938e7f2",
   "metadata": {},
   "outputs": [
    {
     "data": {
      "text/plain": [
       "1129"
      ]
     },
     "execution_count": 12,
     "metadata": {},
     "output_type": "execute_result"
    }
   ],
   "source": [
    "len(data)"
   ]
  },
  {
   "cell_type": "code",
   "execution_count": 13,
   "id": "b0348945-9f41-4d2f-8954-adcbca32db39",
   "metadata": {},
   "outputs": [
    {
     "data": {
      "text/plain": [
       "Index([129, 130, 131], dtype='int64')"
      ]
     },
     "execution_count": 13,
     "metadata": {},
     "output_type": "execute_result"
    }
   ],
   "source": [
    "data[data.카드설명.isna()].index[:3]"
   ]
  },
  {
   "cell_type": "code",
   "execution_count": 14,
   "id": "f9c3a9ac-866b-4660-8ea8-513c162c6b6b",
   "metadata": {},
   "outputs": [
    {
     "data": {
      "text/plain": [
       "1023"
      ]
     },
     "execution_count": 14,
     "metadata": {},
     "output_type": "execute_result"
    }
   ],
   "source": [
    "nona.dropna(subset='카드설명', inplace=True)\n",
    "len(nona)"
   ]
  },
  {
   "cell_type": "code",
   "execution_count": 15,
   "id": "700cf209-903d-47ad-998b-8156bdab7b7c",
   "metadata": {},
   "outputs": [],
   "source": [
    "category = 'card'\n",
    "\n",
    "id_list = nona.카드_고유키.values.tolist()\n",
    "name_list = nona.상품명.values.tolist()\n",
    "text_list = nona.카드설명.values.tolist()"
   ]
  },
  {
   "cell_type": "code",
   "execution_count": 16,
   "id": "285dc93d-9426-4260-8071-6c8168e3ddcc",
   "metadata": {},
   "outputs": [
    {
     "data": {
      "text/plain": [
       "'에코라서 가능한 혜택, 에코로 쌓는 더 많은 포인트'"
      ]
     },
     "execution_count": 16,
     "metadata": {},
     "output_type": "execute_result"
    }
   ],
   "source": [
    "text_list[65]"
   ]
  },
  {
   "cell_type": "code",
   "execution_count": 17,
   "id": "66782308-d37b-4cb7-8e9f-83c4bdcc5579",
   "metadata": {},
   "outputs": [
    {
     "data": {
      "text/plain": [
       "(1023, 1023)"
      ]
     },
     "execution_count": 17,
     "metadata": {},
     "output_type": "execute_result"
    }
   ],
   "source": [
    "len(id_list), len(text_list)"
   ]
  },
  {
   "cell_type": "code",
   "execution_count": 18,
   "id": "f4a73687-66d4-446c-9ff3-0628350ddf1e",
   "metadata": {},
   "outputs": [],
   "source": [
    "documents = []\n",
    "\n",
    "for idx in range(len(text_list)):\n",
    "    doc = Document(text=text_list[idx], doc_id=id_list[idx], metadata={\"category\": category, \"name\": name_list[idx]}, \\\n",
    "                   excluded_llm_metadata_keys = ['category', 'name'])\n",
    "    documents.append(doc)"
   ]
  },
  {
   "cell_type": "code",
   "execution_count": 19,
   "id": "e686480e-7051-4577-b634-aa6eddb56458",
   "metadata": {},
   "outputs": [
    {
     "name": "stdout",
     "output_type": "stream",
     "text": [
      "embedding model see this: category: card\n",
      "name: biz top기업 신용카드\n",
      "\n",
      "법인/개인사업자에최적화된혜택을드리는카드\n",
      "\n",
      "LLM see this: 법인/개인사업자에최적화된혜택을드리는카드\n"
     ]
    }
   ],
   "source": [
    "print(f'embedding model see this: {documents[2].get_content(metadata_mode=MetadataMode.EMBED)}', end='\\n\\n')\n",
    "print(f'LLM see this: {documents[2].get_content(metadata_mode=MetadataMode.LLM)}')"
   ]
  },
  {
   "cell_type": "code",
   "execution_count": 20,
   "id": "86d2e185-5773-4e3c-a8a3-2249cf9eeec8",
   "metadata": {},
   "outputs": [],
   "source": [
    "from llama_index.node_parser import SentenceSplitter "
   ]
  },
  {
   "cell_type": "code",
   "execution_count": 21,
   "id": "20acc24c-02c3-4e7b-8769-98ec6e361090",
   "metadata": {},
   "outputs": [],
   "source": [
    "parser = SentenceSplitter(chunk_size=512, chunk_overlap=30)   # SentenceSplitter(chunk_size=1024, chunk_overlap=20)\n",
    "# nodes = parser.get_nodes_from_documents(documents)"
   ]
  },
  {
   "cell_type": "code",
   "execution_count": 22,
   "id": "62466b28-9a4b-4a77-b076-d1abc278ea51",
   "metadata": {},
   "outputs": [],
   "source": [
    "model_name = 'kakaobank/kf-deberta-base'\n",
    "embed_model = HuggingFaceEmbedding(model_name=model_name, embed_batch_size=32)"
   ]
  },
  {
   "cell_type": "code",
   "execution_count": 23,
   "id": "38c8df01-245a-48e2-889c-b432107363f8",
   "metadata": {
    "scrolled": true
   },
   "outputs": [
    {
     "name": "stdout",
     "output_type": "stream",
     "text": [
      "LLM is explicitly disabled. Using MockLLM.\n"
     ]
    }
   ],
   "source": [
    "service_context = ServiceContext.from_defaults(node_parser=parser, embed_model=embed_model, llm=None)\n",
    "# storage_context = StorageContext.from_defaults(persist_dir=persist_dir)"
   ]
  },
  {
   "cell_type": "code",
   "execution_count": 24,
   "id": "8db80e80-61db-4042-a68c-d5bfa0fb2958",
   "metadata": {},
   "outputs": [
    {
     "data": {
      "text/plain": [
       "1023"
      ]
     },
     "execution_count": 24,
     "metadata": {},
     "output_type": "execute_result"
    }
   ],
   "source": [
    "len(documents)"
   ]
  },
  {
   "cell_type": "code",
   "execution_count": 25,
   "id": "df247f72-67c8-4845-a609-154111fb8cde",
   "metadata": {},
   "outputs": [],
   "source": [
    "# build index \n",
    "index = VectorStoreIndex.from_documents(\n",
    "    documents, service_context=service_context, storage_context=desc_storage\n",
    ") "
   ]
  },
  {
   "cell_type": "code",
   "execution_count": 26,
   "id": "1d6848c6-50fe-499e-8038-04577dae7b76",
   "metadata": {},
   "outputs": [
    {
     "data": {
      "text/plain": [
       "'d842e738-3ab6-41e5-a9ca-9f637d5b7c2a'"
      ]
     },
     "execution_count": 26,
     "metadata": {},
     "output_type": "execute_result"
    }
   ],
   "source": [
    "index.index_id"
   ]
  },
  {
   "cell_type": "code",
   "execution_count": 452,
   "id": "4e459bf9-9320-4996-b114-3a2cb33102cf",
   "metadata": {},
   "outputs": [
    {
     "data": {
      "text/plain": [
       "'Context information is below.\\n---------------------\\nIATA 정산시스템을 이용하는 여행사 및 화물대리점에게 항공운임결제를 원활하게 할 수 있도록 지원하는 지급보증상품\\n\\n개인사업자대출119제도중하나로써채무상환에어려움을겪고있는개인사업자대출채무자에대해장기간분할상환할수있도록지원하는상품※개인사업자119제도:일시적자금사정악화등으로채무상환에어려움을겪고있는개인사업자대출채무자에대해만기연장등을통해채무상환부담을경감해줌으로써연체발생을예방하는제도\\n---------------------\\nGiven the context information and not prior knowledge, answer the query.\\nQuery: 렌탈 요금 청구\\nAnswer: '"
      ]
     },
     "execution_count": 452,
     "metadata": {},
     "output_type": "execute_result"
    }
   ],
   "source": [
    "index.as_query_engine().query('렌탈 요금 청구').response"
   ]
  },
  {
   "cell_type": "code",
   "execution_count": 27,
   "id": "cb4a2f1a-7392-4867-a8a8-d48f9419c779",
   "metadata": {},
   "outputs": [],
   "source": [
    "# set index_id to save multiple indexes to the same folder  -> persist 시 추가되는게 아니라 덮어 쓰여짐 .. => 해결 ! sotrage_context 지정안해줘서 그럼 \n",
    "# storage context.from_defaults(persist_dir ~)은 docstore.json 파일이 있어야만 지정할 수 있는데 처음 인덱스 생성시에는 해당 부분 생략해서 docstore.json 파일 먼저 생성하기\n",
    "index.set_index_id('scrapping_desc_chroma')"
   ]
  },
  {
   "cell_type": "code",
   "execution_count": 28,
   "id": "052217a3-cc9f-40d3-bc3a-c13d2a225fd9",
   "metadata": {},
   "outputs": [
    {
     "data": {
      "text/plain": [
       "'scrapping_desc_chroma'"
      ]
     },
     "execution_count": 28,
     "metadata": {},
     "output_type": "execute_result"
    }
   ],
   "source": [
    "index.index_id"
   ]
  },
  {
   "cell_type": "markdown",
   "id": "815bc061-45f9-4ba2-99b9-626e4dc2d15f",
   "metadata": {},
   "source": [
    "### Index data insert"
   ]
  },
  {
   "cell_type": "code",
   "execution_count": 444,
   "id": "2b35c0b1-f775-4543-ae92-6a92e0fcf103",
   "metadata": {},
   "outputs": [
    {
     "data": {
      "text/html": [
       "<div>\n",
       "<style scoped>\n",
       "    .dataframe tbody tr th:only-of-type {\n",
       "        vertical-align: middle;\n",
       "    }\n",
       "\n",
       "    .dataframe tbody tr th {\n",
       "        vertical-align: top;\n",
       "    }\n",
       "\n",
       "    .dataframe thead th {\n",
       "        text-align: right;\n",
       "    }\n",
       "</style>\n",
       "<table border=\"1\" class=\"dataframe\">\n",
       "  <thead>\n",
       "    <tr style=\"text-align: right;\">\n",
       "      <th></th>\n",
       "      <th>대출_고유키</th>\n",
       "      <th>금융상품명</th>\n",
       "      <th>상품특징</th>\n",
       "      <th>대출신청자격</th>\n",
       "      <th>상품설명</th>\n",
       "    </tr>\n",
       "  </thead>\n",
       "  <tbody>\n",
       "    <tr>\n",
       "      <th>0</th>\n",
       "      <td>대출_0</td>\n",
       "      <td>혁신성장산업 지원자금</td>\n",
       "      <td>9대 선도산업 등 정부발표 혁신성장 분야에 대한 효율적 금융지원</td>\n",
       "      <td>○ (지원대상) 다음 중 하나에 해당하는 기업 혁신성장 정책금융협의회 선정 「혁신성...</td>\n",
       "      <td>9대 선도산업 등 정부발표 혁신성장 분야에 대한 효율적 금융지원</td>\n",
       "    </tr>\n",
       "  </tbody>\n",
       "</table>\n",
       "</div>"
      ],
      "text/plain": [
       "  대출_고유키        금융상품명                                 상품특징  \\\n",
       "0   대출_0  혁신성장산업 지원자금  9대 선도산업 등 정부발표 혁신성장 분야에 대한 효율적 금융지원   \n",
       "\n",
       "                                              대출신청자격  \\\n",
       "0  ○ (지원대상) 다음 중 하나에 해당하는 기업 혁신성장 정책금융협의회 선정 「혁신성...   \n",
       "\n",
       "                                  상품설명  \n",
       "0  9대 선도산업 등 정부발표 혁신성장 분야에 대한 효율적 금융지원  "
      ]
     },
     "execution_count": 444,
     "metadata": {},
     "output_type": "execute_result"
    }
   ],
   "source": [
    "data = pd.read_csv(os.path.join(data_path, 'financial', 'SHINHAN BANK_Financial_Product_Scraping_Result_20240104_LOAN_vec.csv'))\n",
    "data.head(1)"
   ]
  },
  {
   "cell_type": "raw",
   "id": "36299aed-be10-49e2-8547-c5b413c4fed3",
   "metadata": {},
   "source": [
    "data['예금_고유키'] = data['예금_고유키'].apply(lambda x: '예금' + '_' + x.split('_')[1])\n",
    "data.head(1)"
   ]
  },
  {
   "cell_type": "raw",
   "id": "bbfc1963-4e07-4c58-a6e3-c7d1a57a751a",
   "metadata": {},
   "source": [
    "chroma_client.delete_collection('desc')"
   ]
  },
  {
   "cell_type": "code",
   "execution_count": 445,
   "id": "8af4ffa5-af60-46a6-911d-8ba0003a9e63",
   "metadata": {},
   "outputs": [
    {
     "data": {
      "text/plain": [
       "1343"
      ]
     },
     "execution_count": 445,
     "metadata": {},
     "output_type": "execute_result"
    }
   ],
   "source": [
    "nona = data.copy() \n",
    "nona.dropna(subset='상품설명', inplace=True)\n",
    "len(nona)"
   ]
  },
  {
   "cell_type": "code",
   "execution_count": 446,
   "id": "16c62226-4eeb-4162-a09e-d6c674d652cb",
   "metadata": {},
   "outputs": [],
   "source": [
    "category = 'loan'\n",
    "\n",
    "id_list = nona.대출_고유키.values.tolist()\n",
    "name_list = nona.금융상품명.values.tolist()\n",
    "desc_list = nona.상품설명.values.tolist()"
   ]
  },
  {
   "cell_type": "code",
   "execution_count": 447,
   "id": "9e733dd6-ea55-41cc-be38-cdb00b7f9b1e",
   "metadata": {},
   "outputs": [],
   "source": [
    "documents = []\n",
    "for idx in range(len(desc_list)):\n",
    "    doc = Document(text=desc_list[idx], doc_id=id_list[idx], metadata={\"category\": category, \"name\": name_list[idx]},\n",
    "                   excluded_llm_metadata_keys = ['category', 'name'])\n",
    "    documents.append(doc)"
   ]
  },
  {
   "cell_type": "code",
   "execution_count": 448,
   "id": "ec6bd8c7-af02-46ce-b333-ec796d0f76d7",
   "metadata": {},
   "outputs": [],
   "source": [
    "for doc in documents:\n",
    "    index.insert(doc)"
   ]
  },
  {
   "cell_type": "markdown",
   "id": "dc0409ea-4ee6-4eb3-98ed-2f68efb98476",
   "metadata": {},
   "source": [
    "### Save Index "
   ]
  },
  {
   "cell_type": "code",
   "execution_count": 450,
   "id": "8d0a69d3-b251-47a9-aaef-4a0cb8ebdb83",
   "metadata": {},
   "outputs": [],
   "source": [
    "index.storage_context.persist(persist_dir=os.path.join(index_path, 'desc'))"
   ]
  },
  {
   "cell_type": "markdown",
   "id": "4ae6b644-fbd2-475a-9959-ed9bec3af063",
   "metadata": {},
   "source": [
    "### Index Load "
   ]
  },
  {
   "cell_type": "raw",
   "id": "b7c387b3-2dba-4141-bc1d-b1b6146df4f9",
   "metadata": {},
   "source": [
    "index_path"
   ]
  },
  {
   "cell_type": "raw",
   "id": "a66c2263-1f7c-48ef-8b02-7984d70ad023",
   "metadata": {},
   "source": [
    "from llama_index import StorageContext, load_index_from_storage, load_indices_from_storage\n",
    "\n",
    "desc_storage_context = StorageContext.from_defaults(persist_dir=os.path.join(index_path, 'desc'))\n",
    "features_storage_context = StorageContext.from_defaults(persist_dir=os.path.join(index_path, 'features'))\n",
    "qualification_storage_context = StorageContext.from_defaults(persist_dir=os.path.join(index_path, 'qualification'))"
   ]
  },
  {
   "cell_type": "raw",
   "id": "5c1c306d-45f5-4013-80b4-0a082601c91f",
   "metadata": {
    "scrolled": true
   },
   "source": [
    "features_idx = load_index_from_storage(features_storage_context, index_id='loan_tmp')\n",
    "desc_idx = load_indices_from_storage(desc_storage_context, index_ids=['card_tmp', 'deposit_tmp'])\n",
    "qualification_idx = load_index_from_storage(qualification_storage_context)"
   ]
  },
  {
   "cell_type": "raw",
   "id": "bc9fcfe5-b18d-49e2-8660-4993ec68fcd4",
   "metadata": {},
   "source": [
    "''' VectorDB를 사용하는 경우 '''\n",
    "\n",
    "vector_store = ChromaVectorStore(chroma_collection=chroma_collection)\n",
    "storage_context = StorageContext.from_defaults(vector_store=vector_store)\n",
    "service_context = ServiceContext.from_defaults(embed_model=embed_model)\n",
    "index = VectorStoreIndex.from_documents(\n",
    "    documents, storage_context=storage_context, service_context=service_context\n",
    ")"
   ]
  }
 ],
 "metadata": {
  "kernelspec": {
   "display_name": "Python 3 (ipykernel)",
   "language": "python",
   "name": "python3"
  },
  "language_info": {
   "codemirror_mode": {
    "name": "ipython",
    "version": 3
   },
   "file_extension": ".py",
   "mimetype": "text/x-python",
   "name": "python",
   "nbconvert_exporter": "python",
   "pygments_lexer": "ipython3",
   "version": "3.10.13"
  }
 },
 "nbformat": 4,
 "nbformat_minor": 5
}
