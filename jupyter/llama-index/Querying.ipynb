{
 "cells": [
  {
   "cell_type": "raw",
   "id": "efeb46f3-1cdb-4bfc-8f87-fccbdbd98203",
   "metadata": {},
   "source": [
    "Stages of querying \n",
    "\n",
    "step 1: Retrieval    - find and return most relevant document\n",
    "step 2: Postprocessing   - reranked, transformed, filtered for instance having specific metadata (e.g keyword attached) \n",
    "step 3: Response synthesis  - most-relevant data and prompt combined and sent to llm for a response "
   ]
  },
  {
   "cell_type": "code",
   "execution_count": 5,
   "id": "61e8bd9c-f23a-4946-8326-1a229cbd8bee",
   "metadata": {},
   "outputs": [],
   "source": [
    "from llama_index import VectorStoreIndex, SimpleDirectoryReader, ServiceContext\n",
    "from llama_index.vector_stores import ChromaVectorStore\n",
    "from llama_index.readers.chroma import ChromaReader\n",
    "from llama_index import StorageContext, load_index_from_storage, load_indices_from_storage\n",
    "# from transformers import AutoTokenizer, AutoModel\n",
    "from llama_index.embeddings import HuggingFaceEmbedding\n",
    "from llama_index.node_parser import SentenceSplitter \n",
    "from llama_index.schema import MetadataMode\n",
    "from IPython.display import Markdown, display\n",
    "import chromadb\n",
    "import pandas as pd \n",
    "import openai\n",
    "import os\n",
    "import getpass"
   ]
  },
  {
   "cell_type": "code",
   "execution_count": 2,
   "id": "24c721da-ba41-4993-be62-d7e621332316",
   "metadata": {},
   "outputs": [],
   "source": [
    "data_path = os.path.join('/workspace/data/')\n",
    "index_path = os.path.join('/workspace/db/local')"
   ]
  },
  {
   "cell_type": "code",
   "execution_count": 3,
   "id": "ab337c73-8d43-4d14-b284-7442d1aa1397",
   "metadata": {},
   "outputs": [
    {
     "name": "stdin",
     "output_type": "stream",
     "text": [
      "OpenAI API Key: ········\n"
     ]
    }
   ],
   "source": [
    "os.environ[\"OPENAI_API_KEY\"] = getpass.getpass(\"OpenAI API Key:\")\n",
    "openai.api_key = os.environ[\"OPENAI_API_KEY\"]"
   ]
  },
  {
   "cell_type": "code",
   "execution_count": 4,
   "id": "b79bfa04-f538-41c7-9b87-af2f88f62c71",
   "metadata": {},
   "outputs": [],
   "source": [
    "model_name = 'kakaobank/kf-deberta-base'\n",
    "embed_model = HuggingFaceEmbedding(model_name=model_name)"
   ]
  },
  {
   "cell_type": "code",
   "execution_count": 6,
   "id": "456efc4c-dc66-4cba-936f-0d074182eb2f",
   "metadata": {},
   "outputs": [],
   "source": [
    "parser = SentenceSplitter(chunk_size=512, chunk_overlap=30)   # SentenceSplitter(chunk_size=1024, chunk_overlap=20)"
   ]
  },
  {
   "cell_type": "code",
   "execution_count": 7,
   "id": "12075847-3e8a-4c1f-a99a-817737bb0b26",
   "metadata": {},
   "outputs": [],
   "source": [
    "desc_storage_context = StorageContext.from_defaults(persist_dir=os.path.join(index_path, 'desc'))\n",
    "features_storage_context = StorageContext.from_defaults(persist_dir=os.path.join(index_path, 'features'))\n",
    "qualification_storage_context = StorageContext.from_defaults(persist_dir=os.path.join(index_path, 'qualification'))"
   ]
  },
  {
   "cell_type": "code",
   "execution_count": 8,
   "id": "d24f86f7-16f2-4769-bd1b-ac784ddf8b2e",
   "metadata": {},
   "outputs": [],
   "source": [
    "service_context = ServiceContext.from_defaults(node_parser=parser, embed_model=embed_model)"
   ]
  },
  {
   "cell_type": "code",
   "execution_count": 9,
   "id": "682b3d12-befd-4f80-8a7d-fbd6e0691539",
   "metadata": {},
   "outputs": [],
   "source": [
    "# service_context 전달 안해주면 query 시 dimension 오류 발생 \n",
    "features_idx = load_index_from_storage(features_storage_context, index_id='loan_tmp', service_context=service_context)\n",
    "desc_idx = load_indices_from_storage(desc_storage_context, index_ids=['card_tmp', 'loan_tmp', 'deposit_tmp'], service_context=service_context)\n",
    "qualification_idx = load_index_from_storage(qualification_storage_context, index_id='loan_tmp', service_context=service_context)"
   ]
  },
  {
   "cell_type": "code",
   "execution_count": 10,
   "id": "2dd671df-6fe5-45c0-962e-86bdf24fca25",
   "metadata": {
    "scrolled": true
   },
   "outputs": [
    {
     "data": {
      "text/plain": [
       "Response(response='서민금융진흥원의 보증을 통해 신청 가능한 카드의 보증 자격은 군인연금수급자임을 증명하는 신분증을 가지고 있는 사람들입니다. 이러한 사람들은 전국 군복지시설 및 5대 대표업종 청구할인, 버스요금 지원서비스를 받을 수 있습니다.', source_nodes=[NodeWithScore(node=TextNode(id_='902300ff-cbca-47f7-bd8d-5235a4c79b5c', embedding=None, metadata={'category': 'card'}, excluded_embed_metadata_keys=[], excluded_llm_metadata_keys=['category'], relationships={<NodeRelationship.SOURCE: '1'>: RelatedNodeInfo(node_id='카드_1016', node_type=<ObjectType.DOCUMENT: '4'>, metadata={'category': 'card'}, hash='f1d7cec412088a7b70fb8e6387a4e2eb1e735924b3add09139ec520f6b849c1f'), <NodeRelationship.PREVIOUS: '2'>: RelatedNodeInfo(node_id='5cd004e9-c047-437d-a69c-60ae0e78bff8', node_type=<ObjectType.TEXT: '1'>, metadata={'category': 'card'}, hash='07f50829d05259589f87b15fbb2aa65512a9f817d23e35896e89eed6b02d4a86'), <NodeRelationship.NEXT: '3'>: RelatedNodeInfo(node_id='206c2c2c-0d11-47f9-a8e9-af8b852845ee', node_type=<ObjectType.TEXT: '1'>, metadata={}, hash='4c30177fed83222468f96faa993e4a64ea70059be9d572e2bde3941b02476d07')}, hash='f1d7cec412088a7b70fb8e6387a4e2eb1e735924b3add09139ec520f6b849c1f', text='서민금융진흥원의 보증을 통해 신청 가능한 카드', start_char_idx=0, end_char_idx=25, text_template='{metadata_str}\\n\\n{content}', metadata_template='{key}: {value}', metadata_seperator='\\n'), score=0.6120229969209772), NodeWithScore(node=TextNode(id_='8f16525a-0d05-434b-9274-ac4e9fa2173f', embedding=None, metadata={'category': 'card'}, excluded_embed_metadata_keys=[], excluded_llm_metadata_keys=['category'], relationships={<NodeRelationship.SOURCE: '1'>: RelatedNodeInfo(node_id='카드_80', node_type=<ObjectType.DOCUMENT: '4'>, metadata={'category': 'card'}, hash='1ff417d5fd10754d6e3d7790653e6a95124af80aefb7295196a77710b2b9728f'), <NodeRelationship.PREVIOUS: '2'>: RelatedNodeInfo(node_id='769ff874-b7ea-4c7a-9939-3836f0a2648b', node_type=<ObjectType.TEXT: '1'>, metadata={'category': 'card'}, hash='c9d2e59df928a9a31a451231bbb57b70e2b639f572e27938d6a6f7053e68111f'), <NodeRelationship.NEXT: '3'>: RelatedNodeInfo(node_id='0f0ac24d-b7e7-48e1-92bb-19519434f2a2', node_type=<ObjectType.TEXT: '1'>, metadata={}, hash='e6776b478b3282e64ebda580e56de2a2032324ceb039498f956def57d3dbbca0')}, hash='1ff417d5fd10754d6e3d7790653e6a95124af80aefb7295196a77710b2b9728f', text='군인연금수급자임을 증명하는 신분증 기능에 전국 군복지시설 및 5대 대표업종 청구할인, 버스요금 지원서비스', start_char_idx=0, end_char_idx=58, text_template='{metadata_str}\\n\\n{content}', metadata_template='{key}: {value}', metadata_seperator='\\n'), score=0.6044373926139219)], metadata={'902300ff-cbca-47f7-bd8d-5235a4c79b5c': {'category': 'card'}, '8f16525a-0d05-434b-9274-ac4e9fa2173f': {'category': 'card'}})"
      ]
     },
     "execution_count": 10,
     "metadata": {},
     "output_type": "execute_result"
    }
   ],
   "source": [
    "query_engine = desc_idx[0].as_query_engine()\n",
    "query_engine.query('보증 자격')"
   ]
  },
  {
   "cell_type": "markdown",
   "id": "2e756157-f9fd-4574-aeb0-9b55e23d61e1",
   "metadata": {},
   "source": [
    "### Retrieve "
   ]
  },
  {
   "cell_type": "code",
   "execution_count": 13,
   "id": "4f5e1b50-408c-403f-9191-001fda807f3b",
   "metadata": {},
   "outputs": [],
   "source": [
    "from llama_index.retrievers import VectorIndexRetriever \n",
    "from llama_index.query_engine import RetrieverQueryEngine \n",
    "from llama_index.postprocessor import SimilarityPostprocessor "
   ]
  },
  {
   "cell_type": "code",
   "execution_count": 19,
   "id": "e902c486-a024-4142-b96a-6005c0aad740",
   "metadata": {},
   "outputs": [],
   "source": [
    "retriever = VectorIndexRetriever(\n",
    "    index = features_idx,\n",
    "    service_context=service_context,\n",
    "    similarity_top_k = 10, \n",
    "    verbose=True\n",
    ")"
   ]
  },
  {
   "cell_type": "code",
   "execution_count": 20,
   "id": "95754103-1dd6-4e6c-8705-51e31e891dd6",
   "metadata": {},
   "outputs": [],
   "source": [
    "from llama_index import QueryBundle \n",
    "\n",
    "nodes = retriever.retrieve(QueryBundle('보증 대출'))"
   ]
  },
  {
   "cell_type": "code",
   "execution_count": 29,
   "id": "5845d138-1a95-46df-a5e9-fab3db969f31",
   "metadata": {},
   "outputs": [
    {
     "name": "stdout",
     "output_type": "stream",
     "text": [
      "num of nodes: 10\n"
     ]
    },
    {
     "data": {
      "text/plain": [
       "('국민행복기금으로부터 신용보증서를 발급 받은 고객의 연20%이상의 고금리대출을 은행의 저금리 대출로 전환해주는 대출 상품',\n",
       " 0.721333835387794)"
      ]
     },
     "execution_count": 29,
     "metadata": {},
     "output_type": "execute_result"
    }
   ],
   "source": [
    "print(f'num of nodes: {len(nodes)}')\n",
    "nodes[1].text, nodes[1].score"
   ]
  },
  {
   "cell_type": "markdown",
   "id": "0d815850-3c0f-49cf-8e94-944a473c9585",
   "metadata": {},
   "source": [
    "### PostProcessor "
   ]
  },
  {
   "cell_type": "code",
   "execution_count": 28,
   "id": "902bc4a3-2d50-4b15-b38b-d2d4055c135f",
   "metadata": {},
   "outputs": [],
   "source": [
    "from llama_index.postprocessor import SimilarityPostprocessor, CohereRerank\n",
    "from llama_index.schema import Node, NodeWithScore "
   ]
  },
  {
   "cell_type": "code",
   "execution_count": 33,
   "id": "ece5b18e-65f5-4a1f-b7d2-c4a613be563c",
   "metadata": {},
   "outputs": [],
   "source": [
    "# similarity post processor \n",
    "processor = SimilarityPostprocessor(similarity_cutoff=0.71)\n",
    "filtered = processor.postprocess_nodes(nodes)"
   ]
  },
  {
   "cell_type": "code",
   "execution_count": 45,
   "id": "dd446862-3f90-424d-b7a5-dc81ef1ab49e",
   "metadata": {},
   "outputs": [
    {
     "data": {
      "text/plain": [
       "NodeWithScore(node=TextNode(id_='5a8b8c76-d97f-4ee7-87ee-aeb3e60cdacd', embedding=None, metadata={'category': 'loan'}, excluded_embed_metadata_keys=[], excluded_llm_metadata_keys=['category'], relationships={<NodeRelationship.SOURCE: '1'>: RelatedNodeInfo(node_id='대출_852', node_type=<ObjectType.DOCUMENT: '4'>, metadata={'category': 'loan'}, hash='a60af23bbf14937554f340c059c7eb99ad0f0cfcf9d3d4f6527746d2375aa6ba'), <NodeRelationship.PREVIOUS: '2'>: RelatedNodeInfo(node_id='95435469-e1e8-428f-ade6-2ee2101f5924', node_type=<ObjectType.TEXT: '1'>, metadata={'category': 'loan'}, hash='efbbf86cada436a84c1203c58317827e0ca887812e09d5beb05c33accc12d6f0'), <NodeRelationship.NEXT: '3'>: RelatedNodeInfo(node_id='5ffb1ab1-6099-41f3-8b92-c0eb66f1ad78', node_type=<ObjectType.TEXT: '1'>, metadata={}, hash='556a6407d88aebf899ab1c287cc6db398c447d5032a4d4a23f905fc75c6efb68')}, hash='a60af23bbf14937554f340c059c7eb99ad0f0cfcf9d3d4f6527746d2375aa6ba', text='제2금융권 전세자금대출을 전액 상환하기 위해 주택금융신용보증서를 담보로 한 대출', start_char_idx=0, end_char_idx=44, text_template='{metadata_str}\\n\\n{content}', metadata_template='{key}: {value}', metadata_seperator='\\n'), score=0.735662646015599)"
      ]
     },
     "execution_count": 45,
     "metadata": {},
     "output_type": "execute_result"
    }
   ],
   "source": [
    "filtered[0]"
   ]
  },
  {
   "cell_type": "code",
   "execution_count": 34,
   "id": "3e09f6c1-acdc-4a5d-95b7-d09be05a53b4",
   "metadata": {},
   "outputs": [
    {
     "data": {
      "text/plain": [
       "5"
      ]
     },
     "execution_count": 34,
     "metadata": {},
     "output_type": "execute_result"
    }
   ],
   "source": [
    "len(filtered)"
   ]
  },
  {
   "cell_type": "code",
   "execution_count": 40,
   "id": "69d2a3d0-f4b5-497a-b9ab-ed4e1fb8a551",
   "metadata": {},
   "outputs": [
    {
     "data": {
      "text/plain": [
       "(0.735662646015599, '제2금융권 전세자금대출을 전액 상환하기 위해 주택금융신용보증서를 담보로 한 대출')"
      ]
     },
     "execution_count": 40,
     "metadata": {},
     "output_type": "execute_result"
    }
   ],
   "source": [
    "filtered[0].score, filtered[0].text"
   ]
  },
  {
   "cell_type": "code",
   "execution_count": 56,
   "id": "7ec478dd-8bbe-4609-8566-d726bae19b30",
   "metadata": {},
   "outputs": [
    {
     "data": {
      "text/plain": [
       "2"
      ]
     },
     "execution_count": 56,
     "metadata": {},
     "output_type": "execute_result"
    }
   ],
   "source": [
    "from llama_index.postprocessor import KeywordNodePostprocessor \n",
    "\n",
    "postprocessor = KeywordNodePostprocessor(\n",
    "    required_keywords=['대출']\n",
    ")\n",
    "\n",
    "len(postprocessor.postprocess_nodes(filtered))"
   ]
  },
  {
   "cell_type": "markdown",
   "id": "98f2257f-5236-459d-8874-a6caffaf4fc2",
   "metadata": {},
   "source": [
    "### Re-ranking "
   ]
  },
  {
   "cell_type": "code",
   "execution_count": null,
   "id": "28fd1cc7-7de9-47c0-935c-d052dbcaaaae",
   "metadata": {},
   "outputs": [],
   "source": []
  }
 ],
 "metadata": {
  "kernelspec": {
   "display_name": "Python 3 (ipykernel)",
   "language": "python",
   "name": "python3"
  },
  "language_info": {
   "codemirror_mode": {
    "name": "ipython",
    "version": 3
   },
   "file_extension": ".py",
   "mimetype": "text/x-python",
   "name": "python",
   "nbconvert_exporter": "python",
   "pygments_lexer": "ipython3",
   "version": "3.10.13"
  }
 },
 "nbformat": 4,
 "nbformat_minor": 5
}
