{
 "cells": [
  {
   "cell_type": "markdown",
   "id": "ffded25f-9434-4e07-84f3-389c6f564946",
   "metadata": {},
   "source": [
    "### Default Setting "
   ]
  },
  {
   "cell_type": "code",
   "execution_count": 5,
   "id": "262bafbd-633e-4c2f-941a-c1d85ab53f99",
   "metadata": {},
   "outputs": [],
   "source": [
    "from llama_index import VectorStoreIndex, SimpleDirectoryReader, ServiceContext\n",
    "from llama_index.vector_stores import ChromaVectorStore\n",
    "from llama_index.readers.chroma import ChromaReader\n",
    "from llama_index import StorageContext, load_index_from_storage, load_indices_from_storage\n",
    "from transformers import AutoModelForCausalLM, AutoTokenizer, BitsAndBytesConfig\n",
    "from llama_index.embeddings import HuggingFaceEmbedding\n",
    "from llama_index.llms import HuggingFaceLLM\n",
    "from llama_index.node_parser import SentenceSplitter \n",
    "from llama_index.schema import MetadataMode\n",
    "from IPython.display import Markdown, display\n",
    "from llama_index import QueryBundle \n",
    "from peft import PeftModel, PeftConfig\n",
    "from transformers import TextStreamer, GenerationConfig\n",
    "from llama_index.response_synthesizers import (\n",
    "    ResponseMode,\n",
    "    get_response_synthesizer,\n",
    ")\n",
    "import chromadb\n",
    "import pandas as pd\n",
    "import json \n",
    "import openai\n",
    "import os\n",
    "import getpass\n",
    "import torch"
   ]
  },
  {
   "cell_type": "code",
   "execution_count": 6,
   "id": "8ee6d336-2a4d-48b4-a386-a3119de2893f",
   "metadata": {},
   "outputs": [],
   "source": [
    "data_path = os.path.join('/workspace/data/')\n",
    "index_path = os.path.join('/workspace/db/chroma-llama')\n",
    "config_path = os.path.join('/workspace/config')"
   ]
  },
  {
   "cell_type": "raw",
   "id": "33e365ac-91f4-4b02-bd0a-fcff91a24b14",
   "metadata": {},
   "source": [
    "os.environ[\"OPENAI_API_KEY\"] = getpass.getpass(\"OpenAI API Key:\")\n",
    "openai.api_key = os.environ[\"OPENAI_API_KEY\"]"
   ]
  },
  {
   "cell_type": "code",
   "execution_count": 7,
   "id": "873885cc-3d06-4904-8963-5ca901c60bd1",
   "metadata": {},
   "outputs": [
    {
     "data": {
      "application/vnd.jupyter.widget-view+json": {
       "model_id": "832f49f6fe0b447cbfa29aa7ad80a3e2",
       "version_major": 2,
       "version_minor": 0
      },
      "text/plain": [
       "Loading checkpoint shards:   0%|          | 0/2 [00:00<?, ?it/s]"
      ]
     },
     "metadata": {},
     "output_type": "display_data"
    }
   ],
   "source": [
    "model_name='davidkim205/komt-mistral-7b-v1'\n",
    "model = AutoModelForCausalLM.from_pretrained(model_name, torch_dtype=torch.float16, low_cpu_mem_usage=True) # , device_map=\"auto\")\n",
    "tokenizer = AutoTokenizer.from_pretrained(model_name)\n",
    "streamer = TextStreamer(tokenizer)"
   ]
  },
  {
   "cell_type": "code",
   "execution_count": 8,
   "id": "d64676f5-fa30-4a3c-8af6-8218b6dbcb88",
   "metadata": {
    "scrolled": true
   },
   "outputs": [
    {
     "data": {
      "text/plain": [
       "MistralForCausalLM(\n",
       "  (model): MistralModel(\n",
       "    (embed_tokens): Embedding(32000, 4096)\n",
       "    (layers): ModuleList(\n",
       "      (0-31): 32 x MistralDecoderLayer(\n",
       "        (self_attn): MistralAttention(\n",
       "          (q_proj): Linear(in_features=4096, out_features=4096, bias=False)\n",
       "          (k_proj): Linear(in_features=4096, out_features=1024, bias=False)\n",
       "          (v_proj): Linear(in_features=4096, out_features=1024, bias=False)\n",
       "          (o_proj): Linear(in_features=4096, out_features=4096, bias=False)\n",
       "          (rotary_emb): MistralRotaryEmbedding()\n",
       "        )\n",
       "        (mlp): MistralMLP(\n",
       "          (gate_proj): Linear(in_features=4096, out_features=14336, bias=False)\n",
       "          (up_proj): Linear(in_features=4096, out_features=14336, bias=False)\n",
       "          (down_proj): Linear(in_features=14336, out_features=4096, bias=False)\n",
       "          (act_fn): SiLU()\n",
       "        )\n",
       "        (input_layernorm): MistralRMSNorm()\n",
       "        (post_attention_layernorm): MistralRMSNorm()\n",
       "      )\n",
       "    )\n",
       "    (norm): MistralRMSNorm()\n",
       "  )\n",
       "  (lm_head): Linear(in_features=4096, out_features=32000, bias=False)\n",
       ")"
      ]
     },
     "execution_count": 8,
     "metadata": {},
     "output_type": "execute_result"
    }
   ],
   "source": [
    "g_device = torch.device(\"cuda\") if torch.cuda.is_available() else \"cpu\"\n",
    "model.to(g_device)"
   ]
  },
  {
   "cell_type": "code",
   "execution_count": 9,
   "id": "afde3928-023e-42ab-a079-9cb32b5b5d77",
   "metadata": {},
   "outputs": [],
   "source": [
    "generation_config = GenerationConfig(\n",
    "    temperature=0.8,\n",
    "    do_sample=True,\n",
    "    top_p=0.95,\n",
    "    max_new_tokens=512,\n",
    ")"
   ]
  },
  {
   "cell_type": "markdown",
   "id": "4cfb82ce-72b4-4bcd-b6ba-c504170999e8",
   "metadata": {},
   "source": [
    "### Retrieve "
   ]
  },
  {
   "cell_type": "code",
   "execution_count": 10,
   "id": "6fadcd48-c8cd-4222-9fa4-5cba58dc2d84",
   "metadata": {},
   "outputs": [],
   "source": [
    "from llama_index.retrievers import VectorIndexRetriever \n",
    "from llama_index.vector_stores import SimpleVectorStore\n",
    "from llama_index.query_engine import RetrieverQueryEngine \n",
    "from llama_index.postprocessor import SimilarityPostprocessor \n",
    "from llama_index.postprocessor import SentenceTransformerRerank \n",
    "from llama_index.postprocessor import KeywordNodePostprocessor \n",
    "from llama_index.postprocessor import SimilarityPostprocessor, CohereRerank\n",
    "from llama_index.schema import Node, NodeWithScore "
   ]
  },
  {
   "cell_type": "code",
   "execution_count": 11,
   "id": "22c43daa-0558-4398-81b1-9ec6d8677662",
   "metadata": {},
   "outputs": [],
   "source": [
    "db = chromadb.PersistentClient(path=\"/workspace/db/chroma-llama\")\n",
    "desc_collection = db.get_or_create_collection(\"desc\")\n",
    "feature_collection = db.get_or_create_collection(\"feature\")\n",
    "qualification_collection = db.get_or_create_collection(\"qualification\")"
   ]
  },
  {
   "cell_type": "code",
   "execution_count": 18,
   "id": "d215b1ec-b8df-4eb7-8b3c-40256bb3264e",
   "metadata": {},
   "outputs": [],
   "source": [
    "desc_store = ChromaVectorStore(chroma_collection=desc_collection)\n",
    "feature_store = ChromaVectorStore(chroma_collection=feature_collection)\n",
    "qualification_store = ChromaVectorStore(chroma_collection=qualification_collection)"
   ]
  },
  {
   "cell_type": "raw",
   "id": "83226cb0-9c23-4eda-9d24-27300fe0b27d",
   "metadata": {},
   "source": [
    "desc_storage = StorageContext.from_defaults(vector_store=desc_store)\n",
    "feature_storage = StorageContext.from_defaults(vector_store=feature_store)\n",
    "qualification_storage = StorageContext.from_defaults(vector_store=qualification_store)"
   ]
  },
  {
   "cell_type": "raw",
   "id": "e557c750-9e2b-4313-aef1-24723187500c",
   "metadata": {
    "scrolled": true
   },
   "source": [
    "desc_dict = desc_store.to_dict()\n",
    "features_dict = feature_store.to_dict()\n",
    "qualification_dict = qualification_store.to_dict()"
   ]
  },
  {
   "cell_type": "raw",
   "id": "b8d3738b-3274-4aa6-a5fa-b6776ae13b42",
   "metadata": {},
   "source": [
    "desc_dict"
   ]
  },
  {
   "cell_type": "code",
   "execution_count": 12,
   "id": "c70f88c9-39c7-47c8-9bf2-6d5cc86517db",
   "metadata": {},
   "outputs": [
    {
     "data": {
      "text/plain": [
       "1023"
      ]
     },
     "execution_count": 12,
     "metadata": {},
     "output_type": "execute_result"
    }
   ],
   "source": [
    "desc_collection.count()   # 2887"
   ]
  },
  {
   "cell_type": "markdown",
   "id": "a4e7749e-e6db-4431-a3ae-0af2c6ab04b3",
   "metadata": {},
   "source": [
    "#### - Embedding Model  - kakaobank "
   ]
  },
  {
   "cell_type": "code",
   "execution_count": 13,
   "id": "4ad3cd99-127b-44a5-b1c5-e9464acfe19d",
   "metadata": {},
   "outputs": [],
   "source": [
    "model_name = 'kakaobank/kf-deberta-base'\n",
    "embed_model = HuggingFaceEmbedding(model_name=model_name)"
   ]
  },
  {
   "cell_type": "code",
   "execution_count": 14,
   "id": "6688dd9a-610c-4732-a191-8c6affddf32c",
   "metadata": {},
   "outputs": [
    {
     "name": "stdout",
     "output_type": "stream",
     "text": [
      "LLM is explicitly disabled. Using MockLLM.\n"
     ]
    }
   ],
   "source": [
    "service_context = ServiceContext.from_defaults(embed_model=embed_model, llm=None)"
   ]
  },
  {
   "cell_type": "code",
   "execution_count": 15,
   "id": "9e30eb0d-5dc0-48f8-a679-6d6a162653c8",
   "metadata": {},
   "outputs": [],
   "source": [
    "parser = SentenceSplitter(chunk_size=512, chunk_overlap=30)   # SentenceSplitter(chunk_size=1024, chunk_overlap=20)"
   ]
  },
  {
   "cell_type": "code",
   "execution_count": 16,
   "id": "2e71c2a1-755f-4f54-a7de-87b9c6fdae88",
   "metadata": {},
   "outputs": [
    {
     "name": "stdout",
     "output_type": "stream",
     "text": [
      "LLM is explicitly disabled. Using MockLLM.\n"
     ]
    }
   ],
   "source": [
    "embedding_service = ServiceContext.from_defaults(node_parser=parser, embed_model=embed_model, llm=None)"
   ]
  },
  {
   "cell_type": "code",
   "execution_count": 19,
   "id": "9e900954-4aae-41c2-81a8-4df0307de301",
   "metadata": {},
   "outputs": [],
   "source": [
    "# service_context 전달 안해주면 query 시 dimension 오류 발생 \n",
    "features_idx = VectorStoreIndex.from_vector_store(feature_store, service_context=embedding_service)\n",
    "desc_idx = VectorStoreIndex.from_vector_store(desc_store, service_context=embedding_service)\n",
    "qualification_idx = VectorStoreIndex.from_vector_store(qualification_store, service_context=embedding_service)"
   ]
  },
  {
   "cell_type": "markdown",
   "id": "3cdd2814-0bc2-4fb1-9abf-aa75c7b99a8f",
   "metadata": {},
   "source": [
    "#### - Retriever "
   ]
  },
  {
   "cell_type": "code",
   "execution_count": 20,
   "id": "def9d677-fa89-4431-bd23-927785be9cb5",
   "metadata": {},
   "outputs": [],
   "source": [
    "retriever = VectorIndexRetriever(\n",
    "    index = desc_idx,\n",
    "    service_context=embedding_service,\n",
    "    similarity_top_k = 10, \n",
    "    verbose=True\n",
    ")"
   ]
  },
  {
   "cell_type": "code",
   "execution_count": 21,
   "id": "34e2ffe9-f62f-41a1-b125-c4dd5ba8761b",
   "metadata": {},
   "outputs": [],
   "source": [
    "def get_retrieved_nodes(\n",
    "    retriever, query_str, vector_top_k=10, similarity_cutoff=0.6, reranker_top_n=3, service_context=None, with_reranker=False\n",
    "):\n",
    "    # query bundle 생성 \n",
    "    query_bundle = QueryBundle(query_str)\n",
    "\n",
    "    # 유사도가 제일 높은 node 추출 \n",
    "    retrieved_nodes = retriever.retrieve(query_bundle)\n",
    "\n",
    "    # 전처리  - 유사 점수 기준 Cutoff \n",
    "    node_postprocessors = SimilarityPostprocessor(similarity_cutoff=similarity_cutoff)\n",
    "    processed_nodes = node_postprocessors.postprocess_nodes(retrieved_nodes)\n",
    "    \n",
    "    if with_reranker:   # 재순위화 \n",
    "        reranker = SentenceTransformerRerank(\n",
    "            model='bongsoo/albert-small-kor-cross-encoder-v1',\n",
    "            top_n=reranker_top_n,\n",
    "        )\n",
    "        reranked_nodes = reranker.postprocess_nodes(\n",
    "            processed_nodes, query_bundle\n",
    "        )\n",
    "    return reranked_nodes"
   ]
  },
  {
   "cell_type": "code",
   "execution_count": 22,
   "id": "80cd1d70-e5da-44bb-87d4-11ba9db5a14a",
   "metadata": {},
   "outputs": [],
   "source": [
    "with_reranker = True\n",
    "cutoff = 0.2\n",
    "\n",
    "queries = ['렌탈 요금 청구 할인', '주유소 할인', 'KT 통신 요금 할인', '아파트 관리비', '청년들을 위한 적금 상품 '] \n",
    "query = '렌탈 요금 청구 할인' # queries[0]"
   ]
  },
  {
   "cell_type": "raw",
   "id": "917dc232-2b76-439e-af65-2f0b5c2cfb30",
   "metadata": {},
   "source": [
    "embedding_service"
   ]
  },
  {
   "cell_type": "code",
   "execution_count": 24,
   "id": "7b11ab82-8b4f-4f23-a254-6ab257e06719",
   "metadata": {},
   "outputs": [
    {
     "name": "stdout",
     "output_type": "stream",
     "text": [
      "0.7633793354034424\n"
     ]
    }
   ],
   "source": [
    "import time\n",
    "\n",
    "start = time.time()\n",
    "retrieved_nodes = retriever.retrieve(query)\n",
    "nodes = get_retrieved_nodes(retriever, query, similarity_cutoff=cutoff, service_context=embedding_service, with_reranker=with_reranker)\n",
    "end = time.time() - start \n",
    "print(end)"
   ]
  },
  {
   "cell_type": "code",
   "execution_count": 25,
   "id": "2d01ea84-64c9-4072-a963-8a525cd66438",
   "metadata": {},
   "outputs": [
    {
     "data": {
      "text/plain": [
       "0.65832305"
      ]
     },
     "execution_count": 25,
     "metadata": {},
     "output_type": "execute_result"
    }
   ],
   "source": [
    "nodes[0].score"
   ]
  },
  {
   "cell_type": "code",
   "execution_count": 26,
   "id": "1b0aceb4-2fb9-4feb-baa3-73495aa84313",
   "metadata": {},
   "outputs": [
    {
     "data": {
      "text/plain": [
       "{'category': 'card', 'name': 'NEW 렌탈 플러스 하나카드'}"
      ]
     },
     "execution_count": 26,
     "metadata": {},
     "output_type": "execute_result"
    }
   ],
   "source": [
    "nodes[0].node.relationships['1'].metadata"
   ]
  },
  {
   "cell_type": "code",
   "execution_count": 27,
   "id": "1291a9c3-a96f-497e-abb3-20b2dc224181",
   "metadata": {},
   "outputs": [
    {
     "name": "stdout",
     "output_type": "stream",
     "text": [
      "key: 1, value: node_id='카드_1064' node_type=<ObjectType.DOCUMENT: '4'> metadata={'category': 'card', 'name': 'NEW 렌탈 플러스 하나카드'} hash='90392ac21267d9c5d97da6f6c6c1d471c44ff79c0739632924fc94e81f1e6dd5'\n",
      "\n",
      "key: 2, value: node_id='09bf1380-fd5b-4481-8fbb-ccac80323db1' node_type=<ObjectType.TEXT: '1'> metadata={'category': 'card', 'name': 'LG전자 플러스 하나카드'} hash='d51f79921ab96c6dfb2987685bd78bd4904a27558d504495f6ceb9ab01dfc8c7'\n",
      "\n",
      "key: 3, value: node_id='6574a0f1-0ea0-4809-beed-7c99b5218b98' node_type=<ObjectType.TEXT: '1'> metadata={} hash='2255a2418f9a9575fff5e8c4ec130a434b07d8d1be99a42019b79a788460cb2a'\n",
      "\n"
     ]
    }
   ],
   "source": [
    "for key, value in nodes[0].node.relationships.items():\n",
    "    print(f\"key: {key}, value: {value}\", end='\\n\\n')"
   ]
  },
  {
   "cell_type": "code",
   "execution_count": 28,
   "id": "c14ed0fe-865b-4080-877c-1c4859f4997a",
   "metadata": {},
   "outputs": [],
   "source": [
    "def get_info(retrieved_node):\n",
    "    '''\n",
    "    id, text, score 반환 \n",
    "    '''\n",
    "    id = retrieved_node.node.relationships['1'].node_id\n",
    "    name = retrieved_node.node.relationships['1'].metadata['name']\n",
    "    txt = retrieved_node.node.text \n",
    "    score = retrieved_node.score \n",
    "    return [id, name, txt, score] "
   ]
  },
  {
   "cell_type": "code",
   "execution_count": 29,
   "id": "78150821-d680-411d-b85c-471da040b4d6",
   "metadata": {
    "scrolled": true
   },
   "outputs": [
    {
     "data": {
      "text/plain": [
       "[NodeWithScore(node=TextNode(id_='634869f8-d3b7-46a0-82dd-7346cdcfd4a7', embedding=None, metadata={'category': 'card', 'name': 'NEW 렌탈 플러스 하나카드'}, excluded_embed_metadata_keys=[], excluded_llm_metadata_keys=['category', 'name'], relationships={<NodeRelationship.SOURCE: '1'>: RelatedNodeInfo(node_id='카드_1064', node_type=<ObjectType.DOCUMENT: '4'>, metadata={'category': 'card', 'name': 'NEW 렌탈 플러스 하나카드'}, hash='90392ac21267d9c5d97da6f6c6c1d471c44ff79c0739632924fc94e81f1e6dd5'), <NodeRelationship.PREVIOUS: '2'>: RelatedNodeInfo(node_id='09bf1380-fd5b-4481-8fbb-ccac80323db1', node_type=<ObjectType.TEXT: '1'>, metadata={'category': 'card', 'name': 'LG전자 플러스 하나카드'}, hash='d51f79921ab96c6dfb2987685bd78bd4904a27558d504495f6ceb9ab01dfc8c7'), <NodeRelationship.NEXT: '3'>: RelatedNodeInfo(node_id='6574a0f1-0ea0-4809-beed-7c99b5218b98', node_type=<ObjectType.TEXT: '1'>, metadata={}, hash='2255a2418f9a9575fff5e8c4ec130a434b07d8d1be99a42019b79a788460cb2a')}, hash='1221d93222d3aabae38c84ccbe1a536bf4130cb3e10b97e87a692dbd0158598a', text='렌탈요금 자동이체 시 13,000원 청구할인', start_char_idx=0, end_char_idx=24, text_template='{metadata_str}\\n\\n{content}', metadata_template='{key}: {value}', metadata_seperator='\\n'), score=0.65832305),\n",
       " NodeWithScore(node=TextNode(id_='62328ed3-3154-4411-9c30-1702df490633', embedding=None, metadata={'category': 'card', 'name': '바디프랜드 우리카드 Ⅱ'}, excluded_embed_metadata_keys=[], excluded_llm_metadata_keys=['category', 'name'], relationships={<NodeRelationship.SOURCE: '1'>: RelatedNodeInfo(node_id='카드_26', node_type=<ObjectType.DOCUMENT: '4'>, metadata={'category': 'card', 'name': '바디프랜드 우리카드 Ⅱ'}, hash='87c9f2b641e40147b6fcb04b84ee10f6dd5d4e237adce27986fe5e22acceb8b1'), <NodeRelationship.PREVIOUS: '2'>: RelatedNodeInfo(node_id='2b697f19-2547-466f-9a5c-524bae5d87ee', node_type=<ObjectType.TEXT: '1'>, metadata={'category': 'card', 'name': 'LG전자 우리카드'}, hash='0114418df820a6ea64285add1284ca829c1a900aaa420c3b22c189b2f64505fb'), <NodeRelationship.NEXT: '3'>: RelatedNodeInfo(node_id='3bdcafb3-4970-401f-8773-f0f18913cca4', node_type=<ObjectType.TEXT: '1'>, metadata={}, hash='415026dbd586195975c0440572d885bd6b39b18bd7fb6ddacc325d9518ed9f8f')}, hash='45449f90a3b096a0da0db0f1d9ff05da6d4dd9e70e91447275ec52cc9e0d372a', text='바디프랜드 렌탈요금 청구할인과 장기할부 서비스!', start_char_idx=0, end_char_idx=26, text_template='{metadata_str}\\n\\n{content}', metadata_template='{key}: {value}', metadata_seperator='\\n'), score=0.5773951),\n",
       " NodeWithScore(node=TextNode(id_='98a6bdb0-8ec7-41b6-b3a9-cdb164b0df51', embedding=None, metadata={'category': 'card', 'name': '청호나이스우리카드'}, excluded_embed_metadata_keys=[], excluded_llm_metadata_keys=['category', 'name'], relationships={<NodeRelationship.SOURCE: '1'>: RelatedNodeInfo(node_id='카드_45', node_type=<ObjectType.DOCUMENT: '4'>, metadata={'category': 'card', 'name': '청호나이스우리카드'}, hash='a4f3dfbf0ce4e78dfeacafeb7b685115b33afa3554f399d786edc333591fdeff'), <NodeRelationship.PREVIOUS: '2'>: RelatedNodeInfo(node_id='70f59d7b-533c-4daa-ba59-c5ec4f5e2b96', node_type=<ObjectType.TEXT: '1'>, metadata={'category': 'card', 'name': 'NEW 코웨이 우리카드'}, hash='8cc49c72f39f6f4a25c894820e49437b44832ab8100dfa3696508cca7b8953fd'), <NodeRelationship.NEXT: '3'>: RelatedNodeInfo(node_id='9b7d4815-2933-400f-9d12-d0d058c46dd6', node_type=<ObjectType.TEXT: '1'>, metadata={}, hash='67c166494ad1ee019a52f52163844ace5155a39e4eb4e94f44252dfe3b3785e7')}, hash='6b6c510da99865aa6dfd0f1437b27858e2f6bc579a7b7d8a38112c6dc6576ea8', text='청호나이스 렌탈요금 자동이체하고 최대 2만원 할인받자!', start_char_idx=0, end_char_idx=30, text_template='{metadata_str}\\n\\n{content}', metadata_template='{key}: {value}', metadata_seperator='\\n'), score=0.45793614)]"
      ]
     },
     "execution_count": 29,
     "metadata": {},
     "output_type": "execute_result"
    }
   ],
   "source": [
    "nodes"
   ]
  },
  {
   "cell_type": "code",
   "execution_count": 30,
   "id": "55be9531-185d-4d01-a68f-3771b1502977",
   "metadata": {},
   "outputs": [
    {
     "name": "stdout",
     "output_type": "stream",
     "text": [
      "['렌탈요금 자동이체 시 13,000원 청구할인', '렌탈 자동이체 시 월 8,000원 또는 월 13,000원 할인', '실속만점 생활할인은 기본!&lt이제 렌탈요금 까지 할인 받자!', '청호나이스 렌탈요금 자동이체하고 최대 2만원 할인받자!', '＇SK매직 삼성카드＇는 SK매직 상품 구매시 24·36개월 무이자 할부 혜택이 아닌 렌탈료 할인 혜택이 제공되는 카드입니다', '렌탈료 및 장기할부 이용 시 최대 20,000원 할인!', '바디프랜드 렌탈요금 청구할인과 장기할부 서비스!', '대명아임레디 자동이체 시 최대 19,000원 청구할인', '현대렌탈케어 렌탈요금 할인에, 다양한 생활 혜택까지 누리자!', '7개업종중선택한1개업종가맹점에서카드사용시7%청구할인']\n"
     ]
    }
   ],
   "source": [
    "print([node.text for node in retrieved_nodes])"
   ]
  },
  {
   "cell_type": "code",
   "execution_count": 31,
   "id": "875b4b94-2965-4267-b978-65d2c4522a6e",
   "metadata": {},
   "outputs": [
    {
     "data": {
      "text/plain": [
       "(['렌탈요금 자동이체 시 13,000원 청구할인',\n",
       "  '바디프랜드 렌탈요금 청구할인과 장기할부 서비스!',\n",
       "  '청호나이스 렌탈요금 자동이체하고 최대 2만원 할인받자!'],\n",
       " [0.65832305, 0.5773951, 0.45793614])"
      ]
     },
     "execution_count": 31,
     "metadata": {},
     "output_type": "execute_result"
    }
   ],
   "source": [
    "contexts = [node.text for node in nodes]\n",
    "scores = [node.score for node in nodes]\n",
    "contexts, scores "
   ]
  },
  {
   "cell_type": "code",
   "execution_count": 32,
   "id": "7d091bf1-a89c-468c-a83f-a9a4dd1db691",
   "metadata": {},
   "outputs": [
    {
     "data": {
      "text/plain": [
       "['카드_1064', 'NEW 렌탈 플러스 하나카드', '렌탈요금 자동이체 시 13,000원 청구할인', 0.65832305]"
      ]
     },
     "execution_count": 32,
     "metadata": {},
     "output_type": "execute_result"
    }
   ],
   "source": [
    "get_info(nodes[0])"
   ]
  },
  {
   "cell_type": "code",
   "execution_count": 33,
   "id": "8720162c-e747-4889-928c-eca3491a7dee",
   "metadata": {},
   "outputs": [
    {
     "data": {
      "text/plain": [
       "['카드_1064', 'NEW 렌탈 플러스 하나카드', '렌탈요금 자동이체 시 13,000원 청구할인', 0.65832305]"
      ]
     },
     "execution_count": 33,
     "metadata": {},
     "output_type": "execute_result"
    }
   ],
   "source": [
    "info = get_info(nodes[0])\n",
    "info"
   ]
  },
  {
   "cell_type": "code",
   "execution_count": 34,
   "id": "772848be-92b5-4d6f-a0ac-d796b1e27e62",
   "metadata": {},
   "outputs": [
    {
     "data": {
      "text/plain": [
       "('NEW 렌탈 플러스 하나카드', \"'NEW 렌탈 플러스 하나카드'은 렌탈요금 자동이체 시 13,000원 청구할인 관련 상품입니다.\")"
      ]
     },
     "execution_count": 34,
     "metadata": {},
     "output_type": "execute_result"
    }
   ],
   "source": [
    "product = info[1]\n",
    "context = f\"'{info[1]}'은 {info[2]} 관련 상품입니다.\"\n",
    "product, context"
   ]
  },
  {
   "cell_type": "markdown",
   "id": "0f4984bc-3673-43ce-b38a-27cd2c9f43ca",
   "metadata": {},
   "source": [
    "### Augment "
   ]
  },
  {
   "cell_type": "code",
   "execution_count": 35,
   "id": "9cb4d4fd-fb8e-4cde-922a-6e48e3533626",
   "metadata": {},
   "outputs": [
    {
     "name": "stdout",
     "output_type": "stream",
     "text": [
      "<s>[INST] 질문: 렌탈 요금 청구 할인 \n",
      "\n",
      "    관련 정보: 'NEW 렌탈 플러스 하나카드'은 렌탈요금 자동이체 시 13,000원 청구할인 관련 상품입니다. \n",
      " \n",
      "    관련 정보를 바탕으로 질문에 답해줘 [/INST] \n",
      "\n"
     ]
    }
   ],
   "source": [
    "prompt_template = (\n",
    "    f\"\"\"<s>[INST] 질문: {query} \\n\n",
    "    관련 정보: {context} \\n \n",
    "    관련 정보를 바탕으로 질문에 답해줘 [/INST] \\n\"\"\"\n",
    ")\n",
    "\n",
    "print(prompt_template)"
   ]
  },
  {
   "cell_type": "markdown",
   "id": "141ff1cc-ec6a-41d1-b65d-b7f03b20b497",
   "metadata": {},
   "source": [
    "### Generation "
   ]
  },
  {
   "cell_type": "code",
   "execution_count": 36,
   "id": "14dcd096-cbeb-4231-93bc-12c11d657140",
   "metadata": {},
   "outputs": [],
   "source": [
    "import torch\n",
    "from transformers import AutoTokenizer, AutoModelForCausalLM, BitsAndBytesConfig\n",
    "from peft import PeftModel, PeftConfig\n",
    "from transformers import TextStreamer, GenerationConfig\n",
    "from llama_index.response_synthesizers import (\n",
    "    ResponseMode,\n",
    "    get_response_synthesizer,\n",
    ")"
   ]
  },
  {
   "cell_type": "code",
   "execution_count": 37,
   "id": "66486101-39ef-4745-bdf6-a3b580a2494a",
   "metadata": {},
   "outputs": [],
   "source": [
    "def print_trainable_parameters(model):\n",
    "    \"\"\"\n",
    "    Prints the number of trainable parameters in the model.\n",
    "    \"\"\"\n",
    "    trainable_params = 0\n",
    "    all_param = 0\n",
    "    for _, param in model.named_parameters():\n",
    "        all_param += param.numel()\n",
    "        if param.requires_grad:\n",
    "            trainable_params += param.numel()\n",
    "    print(\n",
    "        f\"trainable params: {trainable_params} || all params: {all_param} || trainable%: {100 * trainable_params / all_param}\"\n",
    "    )"
   ]
  },
  {
   "cell_type": "code",
   "execution_count": 38,
   "id": "757bd42c-666f-4198-9423-5274eccd3269",
   "metadata": {
    "scrolled": true
   },
   "outputs": [
    {
     "name": "stdout",
     "output_type": "stream",
     "text": [
      "<s><s> [INST] 질문: 렌탈 요금 청구 할인 \n",
      "\n",
      "    관련 정보: 'NEW 렌탈 플러스 하나카드'은 렌탈요금 자동이체 시 13,000원 청구할인 관련 상품입니다. \n",
      " \n",
      "    관련 정보를 바탕으로 질문에 답해줘 [/INST] \n",
      "1. 렌탈 요금 청구 할인은 NEW 렌탈 플러스 하나카드를 이용하여 렌탈요금 자동이체 시 13,000원이 청구할인되는 혜택을 제공하는 상품입니다.\n",
      "2. NEW 렌탈 플러스 하나카드는 렌탈 요금 청구 할인 혜택을 받을 수 있는 카드로, 렌탈 자동이체 시 13,000원이 청구할인됩니다.\n",
      "3. 렌탈 요금 청구 할인은 NEW 렌탈 플러스 하나카드를 이용해야만 가능합니다. \n",
      "4. NEW 렌탈 플러스 하나카드를 사용하여 렌탈요금 자동이체 시 13,000원이 청구할인됩니다.</s>\n"
     ]
    }
   ],
   "source": [
    "gened = model.generate(\n",
    "    **tokenizer(\n",
    "        prompt_template,\n",
    "        return_tensors='pt',\n",
    "        return_token_type_ids=False\n",
    "    ).to('cuda'),\n",
    "    generation_config=generation_config,\n",
    "    pad_token_id=tokenizer.eos_token_id,\n",
    "    eos_token_id=tokenizer.eos_token_id,\n",
    "    streamer=streamer,\n",
    ")"
   ]
  },
  {
   "cell_type": "code",
   "execution_count": 39,
   "id": "e40a64e8-e313-49ad-a1eb-a837601e5410",
   "metadata": {},
   "outputs": [],
   "source": [
    "result_str = tokenizer.decode(gened[0])\n",
    "\n",
    "start_tag = f\"[/INST]\"\n",
    "start_index = result_str.find(start_tag)\n",
    "\n",
    "if start_index != -1:\n",
    "    result_str = result_str[start_index + len(start_tag):].strip()"
   ]
  },
  {
   "cell_type": "code",
   "execution_count": 40,
   "id": "4377e4a7-b56b-455c-96e4-5c0fb013f0f4",
   "metadata": {},
   "outputs": [
    {
     "name": "stdout",
     "output_type": "stream",
     "text": [
      "1. 렌탈 요금 청구 할인은 NEW 렌탈 플러스 하나카드를 이용하여 렌탈요금 자동이체 시 13,000원이 청구할인되는 혜택을 제공하는 상품입니다.\n",
      "2. NEW 렌탈 플러스 하나카드는 렌탈 요금 청구 할인 혜택을 받을 수 있는 카드로, 렌탈 자동이체 시 13,000원이 청구할인됩니다.\n",
      "3. 렌탈 요금 청구 할인은 NEW 렌탈 플러스 하나카드를 이용해야만 가능합니다. \n",
      "4. NEW 렌탈 플러스 하나카드를 사용하여 렌탈요금 자동이체 시 13,000원이 청구할인됩니다.</s>\n"
     ]
    }
   ],
   "source": [
    "print(result_str)"
   ]
  },
  {
   "cell_type": "code",
   "execution_count": null,
   "id": "27fd1aff-0af6-4ef7-b64c-5c05a4d8d506",
   "metadata": {},
   "outputs": [],
   "source": []
  },
  {
   "cell_type": "code",
   "execution_count": null,
   "id": "55408b84-5a2e-4e71-ac09-78b326a70c60",
   "metadata": {},
   "outputs": [],
   "source": []
  },
  {
   "cell_type": "markdown",
   "id": "55edb783-679b-4d54-be77-f3e3a2e149d9",
   "metadata": {},
   "source": [
    "#### Llama Index response synthesizer "
   ]
  },
  {
   "cell_type": "raw",
   "id": "84c38c2c-cba7-4683-a478-4760ad48ea88",
   "metadata": {
    "scrolled": true
   },
   "source": [
    "llm = HuggingFaceLLM(\n",
    "    context_window=512,\n",
    "    max_new_tokens=128,\n",
    "    generate_kwargs={\"temperature\": 1.0, \"do_sample\": True},\n",
    "     tokenizer_name=\"davidkim205/komt-mistral-7b-v1\",\n",
    "    model_name=\"davidkim205/komt-mistral-7b-v1\",\n",
    "    device_map=\"cuda\",\n",
    "    # offload_folder='offload',\n",
    "    stopping_ids=[50278, 50279, 50277, 1, 0],\n",
    "    tokenizer_kwargs={\"max_length\": 1024},\n",
    "    # uncomment this if using CUDA to reduce memory usage\n",
    "    # model_kwargs={\"torch_dtype\": torch.float16}\n",
    ")"
   ]
  },
  {
   "cell_type": "raw",
   "id": "db312cdf-9982-4a32-9917-9a9c4732ed26",
   "metadata": {
    "scrolled": true
   },
   "source": [
    "mistral_service_context = ServiceContext.from_defaults(node_parser=parser, llm=llm)\n",
    "\n",
    "responser = get_response_synthesizer(\n",
    "    response_mode=\"compact\",\n",
    "    service_context=mistral_service_context,\n",
    "    verbose=True,\n",
    "    structured_answer_filtering=True,\n",
    ")"
   ]
  },
  {
   "cell_type": "raw",
   "id": "2b938eac-ac2e-4c0c-8144-12b1b55b2c92",
   "metadata": {},
   "source": [
    "contexts"
   ]
  },
  {
   "cell_type": "raw",
   "id": "17e2969a-1fe4-4ac5-925b-de272913c6af",
   "metadata": {},
   "source": [
    "response = responser.get_response(query, contexts)\n",
    "response"
   ]
  },
  {
   "cell_type": "raw",
   "id": "bed843ce-9a88-40c6-ac38-6b34e3063d75",
   "metadata": {},
   "source": [
    "query_engine = RetrieverQueryEngine(\n",
    "    retriever=retriever,\n",
    "    response_synthesizer=responser,\n",
    "    node_postprocessors=[SimilarityPostprocessor(similarity_cutoff=0.3)],\n",
    ")"
   ]
  },
  {
   "cell_type": "raw",
   "id": "0ba7f00d-f64e-4ccd-b1ec-31dc067b277e",
   "metadata": {},
   "source": [
    "query"
   ]
  },
  {
   "cell_type": "raw",
   "id": "55cb870d-c2c4-402a-a577-8578dfa7e775",
   "metadata": {},
   "source": [
    "model_input = f\"[INST] + {query} + [/INST]\""
   ]
  },
  {
   "cell_type": "raw",
   "id": "b0e1d343-82d5-449d-aac7-b9e8dc9f9fcb",
   "metadata": {},
   "source": [
    "response = query_engine.query(model_input)"
   ]
  }
 ],
 "metadata": {
  "kernelspec": {
   "display_name": "Python 3 (ipykernel)",
   "language": "python",
   "name": "python3"
  },
  "language_info": {
   "codemirror_mode": {
    "name": "ipython",
    "version": 3
   },
   "file_extension": ".py",
   "mimetype": "text/x-python",
   "name": "python",
   "nbconvert_exporter": "python",
   "pygments_lexer": "ipython3",
   "version": "3.10.13"
  }
 },
 "nbformat": 4,
 "nbformat_minor": 5
}
