{
 "cells": [
  {
   "cell_type": "raw",
   "id": "6c5b4c67-744d-4923-aed5-7bb3ee93132e",
   "metadata": {},
   "source": [
    "Data Indexing & Storing \n",
    "# desc  - card (상품설명) + deposit (상품설명) + loan (상품설명) \n",
    "# features  - loan (상품특징)\n",
    "# qualification  - loan (대출신청자격) \n",
    "# rule_book - 규정집 pdf "
   ]
  },
  {
   "cell_type": "code",
   "execution_count": 3,
   "id": "2147c131-6911-4794-9913-f6ee81919619",
   "metadata": {},
   "outputs": [],
   "source": [
    "from llama_index import Document, VectorStoreIndex, SimpleDirectoryReader, ServiceContext\n",
    "from llama_index.vector_stores import ChromaVectorStore\n",
    "from llama_index.readers.chroma import ChromaReader\n",
    "from llama_index.storage.storage_context import StorageContext\n",
    "# from transformers import AutoTokenizer, AutoModel\n",
    "from llama_index.embeddings import HuggingFaceEmbedding\n",
    "from llama_index.schema import MetadataMode\n",
    "from IPython.display import Markdown, display\n",
    "import chromadb\n",
    "import pandas as pd \n",
    "import openai\n",
    "import os\n",
    "import getpass"
   ]
  },
  {
   "cell_type": "code",
   "execution_count": 4,
   "id": "5ee57627-e0a1-4300-b794-a15010131bf4",
   "metadata": {},
   "outputs": [],
   "source": [
    "data_path = os.path.join('/workspace/data/')\n",
    "index_path = os.path.join('/workspace/db/local')"
   ]
  },
  {
   "cell_type": "code",
   "execution_count": 6,
   "id": "19dc7794-78ee-4747-b8c4-8b10bfd6d90c",
   "metadata": {},
   "outputs": [
    {
     "name": "stdin",
     "output_type": "stream",
     "text": [
      "OpenAI API Key: ········\n"
     ]
    }
   ],
   "source": [
    "os.environ[\"OPENAI_API_KEY\"] = getpass.getpass(\"OpenAI API Key:\")\n",
    "openai.api_key = os.environ[\"OPENAI_API_KEY\"]"
   ]
  },
  {
   "cell_type": "raw",
   "id": "2f22cf7f-7f25-4df1-985d-3d20f83020c2",
   "metadata": {},
   "source": [
    "chroma_client = chromadb.PersistentClient(path='/workspace/db/chroma/')\n",
    "chroma_collection = chroma_client.get_or_create_collection('desc')"
   ]
  },
  {
   "cell_type": "raw",
   "id": "5b755806-56b6-43a5-aed6-9a521aac49bf",
   "metadata": {},
   "source": [
    "chroma_collection.count()"
   ]
  },
  {
   "cell_type": "code",
   "execution_count": 7,
   "id": "5a029e82-8407-4b48-8efd-33f1b5a792de",
   "metadata": {},
   "outputs": [],
   "source": [
    "from llama_index import Document, VectorStoreIndex \n",
    "from llama_index.node_parser import SentenceSplitter"
   ]
  },
  {
   "cell_type": "code",
   "execution_count": 8,
   "id": "6856e21b-ecd6-4302-8088-e8eea70592be",
   "metadata": {},
   "outputs": [
    {
     "data": {
      "text/html": [
       "<div>\n",
       "<style scoped>\n",
       "    .dataframe tbody tr th:only-of-type {\n",
       "        vertical-align: middle;\n",
       "    }\n",
       "\n",
       "    .dataframe tbody tr th {\n",
       "        vertical-align: top;\n",
       "    }\n",
       "\n",
       "    .dataframe thead th {\n",
       "        text-align: right;\n",
       "    }\n",
       "</style>\n",
       "<table border=\"1\" class=\"dataframe\">\n",
       "  <thead>\n",
       "    <tr style=\"text-align: right;\">\n",
       "      <th></th>\n",
       "      <th>대출_고유키</th>\n",
       "      <th>상품특징</th>\n",
       "      <th>대출신청자격</th>\n",
       "      <th>상품설명</th>\n",
       "    </tr>\n",
       "  </thead>\n",
       "  <tbody>\n",
       "    <tr>\n",
       "      <th>0</th>\n",
       "      <td>대출_0</td>\n",
       "      <td>9대 선도산업 등 정부발표 혁신성장 분야에 대한 효율적 금융지원</td>\n",
       "      <td>○ (지원대상) 다음 중 하나에 해당하는 기업 혁신성장 정책금융협의회 선정 「혁신성...</td>\n",
       "      <td>9대 선도산업 등 정부발표 혁신성장 분야에 대한 효율적 금융지원</td>\n",
       "    </tr>\n",
       "  </tbody>\n",
       "</table>\n",
       "</div>"
      ],
      "text/plain": [
       "  대출_고유키                                 상품특징  \\\n",
       "0   대출_0  9대 선도산업 등 정부발표 혁신성장 분야에 대한 효율적 금융지원   \n",
       "\n",
       "                                              대출신청자격  \\\n",
       "0  ○ (지원대상) 다음 중 하나에 해당하는 기업 혁신성장 정책금융협의회 선정 「혁신성...   \n",
       "\n",
       "                                  상품설명  \n",
       "0  9대 선도산업 등 정부발표 혁신성장 분야에 대한 효율적 금융지원  "
      ]
     },
     "execution_count": 8,
     "metadata": {},
     "output_type": "execute_result"
    }
   ],
   "source": [
    "data = pd.read_csv(os.path.join(data_path, 'financial', 'SHINHAN BANK_Financial_Product_Scraping_Result_20240104_LOAN_vec.csv'))\n",
    "data.head(1)"
   ]
  },
  {
   "cell_type": "code",
   "execution_count": 9,
   "id": "700cf209-903d-47ad-998b-8156bdab7b7c",
   "metadata": {},
   "outputs": [],
   "source": [
    "category = 'loan'\n",
    "\n",
    "id_list = data.대출_고유키.values.tolist()\n",
    "desc_list = data.상품특징.values.tolist()"
   ]
  },
  {
   "cell_type": "code",
   "execution_count": 10,
   "id": "f4a73687-66d4-446c-9ff3-0628350ddf1e",
   "metadata": {},
   "outputs": [],
   "source": [
    "documents = []\n",
    "for idx in range(len(desc_list)):\n",
    "    doc = Document(text=desc_list[idx], doc_id=id_list[idx], metadata={\"category\": category}, excluded_llm_metadata_keys = ['category'])\n",
    "    documents.append(doc)"
   ]
  },
  {
   "cell_type": "code",
   "execution_count": 11,
   "id": "e686480e-7051-4577-b634-aa6eddb56458",
   "metadata": {},
   "outputs": [
    {
     "name": "stdout",
     "output_type": "stream",
     "text": [
      "embedding model see this: category: loan\n",
      "\n",
      "동산·채권 담보대출 활성화 지원\n",
      "\n",
      "LLM see this: 동산·채권 담보대출 활성화 지원\n"
     ]
    }
   ],
   "source": [
    "print(f'embedding model see this: {documents[2].get_content(metadata_mode=MetadataMode.EMBED)}', end='\\n\\n')\n",
    "print(f'LLM see this: {documents[2].get_content(metadata_mode=MetadataMode.LLM)}')"
   ]
  },
  {
   "cell_type": "code",
   "execution_count": 12,
   "id": "86d2e185-5773-4e3c-a8a3-2249cf9eeec8",
   "metadata": {},
   "outputs": [],
   "source": [
    "from llama_index.node_parser import SentenceSplitter "
   ]
  },
  {
   "cell_type": "code",
   "execution_count": 13,
   "id": "20acc24c-02c3-4e7b-8769-98ec6e361090",
   "metadata": {},
   "outputs": [],
   "source": [
    "parser = SentenceSplitter(chunk_size=512, chunk_overlap=30)   # SentenceSplitter(chunk_size=1024, chunk_overlap=20)\n",
    "nodes = parser.get_nodes_from_documents(documents)"
   ]
  },
  {
   "cell_type": "code",
   "execution_count": 14,
   "id": "62466b28-9a4b-4a77-b076-d1abc278ea51",
   "metadata": {},
   "outputs": [],
   "source": [
    "model_name = 'kakaobank/kf-deberta-base'\n",
    "embed_model = HuggingFaceEmbedding(model_name=model_name, embed_batch_size=32)"
   ]
  },
  {
   "cell_type": "code",
   "execution_count": 17,
   "id": "926a851f-61b7-44cd-bc68-2b700e8a5ca2",
   "metadata": {},
   "outputs": [],
   "source": [
    "from llama_index import ServiceContext\n",
    "from llama_index.storage.docstore import SimpleDocumentStore\n",
    "from llama_index.vector_stores import SimpleVectorStore\n",
    "from llama_index.storage.index_store import SimpleIndexStore"
   ]
  },
  {
   "cell_type": "raw",
   "id": "a126c567-c5b3-40e0-8485-d9070e8a4f90",
   "metadata": {},
   "source": [
    "storage_context = StorageContext.from_defaults(\n",
    "    docstore = SimpleDocumentStore(),\n",
    "    vector_store=SimpleVectorStore(),\n",
    "    index_store=SimpleIndexStore()\n",
    ")"
   ]
  },
  {
   "cell_type": "code",
   "execution_count": 18,
   "id": "4c950032-656b-4589-9c68-7fa82a0f39b5",
   "metadata": {},
   "outputs": [],
   "source": [
    "persist_dir=os.path.join(index_path, 'features')"
   ]
  },
  {
   "cell_type": "code",
   "execution_count": 15,
   "id": "38c8df01-245a-48e2-889c-b432107363f8",
   "metadata": {
    "scrolled": true
   },
   "outputs": [],
   "source": [
    "service_context = ServiceContext.from_defaults(node_parser=parser, embed_model=embed_model)\n",
    "# storage_context = StorageContext.from_defaults(persist_dir=persist_dir)"
   ]
  },
  {
   "cell_type": "code",
   "execution_count": 19,
   "id": "df247f72-67c8-4845-a609-154111fb8cde",
   "metadata": {},
   "outputs": [],
   "source": [
    "# build index \n",
    "index = VectorStoreIndex.from_documents(\n",
    "    documents, service_context=service_context #, storage_context=storage_context\n",
    ")"
   ]
  },
  {
   "cell_type": "code",
   "execution_count": 20,
   "id": "1d6848c6-50fe-499e-8038-04577dae7b76",
   "metadata": {},
   "outputs": [
    {
     "data": {
      "text/plain": [
       "'6b59cf13-6f4c-4420-b175-83c1bee5f32b'"
      ]
     },
     "execution_count": 20,
     "metadata": {},
     "output_type": "execute_result"
    }
   ],
   "source": [
    "index.index_id"
   ]
  },
  {
   "cell_type": "code",
   "execution_count": null,
   "id": "4e459bf9-9320-4996-b114-3a2cb33102cf",
   "metadata": {},
   "outputs": [],
   "source": [
    "index.as_query_engine().query('보증 자격').get_context()"
   ]
  },
  {
   "cell_type": "code",
   "execution_count": null,
   "id": "cb4a2f1a-7392-4867-a8a8-d48f9419c779",
   "metadata": {},
   "outputs": [],
   "source": [
    "# set index_id to save multiple indexes to the same folder  -> persist 시 추가되는게 아니라 덮어 쓰여짐 .. => 해결 ! sotrage_context 지정안해줘서 그럼 \n",
    "# storage context.from_defaults(persist_dir ~)은 docstore.json 파일이 있어야만 지정할 수 있는데 처음 인덱스 생성시에는 해당 부분 생략해서 docstore.json 파일 먼저 생성하기\n",
    "index.set_index_id('loan_tmp')"
   ]
  },
  {
   "cell_type": "code",
   "execution_count": null,
   "id": "052217a3-cc9f-40d3-bc3a-c13d2a225fd9",
   "metadata": {},
   "outputs": [],
   "source": [
    "index.index_id"
   ]
  },
  {
   "cell_type": "markdown",
   "id": "815bc061-45f9-4ba2-99b9-626e4dc2d15f",
   "metadata": {},
   "source": [
    "### Index data insert"
   ]
  },
  {
   "cell_type": "raw",
   "id": "7e872acd-d64b-4197-ac30-39621ec00d18",
   "metadata": {},
   "source": [
    "data = pd.read_csv(os.path.join(data_path, 'financial', 'SHINHAN BANK_Financial_Product_Scraping_Result_20240104_LOAN_vec.csv'))\n",
    "data.head(1)"
   ]
  },
  {
   "cell_type": "raw",
   "id": "79b46aa9-6e7e-4798-9aab-9ee07ba2b92c",
   "metadata": {},
   "source": [
    "category = 'featu'\n",
    "\n",
    "id_list = data.대출_고유키.values.tolist()\n",
    "desc_list = data.상품설명.values.tolist()"
   ]
  },
  {
   "cell_type": "raw",
   "id": "c26e2348-a8db-4cd0-9b90-bfc78dbf713e",
   "metadata": {},
   "source": [
    "documents = []\n",
    "for idx in range(len(desc_list)):\n",
    "    doc = Document(text=desc_list[idx], doc_id=id_list[idx], metadata={\"category\": category}, excluded_llm_metadata_keys = ['category'])\n",
    "    documents.append(doc)"
   ]
  },
  {
   "cell_type": "raw",
   "id": "31794a0d-fec3-49de-af76-44905a8f50fe",
   "metadata": {},
   "source": [
    "for doc in documents:\n",
    "    index.insert(doc)"
   ]
  },
  {
   "cell_type": "markdown",
   "id": "dc0409ea-4ee6-4eb3-98ed-2f68efb98476",
   "metadata": {},
   "source": [
    "### Save Index "
   ]
  },
  {
   "cell_type": "code",
   "execution_count": null,
   "id": "8d0a69d3-b251-47a9-aaef-4a0cb8ebdb83",
   "metadata": {},
   "outputs": [],
   "source": [
    "index.storage_context.persist(persist_dir=persist_dir)"
   ]
  },
  {
   "cell_type": "markdown",
   "id": "4ae6b644-fbd2-475a-9959-ed9bec3af063",
   "metadata": {},
   "source": [
    "### Index Load "
   ]
  },
  {
   "cell_type": "code",
   "execution_count": null,
   "id": "ad2c0508-e6e3-47b6-b974-59b019af236f",
   "metadata": {},
   "outputs": [],
   "source": [
    "index_path"
   ]
  },
  {
   "cell_type": "code",
   "execution_count": null,
   "id": "8c4cec7b-64e3-422f-a9e9-4a007bd575ae",
   "metadata": {},
   "outputs": [],
   "source": [
    "from llama_index import StorageContext, load_index_from_storage, load_indices_from_storage\n",
    "\n",
    "desc_storage_context = StorageContext.from_defaults(persist_dir=os.path.join(index_path, 'desc'))\n",
    "features_storage_context = StorageContext.from_defaults(persist_dir=os.path.join(index_path, 'features'))\n",
    "qualification_storage_context = StorageContext.from_defaults(persist_dir=os.path.join(index_path, 'qualification'))"
   ]
  },
  {
   "cell_type": "code",
   "execution_count": null,
   "id": "e3329c4d-14ab-4d93-a6fc-099256a1952e",
   "metadata": {},
   "outputs": [],
   "source": [
    "features_idx = load_index_from_storage(features_storage_context, index_id='loan_tmp')\n",
    "desc_idx = load_indices_from_storage(desc_storage_context, index_ids=['card_tmp', 'deposit_tmp'])\n",
    "qualification_idx = load_index_from_storage(qualification_storage_context)"
   ]
  },
  {
   "cell_type": "raw",
   "id": "bc9fcfe5-b18d-49e2-8660-4993ec68fcd4",
   "metadata": {},
   "source": [
    "''' VectorDB를 사용하는 경우 '''\n",
    "\n",
    "vector_store = ChromaVectorStore(chroma_collection=chroma_collection)\n",
    "storage_context = StorageContext.from_defaults(vector_store=vector_store)\n",
    "service_context = ServiceContext.from_defaults(embed_model=embed_model)\n",
    "index = VectorStoreIndex.from_documents(\n",
    "    documents, storage_context=storage_context, service_context=service_context\n",
    ")"
   ]
  }
 ],
 "metadata": {
  "kernelspec": {
   "display_name": "Python 3 (ipykernel)",
   "language": "python",
   "name": "python3"
  },
  "language_info": {
   "codemirror_mode": {
    "name": "ipython",
    "version": 3
   },
   "file_extension": ".py",
   "mimetype": "text/x-python",
   "name": "python",
   "nbconvert_exporter": "python",
   "pygments_lexer": "ipython3",
   "version": "3.10.13"
  }
 },
 "nbformat": 4,
 "nbformat_minor": 5
}
