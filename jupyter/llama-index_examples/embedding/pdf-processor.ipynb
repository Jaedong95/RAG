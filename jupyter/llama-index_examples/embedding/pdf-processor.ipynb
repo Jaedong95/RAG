{
 "cells": [
  {
   "cell_type": "markdown",
   "id": "429d50cd-353b-42c1-9a81-b5cf42db081e",
   "metadata": {},
   "source": [
    "### Default Setting "
   ]
  },
  {
   "cell_type": "code",
   "execution_count": 13,
   "id": "b33e701f-ad3c-4ae3-a53d-7e1f6822b96b",
   "metadata": {},
   "outputs": [],
   "source": [
    "from llama_index import Document, VectorStoreIndex, SimpleDirectoryReader, ServiceContext\n",
    "from llama_index.vector_stores import ChromaVectorStore\n",
    "from llama_index.readers.chroma import ChromaReader\n",
    "from llama_index.storage.storage_context import StorageContext\n",
    "# from transformers import AutoTokenizer, AutoModel\n",
    "from llama_index.embeddings import HuggingFaceEmbedding\n",
    "from llama_index.schema import MetadataMode\n",
    "from IPython.display import Markdown, display\n",
    "from llama_index import Document, VectorStoreIndex \n",
    "from llama_index.node_parser import SentenceSplitter\n",
    "import chromadb\n",
    "import pandas as pd \n",
    "import openai\n",
    "import os\n",
    "import getpass\n",
    "import glob "
   ]
  },
  {
   "cell_type": "code",
   "execution_count": 743,
   "id": "eac7008a-40c0-43e5-930a-1c9692cf2ebd",
   "metadata": {},
   "outputs": [],
   "source": [
    "default_path = os.getcwd()\n",
    "model_path = os.path.join(default_path, '../../models')\n",
    "model_dir = os.path.join(model_path, \"mistral_origin\")\n",
    "data_path = os.path.join(default_path, '../../data')\n",
    "rulebook_path = os.path.join(data_path, 'pdf', 'rules')"
   ]
  },
  {
   "cell_type": "code",
   "execution_count": 605,
   "id": "5468481d-af59-4791-8cb9-bf40f928a203",
   "metadata": {},
   "outputs": [
    {
     "data": {
      "text/plain": [
       "'/rag/jupyter/embedding/../../data/pdf/rules/복지제도_가이드.pdf'"
      ]
     },
     "execution_count": 605,
     "metadata": {},
     "output_type": "execute_result"
    }
   ],
   "source": [
    "file_list = glob.glob(f'{rulebook_path}/*.pdf')\n",
    "file_list[5]"
   ]
  },
  {
   "cell_type": "code",
   "execution_count": 94,
   "id": "cb73a221-ddd5-482c-93fe-af7ca133cf8e",
   "metadata": {},
   "outputs": [
    {
     "name": "stdin",
     "output_type": "stream",
     "text": [
      "OpenAI API Key: ········\n"
     ]
    }
   ],
   "source": [
    "os.environ[\"OPENAI_API_KEY\"] = getpass.getpass(\"OpenAI API Key:\")\n",
    "openai.api_key = os.environ[\"OPENAI_API_KEY\"]"
   ]
  },
  {
   "cell_type": "code",
   "execution_count": 95,
   "id": "08517456-abd3-4c9a-a243-0e8a6b029ed9",
   "metadata": {},
   "outputs": [],
   "source": [
    "chroma_client = chromadb.HttpClient(host=\"192.168.0.146\")"
   ]
  },
  {
   "cell_type": "code",
   "execution_count": 96,
   "id": "222ffa6c-9bf2-480b-affb-0dfc4f27cbe5",
   "metadata": {},
   "outputs": [
    {
     "data": {
      "text/plain": [
       "[Collection(name=deposit),\n",
       " Collection(name=data),\n",
       " Collection(name=card),\n",
       " Collection(name=loan)]"
      ]
     },
     "execution_count": 96,
     "metadata": {},
     "output_type": "execute_result"
    }
   ],
   "source": [
    "chroma_client.list_collections()"
   ]
  },
  {
   "cell_type": "code",
   "execution_count": 97,
   "id": "4d494e43-a733-4106-8509-bb2dd2370c90",
   "metadata": {},
   "outputs": [],
   "source": [
    "data_collection = chroma_client.get_or_create_collection(\"data\")"
   ]
  },
  {
   "cell_type": "code",
   "execution_count": 98,
   "id": "1a340303-736c-42ea-8cdc-b6c7356e5951",
   "metadata": {},
   "outputs": [
    {
     "data": {
      "text/plain": [
       "Collection(name=data)"
      ]
     },
     "execution_count": 98,
     "metadata": {},
     "output_type": "execute_result"
    }
   ],
   "source": [
    "data_collection"
   ]
  },
  {
   "cell_type": "code",
   "execution_count": 432,
   "id": "53819fc1-d42f-4471-bdfc-ca0434473275",
   "metadata": {},
   "outputs": [],
   "source": [
    "data_store = ChromaVectorStore(chroma_collection=data_collection)\n",
    "data_storage = StorageContext.from_defaults(vector_store=data_store)"
   ]
  },
  {
   "cell_type": "code",
   "execution_count": 433,
   "id": "6ea1e2e3-dcd2-4fc0-a9b9-8da962086a6b",
   "metadata": {},
   "outputs": [],
   "source": [
    "page_no = 0"
   ]
  },
  {
   "cell_type": "code",
   "execution_count": 1168,
   "id": "00f3adbd-1222-4fed-a27b-768f4281ba3c",
   "metadata": {},
   "outputs": [],
   "source": [
    "documents = SimpleDirectoryReader(input_files=[file_list[5]]).load_data()"
   ]
  },
  {
   "cell_type": "code",
   "execution_count": 1169,
   "id": "1f842d08-395f-4064-a313-0b058e59c560",
   "metadata": {},
   "outputs": [
    {
     "data": {
      "text/plain": [
       "Document(id_='4da8a95e-96a5-4af7-845b-5f327d9f9c94', embedding=None, metadata={'page_label': '1', 'file_name': '복지제도_가이드.pdf', 'file_path': '/rag/jupyter/embedding/../../data/pdf/rules/복지제도_가이드.pdf', 'file_type': 'application/pdf', 'file_size': 372327, 'creation_date': '2024-03-06', 'last_modified_date': '2024-03-06', 'last_accessed_date': '2024-03-22'}, excluded_embed_metadata_keys=['file_name', 'file_type', 'file_size', 'creation_date', 'last_modified_date', 'last_accessed_date'], excluded_llm_metadata_keys=['file_name', 'file_type', 'file_size', 'creation_date', 'last_modified_date', 'last_accessed_date'], relationships={}, hash='c22b35b0daa4b0977b196ac6d276b3959c0308680361e6c6f329fa0d6702d4a8', text='   \\n페이지０  \\n \\n \\n \\n \\n \\n \\n \\n \\n \\n \\n   \\n[ 순     서 ] \\n \\n1. 동호회  지원 \\n2. 신규입사자  / 직급자  모임 \\n3. 회식비  지원 \\n4. 직원소개  장려금  제도 \\n5. 경조금  및 경조화환  지원 \\n6. 장례서비스  지원 \\n7. 사내강사비  지원 \\n8. 선택적  복지포인트  제도  \\n9. 휴양시설  지원 \\n10. 가정의  날 \\n11. 직무발명  제도 \\n12. 학기준비금  / 학자금  지원 \\n13. 리프레시  휴가 지원 \\n  \\n \\n복지제도 가이드  ', start_char_idx=None, end_char_idx=None, text_template='{metadata_str}\\n\\n{content}', metadata_template='{key}: {value}', metadata_seperator='\\n')"
      ]
     },
     "execution_count": 1169,
     "metadata": {},
     "output_type": "execute_result"
    }
   ],
   "source": [
    "documents[page_no]"
   ]
  },
  {
   "cell_type": "code",
   "execution_count": 1170,
   "id": "e0675831-33b9-48fb-8772-1899f70d5458",
   "metadata": {},
   "outputs": [
    {
     "data": {
      "text/plain": [
       "'/rag/jupyter/embedding/../../data/pdf/rules/경조금지급규정.pdf'"
      ]
     },
     "execution_count": 1170,
     "metadata": {},
     "output_type": "execute_result"
    }
   ],
   "source": [
    "file_list[2]"
   ]
  },
  {
   "cell_type": "code",
   "execution_count": 1171,
   "id": "fb266515-6679-4d32-b2c5-2b82bf3e4407",
   "metadata": {},
   "outputs": [],
   "source": [
    "if documents[0].text[0].isdigit() and documents[1] != '.':\n",
    "    print(f'페이지번호: {documents[0].text[0]}쪽')"
   ]
  },
  {
   "cell_type": "code",
   "execution_count": 1172,
   "id": "b18daacb-6790-44d4-8983-0ca33f3b6b32",
   "metadata": {},
   "outputs": [],
   "source": [
    "import re\n",
    "\n",
    "def text_cleanse(text):\n",
    "    text = re.sub('[^A-Za-z0-9\\'\\\"\\-가-힣(){}\\\\n[]]', '', text)\n",
    "    for num in num_mapper.keys():\n",
    "        text = text.replace(num, num_mapper[num])\n",
    "    text = re.sub(' +', ' ', text)\n",
    "    text = text.strip()\n",
    "    return text"
   ]
  },
  {
   "cell_type": "code",
   "execution_count": 1173,
   "id": "aa415853-3d5d-4061-8c0c-d9b8f98ae4f2",
   "metadata": {},
   "outputs": [],
   "source": [
    "num_mapper = dict({'①':'제1항', '②':'제2항', '③':'제3항', '④':'제4항', '⑤':'제5항', '⑥':'제6항',\\\n",
    "                   '⑦':'제7항', '⑧': '제8항', '⑨': '제9항', '⑩': '제10항', '⑪': '제11항', '⑫': '제12항',\\\n",
    "                  '⑬':'제13항', '⑭':'제14항', '⑮':'제15항', '⑯':'제16항', '⑰':'제17항', '⑱':'제18항', '⑲':'제19항', '⑳':'제20항'})"
   ]
  },
  {
   "cell_type": "code",
   "execution_count": 1174,
   "id": "e9968b64-9be4-4eb5-a799-8d44eb0618bb",
   "metadata": {},
   "outputs": [],
   "source": [
    "for idx in range(len(documents)):\n",
    "    documents[idx].text = text_cleanse(documents[idx].text)"
   ]
  },
  {
   "cell_type": "markdown",
   "id": "a7a99e00-1cd0-44d9-92c0-a7f050b857a2",
   "metadata": {},
   "source": [
    "#### Document 재정의 "
   ]
  },
  {
   "cell_type": "code",
   "execution_count": 1187,
   "id": "169f9865-9fe9-4161-837f-1e7073faf80f",
   "metadata": {},
   "outputs": [
    {
     "data": {
      "text/plain": [
       "'1'"
      ]
     },
     "execution_count": 1187,
     "metadata": {},
     "output_type": "execute_result"
    }
   ],
   "source": [
    "text = documents[idx].text \n",
    "documents[0].metadata['page_label']"
   ]
  },
  {
   "cell_type": "code",
   "execution_count": 1190,
   "id": "31711a48-e1fc-4b92-b6ab-b0536ac1f19d",
   "metadata": {
    "scrolled": true
   },
   "outputs": [
    {
     "data": {
      "text/plain": [
       "['페이지０ \\n',\n",
       " ' \\n',\n",
       " ' \\n',\n",
       " ' \\n',\n",
       " ' \\n',\n",
       " ' \\n',\n",
       " ' \\n',\n",
       " ' \\n',\n",
       " ' \\n',\n",
       " ' \\n',\n",
       " ' \\n',\n",
       " ' \\n',\n",
       " '[ 순 서 \\n',\n",
       " ' \\n',\n",
       " '1. 동호회 지원 \\n',\n",
       " '2. 신규입사자 / 직급자 모임 \\n',\n",
       " '3. 회식비 지원 \\n',\n",
       " '4. 직원소개 장려금 제도 \\n',\n",
       " '5. 경조금 및 경조화환 지원 \\n',\n",
       " '6. 장례서비스 지원 \\n',\n",
       " '7. 사내강사비 지원 \\n',\n",
       " '8. 선택적 복지포인트 제도 \\n',\n",
       " '9. 휴양시설 지원 \\n',\n",
       " '10. 가정의 날 \\n',\n",
       " '11. 직무발명 제도 \\n',\n",
       " '12. 학기준비금 / 학자금 지원 \\n',\n",
       " '13. 리프레시 휴가 지원 \\n',\n",
       " ' \\n',\n",
       " ' \\n',\n",
       " '복지제도 가이드']"
      ]
     },
     "execution_count": 1190,
     "metadata": {},
     "output_type": "execute_result"
    }
   ],
   "source": [
    "txt_tmp = documents[0].copy()\n",
    "txt_tmp.text.splitlines(True)"
   ]
  },
  {
   "cell_type": "code",
   "execution_count": null,
   "id": "d9d1a9ee-7e46-435d-831e-6090c65afcfc",
   "metadata": {},
   "outputs": [],
   "source": []
  },
  {
   "cell_type": "code",
   "execution_count": 1191,
   "id": "dc386e81-f11c-4005-8c2a-4f33a2fcee25",
   "metadata": {},
   "outputs": [],
   "source": [
    "def get_text(document):\n",
    "    first_line = ''\n",
    "    txt_lines = document.text.splitlines(True)\n",
    "    \n",
    "    if document.text.startswith(document.metadata['page_label']):\n",
    "        # print('페이지 번호를 포함한 문서입니다.')\n",
    "        document.text = document.text.lstrip(document.metadata['page_label'])\n",
    "    \n",
    "    elif document.text.startswith('페이지'):\n",
    "        print(f\"페이지 번호: {document.metadata['page_label']}\")\n",
    "        document.text = document.text.lstrip(f\"페이지:  {int(document.metadata['page_label']) - 1}\")\n",
    "    document.text = re.sub(r'\\r\\n{2,} \\r\\n{2, }', '\\n\\n', document.text)\n",
    "    return document.text"
   ]
  },
  {
   "cell_type": "code",
   "execution_count": 1192,
   "id": "6ab7d210-63cb-4ca2-9a40-8723c8c1f1fa",
   "metadata": {},
   "outputs": [
    {
     "data": {
      "text/plain": [
       "['제 1 장 제1장 제 1장 제 2 장 제2장 제 2장']"
      ]
     },
     "execution_count": 1192,
     "metadata": {},
     "output_type": "execute_result"
    }
   ],
   "source": [
    "import re \n",
    "\n",
    "text = '제 1 장 제1장 제 1장 제 2 장 제2장 제 2장' \n",
    "# re.findall(r'제.*[0-9].*장', text)\n",
    "re.findall(r'제.+2.+장', text)"
   ]
  },
  {
   "cell_type": "code",
   "execution_count": 1193,
   "id": "1af8ecfe-644b-4a06-95b5-f4f3d9ca90f3",
   "metadata": {},
   "outputs": [
    {
     "data": {
      "text/plain": [
       "['제 1 장', '제1장', '제 1장']"
      ]
     },
     "execution_count": 1193,
     "metadata": {},
     "output_type": "execute_result"
    }
   ],
   "source": [
    "text = '제 1 장 제1장 제 1장 제 2 장 제2장 제 2장 제 4장' \n",
    "re.findall(r'제 *1 *장', text)"
   ]
  },
  {
   "cell_type": "code",
   "execution_count": 1194,
   "id": "59c40f7e-c844-4e22-b5ed-08c3629a24ef",
   "metadata": {},
   "outputs": [],
   "source": [
    "def get_start_point(documents):\n",
    "    s_point = 1\n",
    "    for doc in documents:\n",
    "        if len(re.findall(r'제 *1 *장', doc.text)) != 0 and (len(re.findall(r'목 *차', doc.text)) == 0 and len(re.findall(r'차 *례', doc.text)) == 0): \n",
    "            '''\n",
    "            print(re.findall(r'제 *1 *장', doc.text))\n",
    "            print(re.findall(r'목 *차', doc.text))\n",
    "            print(re.findall(r'차 *례', doc.text))'''\n",
    "            s_point = doc.metadata['page_label']\n",
    "            break \n",
    "    return int(s_point) - 1"
   ]
  },
  {
   "cell_type": "code",
   "execution_count": 1195,
   "id": "56c82f15-fe38-44b4-b6e8-62ad187292a3",
   "metadata": {},
   "outputs": [
    {
     "data": {
      "text/plain": [
       "'1'"
      ]
     },
     "execution_count": 1195,
     "metadata": {},
     "output_type": "execute_result"
    }
   ],
   "source": [
    "documents[0].metadata['page_label']"
   ]
  },
  {
   "cell_type": "code",
   "execution_count": 1196,
   "id": "3546d63e-60db-4361-8e3c-65a043be827e",
   "metadata": {},
   "outputs": [
    {
     "data": {
      "text/plain": [
       "0"
      ]
     },
     "execution_count": 1196,
     "metadata": {},
     "output_type": "execute_result"
    }
   ],
   "source": [
    "s_point = get_start_point(documents)\n",
    "s_point"
   ]
  },
  {
   "cell_type": "code",
   "execution_count": 1197,
   "id": "edefef34-afa3-4a75-ab21-5b35d0158aec",
   "metadata": {
    "scrolled": true
   },
   "outputs": [
    {
     "name": "stdout",
     "output_type": "stream",
     "text": [
      "１ \n",
      " \n",
      " \n",
      "1. 동호회 지원 \n",
      " \n",
      " \n",
      " \n",
      " \n",
      " \n",
      " \n",
      " \n",
      " \n",
      " \n",
      " \n",
      " \n",
      " \n",
      " \n",
      " \n",
      " \n",
      " \n",
      " \n",
      " \n",
      " \n",
      "2. 신규입사자 / \n",
      "직급자 모임 \n",
      "혜택 건전한 취미 생활로 단결을 도모할 수 있는 단체 지원 (5인 이상) \n",
      "대상 당사 임직원 \n",
      "지원금액 월 30,000원 (1인당) \n",
      "세부내용 제1항 운영동호회 \n",
      " 명칭 활동사항 회비 비고 \n",
      "F.G.C 골프 동호회 \n",
      "30,000 원/월 참석인원당지급 \n",
      "동호회별 신청 마라탕 마라톤 , 등산 \n",
      "공채모임 공채 기수 모임 \n",
      "제2항 운영보고 : 아마란스 를 통해 모임의 일자/장소/목적/결과를 공지하여야 함 \n",
      "(아마란스 에 공지하는 것으로 결과 및 운영보고를 갈음함 ) \n",
      " - 모임의 개최는 최소 1주일 전에 아지트를 통해 공지 \n",
      " - 모임 당일의 행사 내용 및 결과에 대해서는 익일까지 아지트에 공지 \n",
      " - 참석인원 전원의 사진을 아지트에 올려주셔야 함. \n",
      "신청방법 제1항 전자결재 신청 \n",
      "- 이카운트 >> 전자결재 >> 지출결의서 (기타경비 ) \n",
      "- 결재라인 : (1차) 기안자 >> 담당자 (김태영 과장) \n",
      " (2차) 김용화 수석 / (참조) 경영전략실 \n",
      "지급일 매월 15일 지급 \n",
      "담당자 김태영 과장 / 02)799 -2580 / tykim@finger.co.kr \n",
      " \n",
      "혜택 신규입사 및 직급자별 친목&단결 도모 \n",
      "대상 당사 임직원 \n",
      "지원금액 - \n",
      "세부내용 제1항 신규입사자 모임 \n",
      "- 분기 마지막 월 마지막 주 \n",
      "제2항 직급자 모임 \n",
      "- 짝수 달 마지막 주 \n",
      "신청방법 아마란스 공지사항에 별도 공지 \n",
      "지급일 - \n",
      "담당자 김태영 과장 / 02)799 -2580 / tykim@finger.co.kr \n",
      " 복지제도 TITLE\n"
     ]
    }
   ],
   "source": [
    "doc = get_text(documents[1])\n",
    "print(doc)"
   ]
  },
  {
   "cell_type": "code",
   "execution_count": 1082,
   "id": "0847a5cb-bed2-4d0e-b379-56df6598b221",
   "metadata": {},
   "outputs": [
    {
     "data": {
      "text/plain": [
       "{'page_label': '1',\n",
       " 'file_name': '복지제도_가이드.pdf',\n",
       " 'file_path': '/rag/jupyter/embedding/../../data/pdf/rules/복지제도_가이드.pdf',\n",
       " 'file_type': 'application/pdf',\n",
       " 'file_size': 372327,\n",
       " 'creation_date': '2024-03-06',\n",
       " 'last_modified_date': '2024-03-06',\n",
       " 'last_accessed_date': '2024-03-21'}"
      ]
     },
     "execution_count": 1082,
     "metadata": {},
     "output_type": "execute_result"
    }
   ],
   "source": [
    "documents[0].metadata"
   ]
  },
  {
   "cell_type": "code",
   "execution_count": 971,
   "id": "29b58338-811f-4118-9da8-4bd1de8b0c87",
   "metadata": {},
   "outputs": [],
   "source": [
    "def get_doc_content(document):  \n",
    "    '''\n",
    "    input: document (페이지 단위로 분할된 document object) \n",
    "    output: document_list (장 단위로 분할된 document objects) \n",
    "    '''\n",
    "    doc_list = []; meta_info = dict(); \n",
    "    print(re.findall(r'제 *[0-9] *장', document.text))"
   ]
  },
  {
   "cell_type": "code",
   "execution_count": 972,
   "id": "ce1d12d6-064e-4ebb-823c-2ad7af6c6fb0",
   "metadata": {},
   "outputs": [
    {
     "name": "stdout",
     "output_type": "stream",
     "text": [
      "0\n",
      "[]\n",
      "1\n",
      "[]\n"
     ]
    }
   ],
   "source": [
    "doc_list = []\n",
    "\n",
    "for idx, document in enumerate(documents):\n",
    "    id_name = document.metadata['file_name'].split('.')[0]\n",
    "    print(int(document.metadata['page_label']) - 1)\n",
    "    if int(document.metadata['page_label']) - 1 >= s_point:\n",
    "        '''\n",
    "        doc = Document(text=document.text,\n",
    "                       doc_id=f\"{id_name}_doc_{idx}\",\n",
    "                       metadata={\"page_label\": int(document.metadata['page_label']) - 1, \"file_name\": document.metadata['file_name']},\n",
    "                       excluded_llm_metadata_keys = ['page_label', 'file_name']\n",
    "                )\n",
    "        doc_list.append(doc)'''\n",
    "        get_doc_content(document)"
   ]
  },
  {
   "cell_type": "code",
   "execution_count": 952,
   "id": "ac47c7fa-6ec5-4df2-9e7e-dbd6f63898a7",
   "metadata": {
    "scrolled": true
   },
   "outputs": [
    {
     "ename": "IndexError",
     "evalue": "list index out of range",
     "output_type": "error",
     "traceback": [
      "\u001b[0;31m---------------------------------------------------------------------------\u001b[0m",
      "\u001b[0;31mIndexError\u001b[0m                                Traceback (most recent call last)",
      "Cell \u001b[0;32mIn[952], line 1\u001b[0m\n\u001b[0;32m----> 1\u001b[0m \u001b[43mdoc_list\u001b[49m\u001b[43m[\u001b[49m\u001b[38;5;241;43m0\u001b[39;49m\u001b[43m]\u001b[49m\u001b[38;5;241m.\u001b[39mtext\n",
      "\u001b[0;31mIndexError\u001b[0m: list index out of range"
     ]
    }
   ],
   "source": [
    "doc_list[0].text"
   ]
  },
  {
   "cell_type": "code",
   "execution_count": 953,
   "id": "e6fe5828-253a-4c84-a268-3d9b67c2ddbd",
   "metadata": {
    "scrolled": true
   },
   "outputs": [
    {
     "ename": "IndexError",
     "evalue": "list index out of range",
     "output_type": "error",
     "traceback": [
      "\u001b[0;31m---------------------------------------------------------------------------\u001b[0m",
      "\u001b[0;31mIndexError\u001b[0m                                Traceback (most recent call last)",
      "Cell \u001b[0;32mIn[953], line 1\u001b[0m\n\u001b[0;32m----> 1\u001b[0m \u001b[38;5;28mprint\u001b[39m(\u001b[43mdoc_list\u001b[49m\u001b[43m[\u001b[49m\u001b[38;5;241;43m1\u001b[39;49m\u001b[43m]\u001b[49m\u001b[38;5;241m.\u001b[39mtext)\n",
      "\u001b[0;31mIndexError\u001b[0m: list index out of range"
     ]
    }
   ],
   "source": [
    "print(doc_list[1].text)"
   ]
  },
  {
   "cell_type": "code",
   "execution_count": 841,
   "id": "f2afea70-951a-4155-b255-73fdb19eda05",
   "metadata": {},
   "outputs": [],
   "source": [
    "from llama_index.node_parser import SentenceSplitter "
   ]
  },
  {
   "cell_type": "code",
   "execution_count": 842,
   "id": "51afc51a-b47e-4500-ab55-c8b40306d316",
   "metadata": {},
   "outputs": [],
   "source": [
    "parser = SentenceSplitter(chunk_size=512, chunk_overlap=30)"
   ]
  },
  {
   "cell_type": "code",
   "execution_count": 843,
   "id": "09b58be5-efa2-4f3c-b63e-c19419ba8e51",
   "metadata": {},
   "outputs": [],
   "source": [
    "model_name = 'kakaobank/kf-deberta-base'\n",
    "embed_model = HuggingFaceEmbedding(model_name=model_name, embed_batch_size=32)"
   ]
  },
  {
   "cell_type": "code",
   "execution_count": 844,
   "id": "0f90ea38-31d0-488e-a133-d482b88ea200",
   "metadata": {},
   "outputs": [
    {
     "name": "stdout",
     "output_type": "stream",
     "text": [
      "LLM is explicitly disabled. Using MockLLM.\n"
     ]
    }
   ],
   "source": [
    "service_context = ServiceContext.from_defaults(node_parser=parser, embed_model=embed_model, llm=None)"
   ]
  },
  {
   "cell_type": "code",
   "execution_count": 845,
   "id": "4baf2cf3-4170-4fe2-851c-e0187704ca50",
   "metadata": {},
   "outputs": [],
   "source": [
    "index = VectorStoreIndex.from_documents(\n",
    "    doc_list, service_context=service_context, storage_context=data_storage\n",
    ")"
   ]
  },
  {
   "cell_type": "code",
   "execution_count": 846,
   "id": "85774c4f-6f09-4e1c-b4ce-15db0e79e585",
   "metadata": {},
   "outputs": [
    {
     "data": {
      "text/plain": [
       "188"
      ]
     },
     "execution_count": 846,
     "metadata": {},
     "output_type": "execute_result"
    }
   ],
   "source": [
    "data_collection.count()"
   ]
  },
  {
   "cell_type": "code",
   "execution_count": 669,
   "id": "b4a27f6b-8571-49f5-bc80-1db419365169",
   "metadata": {},
   "outputs": [],
   "source": [
    "from llama_index.retrievers import VectorIndexRetriever \n",
    "from llama_index.vector_stores import SimpleVectorStore\n",
    "from llama_index.query_engine import RetrieverQueryEngine \n",
    "from llama_index.postprocessor import SimilarityPostprocessor \n",
    "from llama_index.postprocessor import SentenceTransformerRerank \n",
    "from llama_index.postprocessor import KeywordNodePostprocessor \n",
    "from llama_index.postprocessor import SimilarityPostprocessor, CohereRerank\n",
    "from llama_index.schema import Node, NodeWithScore "
   ]
  },
  {
   "cell_type": "code",
   "execution_count": 671,
   "id": "b2d8cd30-9885-4aa2-9808-4c5dd4c85fd4",
   "metadata": {},
   "outputs": [],
   "source": [
    "retriever = VectorIndexRetriever(\n",
    "    index = index,\n",
    "    service_context=service_context,\n",
    "    similarity_top_k = 10, \n",
    "    verbose=True\n",
    ")"
   ]
  },
  {
   "cell_type": "code",
   "execution_count": 754,
   "id": "df06a715-c90b-4185-9f5b-8f2a95e962d0",
   "metadata": {},
   "outputs": [],
   "source": [
    "def get_retrieved_nodes(\n",
    "    retriever, query_str, vector_top_k=10, similarity_cutoff=0.6, reranker_top_n=3, service_context=None, with_reranker=False\n",
    "):\n",
    "    query_bundle = QueryBundle(query_str)   # query bundle 생성 \n",
    "    retrieved_nodes = retriever.retrieve(query_bundle)   # 유사도가 제일 높은 node 추출 \n",
    "    node_postprocessors = SimilarityPostprocessor(similarity_cutoff=similarity_cutoff)   # 전처리  - 유사 점수 기준 Cutoff \n",
    "    processed_nodes = node_postprocessors.postprocess_nodes(retrieved_nodes)\n",
    "    \n",
    "    if with_reranker:   # 재순위화 \n",
    "        reranker = SentenceTransformerRerank(\n",
    "            model='bongsoo/albert-small-kor-cross-encoder-v1',\n",
    "            top_n=reranker_top_n,\n",
    "        )\n",
    "        reranked_nodes = reranker.postprocess_nodes(\n",
    "            processed_nodes, query_bundle\n",
    "        )\n",
    "    return reranked_nodes"
   ]
  },
  {
   "cell_type": "code",
   "execution_count": 715,
   "id": "0817a38a-6d98-4edf-a13d-e43a8c2f732e",
   "metadata": {},
   "outputs": [],
   "source": [
    "with_reranker = True\n",
    "cutoff = 0.2\n",
    "\n",
    "query = '교통비의 정의 기준은 ?' # queries[0]"
   ]
  },
  {
   "cell_type": "code",
   "execution_count": 716,
   "id": "b19ad496-402a-4723-a47e-dde9706fc8df",
   "metadata": {},
   "outputs": [
    {
     "name": "stdout",
     "output_type": "stream",
     "text": [
      "1.19443941116333\n"
     ]
    }
   ],
   "source": [
    "import time\n",
    "from llama_index import QueryBundle\n",
    "\n",
    "start = time.time()\n",
    "retrieved_nodes = retriever.retrieve(query)\n",
    "nodes = get_retrieved_nodes(retriever, query, similarity_cutoff=cutoff, service_context=service_context, with_reranker=with_reranker)\n",
    "end = time.time() - start \n",
    "print(end)"
   ]
  },
  {
   "cell_type": "code",
   "execution_count": 717,
   "id": "ac8ba902-4d84-4d70-9291-ad49ce646134",
   "metadata": {},
   "outputs": [
    {
     "data": {
      "text/plain": [
       "{'page_label': 1, 'file_name': '신여비교통비.pdf'}"
      ]
     },
     "execution_count": 717,
     "metadata": {},
     "output_type": "execute_result"
    }
   ],
   "source": [
    "nodes[0].node.relationships['1'].metadata"
   ]
  },
  {
   "cell_type": "code",
   "execution_count": 718,
   "id": "130c3ec8-cb8c-464e-ac25-153cb4c48b53",
   "metadata": {
    "scrolled": true
   },
   "outputs": [
    {
     "name": "stdout",
     "output_type": "stream",
     "text": [
      "key: 1, value: node_id='신여비교통비_doc_1' node_type=<ObjectType.DOCUMENT: '4'> metadata={'page_label': 1, 'file_name': '신여비교통비.pdf'} hash='c0395b03779d2b24a5f5c1385ee48dccef329514cfc4293667cf5c8785f1c405'\n",
      "\n",
      "key: 2, value: node_id='6ab7a5cd-8915-41aa-9ec6-3be743ac8f9e' node_type=<ObjectType.TEXT: '1'> metadata={'page_label': 1, 'file_name': '신여비교통비.pdf'} hash='ca8f23d11a07e5b410cff08e815078185f044ca1d079c82e79c95a9d89f5679f'\n",
      "\n",
      "key: 3, value: node_id='987143ad-4a77-40cb-a10d-34c7b3715313' node_type=<ObjectType.TEXT: '1'> metadata={} hash='3a63d0dee2494b16d5bf5c31cb32c6e756a5eb06ea396675f703f977fd96b90b'\n",
      "\n"
     ]
    }
   ],
   "source": [
    "for key, value in nodes[0].node.relationships.items():\n",
    "    print(f\"key: {key}, value: {value}\", end='\\n\\n')"
   ]
  },
  {
   "cell_type": "code",
   "execution_count": 719,
   "id": "e7538b12-2ae9-4f3a-93f8-b98af9a46c5e",
   "metadata": {},
   "outputs": [],
   "source": [
    "def get_info(retrieved_node):\n",
    "    '''\n",
    "    id, text, score 반환 \n",
    "    '''\n",
    "    id = retrieved_node.node.relationships['1'].node_id\n",
    "    name = retrieved_node.node.relationships['1'].metadata['name']\n",
    "    txt = retrieved_node.node.text \n",
    "    score = retrieved_node.score \n",
    "    return [id, name, txt, score] "
   ]
  },
  {
   "cell_type": "code",
   "execution_count": 720,
   "id": "97fa5a90-5379-48fb-af81-e0d5f3c43a01",
   "metadata": {},
   "outputs": [
    {
     "name": "stdout",
     "output_type": "stream",
     "text": [
      "3\n"
     ]
    }
   ],
   "source": [
    "print(len(nodes))"
   ]
  },
  {
   "cell_type": "code",
   "execution_count": 721,
   "id": "a16fc6f7-7f1e-4dbf-bfd3-03155355fb51",
   "metadata": {
    "scrolled": true
   },
   "outputs": [
    {
     "data": {
      "text/plain": [
       "(['제2항 상위 직책을 대리하거나, 동행하는 경우에는 그 직급의 출장 경비를 지급할 수 있다.\\n제7조 (지급의 제한)\\n제1항 회사소유 또는 임차한 시설이 있거나 회사가 교통편을 제공하는 경우 이를 이용함을 원칙으로\\n한다.\\n제2항 장기체재에 따른 숙소 제공 시에는 숙박비를 지원하지 아니한다.\\n제3항 장기출장 시에는 야근 식대 및 교통비를 지원하지 아니한다 .',\n",
       "  '제18조 (장기출장 시 귀향여비 )\\n제1항 해외 장기출장 시 국내 귀향에 따른 왕복항공료를 회사에서 분기당 1회씩 지원한다.\\n제2항 국내 장기출장 시 귀향에 따른 교통비를 별표 제1호에 의하여 회사에서 월 2회씩 지원한다 .\\n단, 거주지를 출장지로 이전한 경우에는 월 1회로 한다.\\n부 칙\\n제1조 (시행일)\\n제1항 이 규정은 2017년 1월 1일부터 제정, 시행한다 .\\n제2항 이 규정 시행일 이전의 위 내용과 관련된 규정은 이 규정의 시행 즉시 효력을 상실한다 .\\n부 칙\\n제1조 (시행일)\\n제1항 이 규정은 2018년 8월 1일부터 개정, 시행한다 .',\n",
       "  '제1장 총 칙\\n제1조 (목적)\\n이 규정은 회사의 임.직원 또는 계약에 의해 회사의 업무를 수행하는 자가 회사의 출장명령에 의해\\n국.내외를 출장할 때 그 여비의 지급기준에 관한 사항을 정함을 목적으로 한다.\\n제2조 (용어정의 )\\n이 규정에서 사용하는 용어의 정의는 아래 각 호와 같다.\\n1. “교통비”라 함은 경유지와 종착 지점간의 철도, 항공, 선박, 자동차 등의 운임을 말한다.\\n2. “숙박비”라 함은 1박 이상의 출장 시 숙박에 소요되는 비용을 말한다.\\n3. “일비”라 함은 출장 중 발생하는 현지교통비 또는 도시권내 교통비 및 이에 따른 부대비용과\\n출장중의 통신비 및 제 잡비 등의 모든 경비를 말한다.\\n4. “식비”라 함은 출장 중 출장자의 식사 및 음료 비용 등을 말한다.\\n5. “업무상 외출”이라 함은 숙박을 요하지 않는 당일 출장을 말한다.\\n6. “장기출장 ”이라 함은 1개월을 초과하여 수행하는 출장을 말한다.\\n7. “장기체재 ”라 함은 장기출장의 일종으로서 동일장소에서 3개월을 초과하여 수행하는 출장을\\n말한다.'],\n",
       " [0.18671219, 0.16505632, 0.13733838])"
      ]
     },
     "execution_count": 721,
     "metadata": {},
     "output_type": "execute_result"
    }
   ],
   "source": [
    "contexts = [node.text for node in nodes]\n",
    "scores = [node.score for node in nodes]\n",
    "contexts, scores "
   ]
  },
  {
   "cell_type": "code",
   "execution_count": 724,
   "id": "7e200f34-5fd9-48e0-b99b-4e9e1a284a66",
   "metadata": {
    "scrolled": true
   },
   "outputs": [
    {
     "name": "stdout",
     "output_type": "stream",
     "text": [
      "제1장 총 칙\n",
      "제1조 (목적)\n",
      "이 규정은 회사의 임.직원 또는 계약에 의해 회사의 업무를 수행하는 자가 회사의 출장명령에 의해\n",
      "국.내외를 출장할 때 그 여비의 지급기준에 관한 사항을 정함을 목적으로 한다.\n",
      "제2조 (용어정의 )\n",
      "이 규정에서 사용하는 용어의 정의는 아래 각 호와 같다.\n",
      "1. “교통비”라 함은 경유지와 종착 지점간의 철도, 항공, 선박, 자동차 등의 운임을 말한다.\n",
      "2. “숙박비”라 함은 1박 이상의 출장 시 숙박에 소요되는 비용을 말한다.\n",
      "3. “일비”라 함은 출장 중 발생하는 현지교통비 또는 도시권내 교통비 및 이에 따른 부대비용과\n",
      "출장중의 통신비 및 제 잡비 등의 모든 경비를 말한다.\n",
      "4. “식비”라 함은 출장 중 출장자의 식사 및 음료 비용 등을 말한다.\n",
      "5. “업무상 외출”이라 함은 숙박을 요하지 않는 당일 출장을 말한다.\n",
      "6. “장기출장 ”이라 함은 1개월을 초과하여 수행하는 출장을 말한다.\n",
      "7. “장기체재 ”라 함은 장기출장의 일종으로서 동일장소에서 3개월을 초과하여 수행하는 출장을\n",
      "말한다.\n"
     ]
    }
   ],
   "source": [
    "print(nodes[2].text)"
   ]
  },
  {
   "cell_type": "code",
   "execution_count": 727,
   "id": "75e16d60-d799-4e9a-9890-b2debb84a3f3",
   "metadata": {},
   "outputs": [
    {
     "data": {
      "text/plain": [
       "{'page_label': 1, 'file_name': '신여비교통비.pdf'}"
      ]
     },
     "execution_count": 727,
     "metadata": {},
     "output_type": "execute_result"
    }
   ],
   "source": [
    "nodes[0].metadata"
   ]
  },
  {
   "cell_type": "code",
   "execution_count": 730,
   "id": "bfe1c5c2-bc96-491f-a7f7-e8ee0b593c47",
   "metadata": {},
   "outputs": [],
   "source": [
    "def get_info(retrieved_node):\n",
    "    '''\n",
    "    id, text, score 반환 \n",
    "    '''\n",
    "    id = retrieved_node.node.relationships['1'].node_id\n",
    "    name = retrieved_node.node.relationships['1'].metadata['file_name']\n",
    "    txt = retrieved_node.node.text \n",
    "    score = retrieved_node.score \n",
    "    return [id, name, txt, score] "
   ]
  },
  {
   "cell_type": "code",
   "execution_count": 733,
   "id": "96e0ff94-33eb-4dec-93b4-a15e0faeb18f",
   "metadata": {
    "scrolled": true
   },
   "outputs": [
    {
     "name": "stdout",
     "output_type": "stream",
     "text": [
      "제2항 상위 직책을 대리하거나, 동행하는 경우에는 그 직급의 출장 경비를 지급할 수 있다.\n",
      "제7조 (지급의 제한)\n",
      "제1항 회사소유 또는 임차한 시설이 있거나 회사가 교통편을 제공하는 경우 이를 이용함을 원칙으로\n",
      "한다.\n",
      "제2항 장기체재에 따른 숙소 제공 시에는 숙박비를 지원하지 아니한다.\n",
      "제3항 장기출장 시에는 야근 식대 및 교통비를 지원하지 아니한다 .\n"
     ]
    }
   ],
   "source": [
    "print(get_info(nodes[0])[2])"
   ]
  },
  {
   "cell_type": "code",
   "execution_count": 753,
   "id": "f76d551a-2eca-40ca-8b6d-2432fe83d3b7",
   "metadata": {
    "scrolled": true
   },
   "outputs": [
    {
     "name": "stdout",
     "output_type": "stream",
     "text": [
      "<s>[INST] 질문: 교통비의 정의 기준은 ? \n",
      "\n",
      "    관련 정보: 제1장 총 칙\n",
      "제1조 (목적)\n",
      "이 규정은 회사의 임.직원 또는 계약에 의해 회사의 업무를 수행하는 자가 회사의 출장명령에 의해\n",
      "국.내외를 출장할 때 그 여비의 지급기준에 관한 사항을 정함을 목적으로 한다.\n",
      "제2조 (용어정의 )\n",
      "이 규정에서 사용하는 용어의 정의는 아래 각 호와 같다.\n",
      "1. “교통비”라 함은 경유지와 종착 지점간의 철도, 항공, 선박, 자동차 등의 운임을 말한다.\n",
      "2. “숙박비”라 함은 1박 이상의 출장 시 숙박에 소요되는 비용을 말한다.\n",
      "3. “일비”라 함은 출장 중 발생하는 현지교통비 또는 도시권내 교통비 및 이에 따른 부대비용과\n",
      "출장중의 통신비 및 제 잡비 등의 모든 경비를 말한다.\n",
      "4. “식비”라 함은 출장 중 출장자의 식사 및 음료 비용 등을 말한다.\n",
      "5. “업무상 외출”이라 함은 숙박을 요하지 않는 당일 출장을 말한다.\n",
      "6. “장기출장 ”이라 함은 1개월을 초과하여 수행하는 출장을 말한다.\n",
      "7. “장기체재 ”라 함은 장기출장의 일종으로서 동일장소에서 3개월을 초과하여 수행하는 출장을\n",
      "말한다. \n",
      " \n",
      "    관련 정보를 바탕으로 질문에 자연스럽게 답해줘 [/INST] \n",
      "\n"
     ]
    }
   ],
   "source": [
    "prompt_template = (\n",
    "    f\"\"\"<s>[INST] 질문: {query} \\n\n",
    "    관련 정보: {nodes[2].text} \\n \n",
    "    관련 정보를 바탕으로 질문에 자연스럽게 답해줘 [/INST] \\n\"\"\"\n",
    ")\n",
    "\n",
    "print(prompt_template)"
   ]
  },
  {
   "cell_type": "code",
   "execution_count": 737,
   "id": "70c4ba5f-5db6-45d9-961a-6f0278f34bf5",
   "metadata": {},
   "outputs": [],
   "source": [
    "import torch\n",
    "from transformers import AutoTokenizer, AutoModelForCausalLM, BitsAndBytesConfig\n",
    "from peft import PeftModel, PeftConfig\n",
    "from transformers import TextStreamer, GenerationConfig\n",
    "from llama_index.response_synthesizers import (\n",
    "    ResponseMode,\n",
    "    get_response_synthesizer,\n",
    ")"
   ]
  },
  {
   "cell_type": "code",
   "execution_count": 738,
   "id": "73006be3-aaff-4ff8-a103-c83226e5aa79",
   "metadata": {},
   "outputs": [],
   "source": [
    "def print_trainable_parameters(model):\n",
    "    \"\"\"\n",
    "    Prints the number of trainable parameters in the model.\n",
    "    \"\"\"\n",
    "    trainable_params = 0\n",
    "    all_param = 0\n",
    "    for _, param in model.named_parameters():\n",
    "        all_param += param.numel()\n",
    "        if param.requires_grad:\n",
    "            trainable_params += param.numel()\n",
    "    print(\n",
    "        f\"trainable params: {trainable_params} || all params: {all_param} || trainable%: {100 * trainable_params / all_param}\"\n",
    "    )"
   ]
  },
  {
   "cell_type": "code",
   "execution_count": 744,
   "id": "b1cea5f9-1518-4b47-b34a-6a8ca759df5b",
   "metadata": {
    "scrolled": true
   },
   "outputs": [
    {
     "data": {
      "application/vnd.jupyter.widget-view+json": {
       "model_id": "db2f6eb9270c4b53b9173894f0404b29",
       "version_major": 2,
       "version_minor": 0
      },
      "text/plain": [
       "Loading checkpoint shards:   0%|          | 0/3 [00:00<?, ?it/s]"
      ]
     },
     "metadata": {},
     "output_type": "display_data"
    }
   ],
   "source": [
    "from transformers import LlamaForCausalLM, LlamaTokenizer, LlamaTokenizerFast, BitsAndBytesConfig\n",
    "\n",
    "tokenizer = LlamaTokenizerFast.from_pretrained(os.path.join(model_dir, 'tokenizer'))   # LlamaTokenizer (x)  -> LlamaTokenizerFast (o)\n",
    "model = AutoModelForCausalLM.from_pretrained(model_dir, torch_dtype=torch.float16, low_cpu_mem_usage=True) # , device_map=\"auto\")"
   ]
  },
  {
   "cell_type": "code",
   "execution_count": 748,
   "id": "84130928-8d27-4560-a1d4-718c9236e731",
   "metadata": {
    "scrolled": true
   },
   "outputs": [
    {
     "data": {
      "text/plain": [
       "MistralForCausalLM(\n",
       "  (model): MistralModel(\n",
       "    (embed_tokens): Embedding(32000, 4096)\n",
       "    (layers): ModuleList(\n",
       "      (0-31): 32 x MistralDecoderLayer(\n",
       "        (self_attn): MistralAttention(\n",
       "          (q_proj): Linear(in_features=4096, out_features=4096, bias=False)\n",
       "          (k_proj): Linear(in_features=4096, out_features=1024, bias=False)\n",
       "          (v_proj): Linear(in_features=4096, out_features=1024, bias=False)\n",
       "          (o_proj): Linear(in_features=4096, out_features=4096, bias=False)\n",
       "          (rotary_emb): MistralRotaryEmbedding()\n",
       "        )\n",
       "        (mlp): MistralMLP(\n",
       "          (gate_proj): Linear(in_features=4096, out_features=14336, bias=False)\n",
       "          (up_proj): Linear(in_features=4096, out_features=14336, bias=False)\n",
       "          (down_proj): Linear(in_features=14336, out_features=4096, bias=False)\n",
       "          (act_fn): SiLU()\n",
       "        )\n",
       "        (input_layernorm): MistralRMSNorm()\n",
       "        (post_attention_layernorm): MistralRMSNorm()\n",
       "      )\n",
       "    )\n",
       "    (norm): MistralRMSNorm()\n",
       "  )\n",
       "  (lm_head): Linear(in_features=4096, out_features=32000, bias=False)\n",
       ")"
      ]
     },
     "execution_count": 748,
     "metadata": {},
     "output_type": "execute_result"
    }
   ],
   "source": [
    "g_device = torch.device(\"cuda\") if torch.cuda.is_available() else \"cpu\"\n",
    "model.to(g_device)"
   ]
  },
  {
   "cell_type": "code",
   "execution_count": 749,
   "id": "35da719a-cb3f-4d32-88d3-2e85967076cc",
   "metadata": {},
   "outputs": [],
   "source": [
    "generation_config = GenerationConfig(\n",
    "    temperature=0.8,\n",
    "    do_sample=True,\n",
    "    top_p=0.95,\n",
    "    max_new_tokens=512,\n",
    ")"
   ]
  },
  {
   "cell_type": "code",
   "execution_count": 750,
   "id": "fdd29a0b-21ac-451c-8e9b-c0587e3e1cd9",
   "metadata": {},
   "outputs": [],
   "source": [
    "gened = model.generate(\n",
    "    **tokenizer(\n",
    "        prompt_template,\n",
    "        return_tensors='pt',\n",
    "        return_token_type_ids=False\n",
    "    ).to('cuda'),\n",
    "    generation_config=generation_config,\n",
    "    pad_token_id=tokenizer.eos_token_id,\n",
    "    eos_token_id=tokenizer.eos_token_id,\n",
    "    # streamer=streamer,\n",
    ")"
   ]
  },
  {
   "cell_type": "code",
   "execution_count": 751,
   "id": "842e69f5-2c4d-4918-b0c9-a7a1a57c9f9d",
   "metadata": {},
   "outputs": [],
   "source": [
    "result_str = tokenizer.decode(gened[0])\n",
    "\n",
    "start_tag = f\"[/INST]\"\n",
    "start_index = result_str.find(start_tag)\n",
    "\n",
    "if start_index != -1:\n",
    "    result_str = result_str[start_index + len(start_tag):].strip()"
   ]
  },
  {
   "cell_type": "code",
   "execution_count": 752,
   "id": "58ba4fdb-e89d-472b-8a84-9d8751f0357e",
   "metadata": {},
   "outputs": [
    {
     "name": "stdout",
     "output_type": "stream",
     "text": [
      "질문: 교통비의 정의 기준은? \n",
      "\n",
      "답변: \n",
      "교통비는 경유지와 종착 지점간의 철도, 항공, 선박, 자동차 등의 운임을 말한다. 따라서, 출장 중 이동하는 경로와 수단에 따라 교통비가 지급되는 경우이다.</s>\n"
     ]
    }
   ],
   "source": [
    "print(result_str)"
   ]
  },
  {
   "cell_type": "code",
   "execution_count": null,
   "id": "95af4f32-d9e6-46b7-ae53-4b43e95fe4ff",
   "metadata": {},
   "outputs": [],
   "source": []
  }
 ],
 "metadata": {
  "kernelspec": {
   "display_name": "Python 3 (ipykernel)",
   "language": "python",
   "name": "python3"
  },
  "language_info": {
   "codemirror_mode": {
    "name": "ipython",
    "version": 3
   },
   "file_extension": ".py",
   "mimetype": "text/x-python",
   "name": "python",
   "nbconvert_exporter": "python",
   "pygments_lexer": "ipython3",
   "version": "3.10.13"
  }
 },
 "nbformat": 4,
 "nbformat_minor": 5
}
