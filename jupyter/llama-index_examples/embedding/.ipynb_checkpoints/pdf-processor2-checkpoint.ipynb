{
 "cells": [
  {
   "cell_type": "markdown",
   "id": "429d50cd-353b-42c1-9a81-b5cf42db081e",
   "metadata": {},
   "source": [
    "### Default Setting "
   ]
  },
  {
   "cell_type": "code",
   "execution_count": 153,
   "id": "b33e701f-ad3c-4ae3-a53d-7e1f6822b96b",
   "metadata": {},
   "outputs": [],
   "source": [
    "from llama_index import Document, VectorStoreIndex, SimpleDirectoryReader, ServiceContext\n",
    "from llama_index.vector_stores import ChromaVectorStore\n",
    "from llama_index.readers.chroma import ChromaReader\n",
    "from llama_index.storage.storage_context import StorageContext\n",
    "# from transformers import AutoTokenizer, AutoModel\n",
    "from llama_index.embeddings import HuggingFaceEmbedding\n",
    "from llama_index.schema import MetadataMode\n",
    "from IPython.display import Markdown, display\n",
    "from llama_index import Document, VectorStoreIndex \n",
    "from llama_index.node_parser import SentenceSplitter\n",
    "import chromadb\n",
    "import pandas as pd \n",
    "import openai\n",
    "import re\n",
    "import os\n",
    "import getpass\n",
    "import glob "
   ]
  },
  {
   "cell_type": "code",
   "execution_count": 154,
   "id": "eac7008a-40c0-43e5-930a-1c9692cf2ebd",
   "metadata": {},
   "outputs": [],
   "source": [
    "default_path = os.getcwd()\n",
    "model_path = os.path.join(default_path, '../../models')\n",
    "model_dir = os.path.join(model_path, \"mistral_origin\")\n",
    "data_path = os.path.join(default_path, '../../../data')\n",
    "rulebook_path = os.path.join(data_path, 'pdf', 'rules')"
   ]
  },
  {
   "cell_type": "code",
   "execution_count": 305,
   "id": "5468481d-af59-4791-8cb9-bf40f928a203",
   "metadata": {},
   "outputs": [
    {
     "data": {
      "text/plain": [
       "'/rag/jupyter/llama-index_examples/embedding/../../../data/pdf/rules/신여비교통비.pdf'"
      ]
     },
     "execution_count": 305,
     "metadata": {},
     "output_type": "execute_result"
    }
   ],
   "source": [
    "file_list = glob.glob(f'{rulebook_path}/*.pdf')\n",
    "file_list[6]"
   ]
  },
  {
   "cell_type": "code",
   "execution_count": 8,
   "id": "cb73a221-ddd5-482c-93fe-af7ca133cf8e",
   "metadata": {},
   "outputs": [
    {
     "name": "stdin",
     "output_type": "stream",
     "text": [
      "OpenAI API Key: ········\n"
     ]
    }
   ],
   "source": [
    "os.environ[\"OPENAI_API_KEY\"] = getpass.getpass(\"OpenAI API Key:\")\n",
    "openai.api_key = os.environ[\"OPENAI_API_KEY\"]"
   ]
  },
  {
   "cell_type": "code",
   "execution_count": 383,
   "id": "08517456-abd3-4c9a-a243-0e8a6b029ed9",
   "metadata": {},
   "outputs": [],
   "source": [
    "chroma_client = chromadb.HttpClient(host=\"192.168.0.146\")"
   ]
  },
  {
   "cell_type": "code",
   "execution_count": 384,
   "id": "222ffa6c-9bf2-480b-affb-0dfc4f27cbe5",
   "metadata": {},
   "outputs": [
    {
     "data": {
      "text/plain": [
       "[Collection(name=deposit),\n",
       " Collection(name=data),\n",
       " Collection(name=card),\n",
       " Collection(name=loan)]"
      ]
     },
     "execution_count": 384,
     "metadata": {},
     "output_type": "execute_result"
    }
   ],
   "source": [
    "chroma_client.list_collections()"
   ]
  },
  {
   "cell_type": "code",
   "execution_count": 385,
   "id": "4d494e43-a733-4106-8509-bb2dd2370c90",
   "metadata": {},
   "outputs": [],
   "source": [
    "data_collection = chroma_client.get_or_create_collection(\"data\")"
   ]
  },
  {
   "cell_type": "code",
   "execution_count": 386,
   "id": "1a340303-736c-42ea-8cdc-b6c7356e5951",
   "metadata": {},
   "outputs": [
    {
     "data": {
      "text/plain": [
       "Collection(name=data)"
      ]
     },
     "execution_count": 386,
     "metadata": {},
     "output_type": "execute_result"
    }
   ],
   "source": [
    "data_collection"
   ]
  },
  {
   "cell_type": "code",
   "execution_count": 387,
   "id": "53819fc1-d42f-4471-bdfc-ca0434473275",
   "metadata": {},
   "outputs": [],
   "source": [
    "data_store = ChromaVectorStore(chroma_collection=data_collection)\n",
    "data_storage = StorageContext.from_defaults(vector_store=data_store)"
   ]
  },
  {
   "cell_type": "code",
   "execution_count": 388,
   "id": "6ea1e2e3-dcd2-4fc0-a9b9-8da962086a6b",
   "metadata": {},
   "outputs": [],
   "source": [
    "page_no = 0"
   ]
  },
  {
   "cell_type": "code",
   "execution_count": 646,
   "id": "00f3adbd-1222-4fed-a27b-768f4281ba3c",
   "metadata": {},
   "outputs": [],
   "source": [
    "documents = SimpleDirectoryReader(input_files=[file_list[8]]).load_data()"
   ]
  },
  {
   "cell_type": "code",
   "execution_count": 647,
   "id": "aa415853-3d5d-4061-8c0c-d9b8f98ae4f2",
   "metadata": {},
   "outputs": [],
   "source": [
    "num_mapper = dict({'①':'제1항', '②':'제2항', '③':'제3항', '④':'제4항', '⑤':'제5항', '⑥':'제6항',\\\n",
    "                   '⑦':'제7항', '⑧': '제8항', '⑨': '제9항', '⑩': '제10항', '⑪': '제11항', '⑫': '제12항',\\\n",
    "                  '⑬':'제13항', '⑭':'제14항', '⑮':'제15항', '⑯':'제16항', '⑰':'제17항', '⑱':'제18항', '⑲':'제19항', '⑳':'제20항'})"
   ]
  },
  {
   "cell_type": "code",
   "execution_count": 648,
   "id": "1f842d08-395f-4064-a313-0b058e59c560",
   "metadata": {},
   "outputs": [
    {
     "data": {
      "text/plain": [
       "Document(id_='9d3f6e98-cb8e-4504-a7d8-d13c16951a0a', embedding=None, metadata={'page_label': '1', 'file_name': '윤리규정.pdf', 'file_path': '/rag/jupyter/llama-index_examples/embedding/../../../data/pdf/rules/윤리규정.pdf', 'file_type': 'application/pdf', 'file_size': 514996, 'creation_date': '2024-03-26', 'last_modified_date': '2024-03-06', 'last_accessed_date': '2024-03-26'}, excluded_embed_metadata_keys=['file_name', 'file_type', 'file_size', 'creation_date', 'last_modified_date', 'last_accessed_date'], excluded_llm_metadata_keys=['file_name', 'file_type', 'file_size', 'creation_date', 'last_modified_date', 'last_accessed_date'], relationships={}, hash='d076373d3198615971627eb226ed3cd2040f9fbb83de994a6e3d128879244a1b', text='1 \\n  \\n \\n \\n \\n \\n \\n \\n \\n \\n \\n \\n \\n윤 리 규 정 \\n \\n \\n \\n \\n \\n \\n \\n \\n \\n \\n \\n \\n \\n \\n \\n \\n \\n \\n \\n \\n \\n주식회사  핑거 \\n \\n \\n \\n \\n \\n \\n \\n \\n \\n ', start_char_idx=None, end_char_idx=None, text_template='{metadata_str}\\n\\n{content}', metadata_template='{key}: {value}', metadata_seperator='\\n')"
      ]
     },
     "execution_count": 648,
     "metadata": {},
     "output_type": "execute_result"
    }
   ],
   "source": [
    "documents[page_no]"
   ]
  },
  {
   "cell_type": "code",
   "execution_count": 649,
   "id": "b18daacb-6790-44d4-8983-0ca33f3b6b32",
   "metadata": {},
   "outputs": [],
   "source": [
    "def text_cleanse(document):\n",
    "    '''\n",
    "    여러 공백 문자열 단일 공백 문자로 변환 \n",
    "    여러 줄변환 문자 줄변환 문자로 변환 (\\n x 2~ => \\n x 2) \n",
    "    문서 맨 윗 내용이 페이지 번호인 경우 페이지 번호 제거 \n",
    "    '''\n",
    "    document.text = re.sub('[^A-Za-z0-9\\'\\\"\\-가-힣(){}\\\\n[]]', '', document.text)\n",
    "    for num in num_mapper.keys():\n",
    "        document.text = document.text.replace(num, num_mapper[num])\n",
    "    document.text = re.sub(' +', ' ', document.text)\n",
    "    document.text = document.text.strip()\n",
    "    # document.text = re.sub(r'\\r\\n{2,}', '\\n\\n', document.text)\n",
    "    \n",
    "    text_list = document.text.splitlines(True)\n",
    "    if text_list[0].startswith('페이지') or text_list[0].startswith(document.metadata['page_label']):\n",
    "        text_list = text_list[1:]\n",
    "\n",
    "    new_text = [] \n",
    "    for line in text_list:\n",
    "        if line == '\\n' or line == ' \\n':\n",
    "            continue \n",
    "        new_text.append(line) \n",
    "    document.text = ''.join(new_text)\n",
    "    return document"
   ]
  },
  {
   "cell_type": "code",
   "execution_count": 650,
   "id": "e9968b64-9be4-4eb5-a799-8d44eb0618bb",
   "metadata": {},
   "outputs": [],
   "source": [
    "for idx in range(len(documents)):\n",
    "    documents[idx] = text_cleanse(documents[idx])"
   ]
  },
  {
   "cell_type": "code",
   "execution_count": 651,
   "id": "77aa8865-c702-4a55-a580-aa56961db7aa",
   "metadata": {
    "scrolled": true
   },
   "outputs": [
    {
     "name": "stdout",
     "output_type": "stream",
     "text": [
      " 윤 리 헌 장 \n",
      "우리는 기업의 사회적 책임을 소중히 여기고, 고객의 가치와 신뢰를 얻기 위해 \n",
      "비즈니스 활동에서 공정한 기준에 따라 행동하며 이러한 기준에서 벗어나는 \n",
      "어떠한 결과도 수용하지 않음을 선언한다 . \n",
      "우리가 지키는 높은 윤리수준은 \n",
      "명문화된 규정보다 임직원 각자의 자발적 참여로 구축되는 건전한 기업문화로 자연스럽게 달성되며 \n",
      "아름다운 전통으로 계승한다 . \n",
      "하나, 우리는 높은 윤리의식과 밝고 고운 심성을 바탕으로 정직하고 공정하게 직무를 수행한다 . \n",
      "하나, 우리는 최고의 솔루션과 서비스로 고객의 소중한 가치를 항상 최우선으로 생각한다 . \n",
      "하나, 우리는 효율적인 경영으로 이익을 실현함으로써 주주가치를 존중한다 . \n",
      "하나, 고객 및 협력사와의 거래는 상호 발전을 기함과 동시에 투명하고 공정하게 한다. \n",
      "하나, 우리는 국가와 지역사회의 각종 법규를 준수한다 . \n",
      "하나, 우리는 일체의 부정행위를 하지 않으며 업무수행 시 회사이익을 우선한다 . \n",
      "윤 리 강 령 \n",
      "제 1 장 기 본 책 무 \n",
      "제1조 (최고의 제품과 서비스창출 ) \n",
      "제1항 품질은 결코 타협하거나 양보할 대상이 아닌 우리의 최고 가치로 삼는다. \n",
      "제2항 가장 좋게, 싸게, 빠르게, 최고의 경쟁력을 확보하기 위해 최선을 다한다. \n",
      " 제3항 부단한 혁신과 연구개발을 통해 새로운 가치를 창조함으로 써 인류사회의 발전을 선도한다 . \n",
      "제2조 (법규준수와 공정한 경쟁) \n",
      "제1항 사업활동에 있어서 모든 법규와 규범, 기초질서를 충실히 준수하며 , 문화와 관습을 존중한다 . \n",
      "제2항 경쟁사를 존중하며 , 정당한 방법과 실력으로 자유롭고 공정하게 경쟁한다 . \n",
      "제3항 공정한 거래를 위하여 자유경쟁의 원칙에 따라 경쟁한다 . \n",
      "제4항 공정거래 당사자들과는 상호 신뢰를 기반으로 공동발전을 도모한다 . \n",
      "제3조 (주주에 대한 존중) \n",
      "제1항 안정적인 경영활동을 통하여 이익을 실현하고 주주의 투자수익을 보호한다 . \n",
      "제2항 주주와의 상호 신뢰를 위해서 기업정보를 투명하게 공개하도록 한다. \n",
      "제4조 (고객에 대한 책임) \n",
      "제1항 고객의 이익이 핑거의 이익이 된다는 신념으로 고객을 대한다. \n",
      "제2항 최상의 제품과 서비스를 제공하도록 최선을 다한다. \n",
      " 제3항 고객의 안전과 정보를 보호하며 고객에게 피해가 갈 수 있는 법률 및 기준을 위반하지 아니한다 .\n"
     ]
    }
   ],
   "source": [
    "print(documents[1].text)"
   ]
  },
  {
   "cell_type": "markdown",
   "id": "a7a99e00-1cd0-44d9-92c0-a7f050b857a2",
   "metadata": {},
   "source": [
    "#### Document 재정의 "
   ]
  },
  {
   "cell_type": "raw",
   "id": "8fc728d0-4277-4bff-9988-04c53a71711a",
   "metadata": {},
   "source": [
    "- 목차는 걸러낸다. \n",
    "- 제 1장, 제 2장, ... 단위로 Document를 정의한다.\n",
    "- 부칙도 걸러낸다"
   ]
  },
  {
   "cell_type": "code",
   "execution_count": 652,
   "id": "169f9865-9fe9-4161-837f-1e7073faf80f",
   "metadata": {},
   "outputs": [
    {
     "data": {
      "text/plain": [
       "'1'"
      ]
     },
     "execution_count": 652,
     "metadata": {},
     "output_type": "execute_result"
    }
   ],
   "source": [
    "text = documents[0].text \n",
    "documents[0].metadata['page_label']"
   ]
  },
  {
   "cell_type": "code",
   "execution_count": 653,
   "id": "6ab7d210-63cb-4ca2-9a40-8723c8c1f1fa",
   "metadata": {},
   "outputs": [
    {
     "data": {
      "text/plain": [
       "['제 1 장 제1장 제 1장 제 2 장 제2장 제 2장']"
      ]
     },
     "execution_count": 653,
     "metadata": {},
     "output_type": "execute_result"
    }
   ],
   "source": [
    "import re \n",
    "\n",
    "text = '제 1 장 제1장 제 1장 제 2 장 제2장 제 2장' \n",
    "# re.findall(r'제.*[0-9].*장', text)\n",
    "re.findall(r'제.+2.+장', text)"
   ]
  },
  {
   "cell_type": "code",
   "execution_count": 654,
   "id": "1af8ecfe-644b-4a06-95b5-f4f3d9ca90f3",
   "metadata": {},
   "outputs": [
    {
     "data": {
      "text/plain": [
       "['제 1 장', '제1장', '제 1장']"
      ]
     },
     "execution_count": 654,
     "metadata": {},
     "output_type": "execute_result"
    }
   ],
   "source": [
    "text = '제 1 장 제1장 제 1장 제 2 장 제2장 제 2장 제 4장' \n",
    "re.findall(r'제 *1 *장', text)"
   ]
  },
  {
   "cell_type": "code",
   "execution_count": 655,
   "id": "59c40f7e-c844-4e22-b5ed-08c3629a24ef",
   "metadata": {},
   "outputs": [],
   "source": [
    "def get_start_point(documents):\n",
    "    s_point = 1\n",
    "    for doc in documents:\n",
    "        if len(re.findall(r'제 *1 *장', doc.text)) != 0 and (len(re.findall(r'목 *차', doc.text)) == 0 and len(re.findall(r'차 *례', doc.text)) == 0): \n",
    "            '''\n",
    "            print(re.findall(r'제 *1 *장', doc.text))\n",
    "            print(re.findall(r'목 *차', doc.text))\n",
    "            print(re.findall(r'차 *례', doc.text))'''\n",
    "            s_point = doc.metadata['page_label']\n",
    "            break \n",
    "    return int(s_point) - 1"
   ]
  },
  {
   "cell_type": "code",
   "execution_count": 656,
   "id": "56c82f15-fe38-44b4-b6e8-62ad187292a3",
   "metadata": {},
   "outputs": [
    {
     "data": {
      "text/plain": [
       "'1'"
      ]
     },
     "execution_count": 656,
     "metadata": {},
     "output_type": "execute_result"
    }
   ],
   "source": [
    "documents[0].metadata['page_label']"
   ]
  },
  {
   "cell_type": "code",
   "execution_count": 657,
   "id": "3546d63e-60db-4361-8e3c-65a043be827e",
   "metadata": {},
   "outputs": [
    {
     "data": {
      "text/plain": [
       "1"
      ]
     },
     "execution_count": 657,
     "metadata": {},
     "output_type": "execute_result"
    }
   ],
   "source": [
    "s_point = get_start_point(documents)\n",
    "s_point"
   ]
  },
  {
   "cell_type": "code",
   "execution_count": 658,
   "id": "3e176290-49f9-4d89-a19e-200acaa25443",
   "metadata": {},
   "outputs": [],
   "source": [
    "def split_doc(idx, prev_spot, current_spot, document):\n",
    "    '''\n",
    "    문서를 이전 장과 현재 장으로 분리하는 함수 \n",
    "    prev_spot: 이전 장, current_spot: 현재 장 \n",
    "    '''\n",
    "    file_name = document.metadata['file_name'].split('.')[0]\n",
    "    splitted = document.text.split(current_spot)\n",
    "    # print(f'prev_spot: {prev_spot}')\n",
    "    # print(f'current_spot: {current_spot}')\n",
    "    prev_doc = Document(text=splitted[0],\n",
    "                       doc_id=f\"{file_name}_doc_{idx}\",\n",
    "                       metadata={\"spot\": prev_spot, \"file_name\": document.metadata['file_name']},\n",
    "                       excluded_llm_metadata_keys = ['spot', 'file_name'])\n",
    "    current_doc = Document(text=splitted[1],\n",
    "                       doc_id=f\"{file_name}_doc_{idx + 1}\",\n",
    "                       metadata={\"spot\": current_spot, \"file_name\": document.metadata['file_name']},\n",
    "                       excluded_llm_metadata_keys = ['spot', 'file_name'])\n",
    "    # print(f'prev_doc: {prev_doc.text}')\n",
    "    # print(f'current_doc: {current_doc.text}')\n",
    "    return idx + 2, prev_doc, current_doc"
   ]
  },
  {
   "cell_type": "code",
   "execution_count": 700,
   "id": "29b58338-811f-4118-9da8-4bd1de8b0c87",
   "metadata": {},
   "outputs": [],
   "source": [
    "def get_new_doc_content(idx, document):  \n",
    "    '''\n",
    "    input: old_document (페이지 단위로 분할된 document object) \n",
    "    output: new_documents (장 단위로 분할된 document objects) \n",
    "    idx: 파일명 설정하기 위한 값, 페이지 번호 \n",
    "    '''\n",
    "    global prev_spot \n",
    "    file_name = document.metadata['file_name'].split('.')[0]\n",
    "    \n",
    "    # print(f'prev_spot: {prev_spot}')\n",
    "    doc_list = []; meta_info = dict();\n",
    "    split_spot = re.findall(r'제 *[0-9] *장', document.text)\n",
    "    if len(split_spot) == 0:   # 한 페이지 내에 특정 장이 없으면 (이전 장에서 계속 이어지는 내용이면)\n",
    "        print(f'no split_spot !')\n",
    "        # print(f'total doc: {document}')\n",
    "        new_doc = Document(text=document.text,\n",
    "                   doc_id=f\"{file_name}_doc_{idx}\",\n",
    "                   metadata={\"spot\": prev_spot, \"file_name\": document.metadata['file_name']},\n",
    "                   excluded_llm_metadata_keys = ['spot', 'file_name'])\n",
    "        return new_doc \n",
    "        \n",
    "    splitted_docs = [] \n",
    "    for spot in split_spot:   # 한 페이지 내에 제 1장, 제 2장, ... 여러장이 있는 경우 \n",
    "        new_idx, prev_doc, current_doc = split_doc(idx, prev_spot, spot, document)   # 제 1장, 제 2장 \n",
    "        prev_spot = spot\n",
    "        splitted_docs.append(prev_doc)\n",
    "        document = current_doc   # for 문을 돌리기 위한 document \n",
    "        # print(f'document: {document}')\n",
    "        check_spot = re.findall(r'제 *[0-9] *장', document.text)\n",
    "        if len(check_spot) == 0:\n",
    "            splitted_docs.append(document)\n",
    "    # print('완료')\n",
    "    return splitted_docs"
   ]
  },
  {
   "cell_type": "code",
   "execution_count": 725,
   "id": "dd15c7df-0f02-4286-b189-b0a0efe06406",
   "metadata": {
    "scrolled": true
   },
   "outputs": [
    {
     "name": "stdout",
     "output_type": "stream",
     "text": [
      "no split_spot !\n"
     ]
    }
   ],
   "source": [
    "test = []\n",
    "test.append(get_new_doc_content(3, documents[0]))"
   ]
  },
  {
   "cell_type": "code",
   "execution_count": 726,
   "id": "27c68161-8122-4020-bec2-6046e2b0651e",
   "metadata": {},
   "outputs": [
    {
     "data": {
      "text/plain": [
       "[Document(id_='윤리규정_doc_3', embedding=None, metadata={'spot': '제 2 장', 'file_name': '윤리규정.pdf'}, excluded_embed_metadata_keys=[], excluded_llm_metadata_keys=['spot', 'file_name'], relationships={}, hash='bdc51d56e47ab29e231c79d768215ccafa5442232f3b0a344d14646b5ad64fbc', text='윤 리 규 정 \\n주식회사 핑거', start_char_idx=None, end_char_idx=None, text_template='{metadata_str}\\n\\n{content}', metadata_template='{key}: {value}', metadata_seperator='\\n')]"
      ]
     },
     "execution_count": 726,
     "metadata": {},
     "output_type": "execute_result"
    }
   ],
   "source": [
    "test"
   ]
  },
  {
   "cell_type": "code",
   "execution_count": 727,
   "id": "ed044047-ffec-42cc-8b20-5a98136186eb",
   "metadata": {},
   "outputs": [
    {
     "data": {
      "text/plain": [
       "4"
      ]
     },
     "execution_count": 727,
     "metadata": {},
     "output_type": "execute_result"
    }
   ],
   "source": [
    "old_documents = documents.copy()\n",
    "len(old_documents)"
   ]
  },
  {
   "cell_type": "code",
   "execution_count": 728,
   "id": "9d95dfc2-0792-4c51-bc0e-e6086d76cf76",
   "metadata": {},
   "outputs": [],
   "source": [
    "global old_documents\n",
    "global doc_id_checker \n",
    "global s_point\n",
    "global prev_spot \n",
    "\n",
    "doc_id_checker = '제1장' \n",
    "prev_spot = '제1장'"
   ]
  },
  {
   "cell_type": "raw",
   "id": "cd8a678b-81e3-453f-b2ed-8ebc6bcb2caf",
   "metadata": {
    "scrolled": true
   },
   "source": [
    "documents[2].text.split('제2장')[1].split('제 3장')   #, documents[2].text.split('제2장')[1]"
   ]
  },
  {
   "cell_type": "code",
   "execution_count": 729,
   "id": "df8f3a22-3e14-4059-ba88-a5e9154e055e",
   "metadata": {
    "scrolled": true
   },
   "outputs": [
    {
     "name": "stdout",
     "output_type": "stream",
     "text": [
      "no split_spot !\n"
     ]
    }
   ],
   "source": [
    "new_documents = []\n",
    "for idx, doc in enumerate(old_documents):\n",
    "    # print(idx)\n",
    "    if idx >= s_point:\n",
    "        new_documents.append(get_new_doc_content(idx, doc))   # idx: 페이지 번호 "
   ]
  },
  {
   "cell_type": "code",
   "execution_count": 749,
   "id": "a31e085a-6990-4d5d-a69b-c3d836b597e2",
   "metadata": {
    "scrolled": true
   },
   "outputs": [
    {
     "data": {
      "text/plain": [
       "(llama_index.schema.Document, True)"
      ]
     },
     "execution_count": 749,
     "metadata": {},
     "output_type": "execute_result"
    }
   ],
   "source": [
    "type(new_documents[-1]), type(new_documents[-1]) == Document"
   ]
  },
  {
   "cell_type": "code",
   "execution_count": 751,
   "id": "cf8e8a16-11b0-4fc4-b38f-8364832df074",
   "metadata": {},
   "outputs": [
    {
     "name": "stdout",
     "output_type": "stream",
     "text": [
      "vaaaaaaaaaaaaal: Doc ID: 윤리규정_doc_3\n",
      "Text: 제3항 윤리강령을 위반하는 행위를 강요 받거나 인지한 경우에는 부서장 또는 윤리경영센터 에 알리고  의문사항이 있는\n",
      "경우에도 사전에 부서장 또는 윤리경영센터와 협의하도록 한다.  부 칙  제1조 (시행일)  이 규정은 2016년 9월\n",
      "19일부터 개정, 시행한다 .\n",
      "\n"
     ]
    },
    {
     "data": {
      "text/plain": [
       "5"
      ]
     },
     "execution_count": 751,
     "metadata": {},
     "output_type": "execute_result"
    }
   ],
   "source": [
    "final_list = []\n",
    "\n",
    "for val in new_documents: \n",
    "    if type(val) == Document:\n",
    "        print(f'vaaaaaaaaaaaaal: {val}', end='\\n\\n')\n",
    "        final_list.append(val)\n",
    "        continue \n",
    "    for doc in val:\n",
    "        final_list.append(doc) \n",
    "\n",
    "len(final_list)"
   ]
  },
  {
   "cell_type": "code",
   "execution_count": 752,
   "id": "e62fb16d-c474-4e20-9ef3-eb25db796c4a",
   "metadata": {},
   "outputs": [
    {
     "data": {
      "text/plain": [
       "Document(id_='윤리규정_doc_3', embedding=None, metadata={'spot': '제 2 장', 'file_name': '윤리규정.pdf'}, excluded_embed_metadata_keys=[], excluded_llm_metadata_keys=['spot', 'file_name'], relationships={}, hash='8783352da2e354241cd4fef022a8b90b02168e4fe84aa4820d9af46895d14857', text=' 제3항 윤리강령을 위반하는 행위를 강요 받거나 인지한 경우에는 부서장 또는 윤리경영센터 에 알리고 \\n의문사항이 있는 경우에도 사전에 부서장 또는 윤리경영센터와 협의하도록 한다. \\n부 칙 \\n제1조 (시행일) \\n이 규정은 2016년 9월 19일부터 개정, 시행한다 .', start_char_idx=None, end_char_idx=None, text_template='{metadata_str}\\n\\n{content}', metadata_template='{key}: {value}', metadata_seperator='\\n')"
      ]
     },
     "execution_count": 752,
     "metadata": {},
     "output_type": "execute_result"
    }
   ],
   "source": [
    "final_list[-1]"
   ]
  },
  {
   "cell_type": "code",
   "execution_count": 696,
   "id": "e65e2835-b91f-4531-a880-8fc0cd937b21",
   "metadata": {},
   "outputs": [
    {
     "data": {
      "text/plain": [
       "(3, 4)"
      ]
     },
     "execution_count": 696,
     "metadata": {},
     "output_type": "execute_result"
    }
   ],
   "source": [
    "len(new_documents), len(old_documents)"
   ]
  },
  {
   "cell_type": "code",
   "execution_count": 644,
   "id": "adc935ef-3846-428b-a066-a95a6aa351ef",
   "metadata": {},
   "outputs": [
    {
     "data": {
      "text/plain": [
       "('1. 지출결의서 (법카_특별)로 정산하여 주시기 바랍니다 . \\n2. 제목 : 휴양시설 지원금 사용 정산_6월_이름 \\n3. 신청금액 : 회사에서 증액하여 지원해 준 금액 \\n4. 정산금액 : 실제로 카드로 결재하신 금액 \\n※ 간혹 실수로 회사 지원금액이 아닌 숙박비 총액으로 결재하신 분들이 있습니다 . 이런 \\n경우에는 지원금액 초과분을 별도로 환급하셔야 하니 실수하지 않도록 주의하여 주시기 \\n바랍니다 . \\n5. 주요내용 : 6/0일 숙박. 휴양시설 지원금 정산 \\n6. 회계일자 : 카드 거래일자 \\n7. 거래일자 : 카드 거래일자 \\n8. 지급기한 : 카드대금 결제일 (익월 15일. 공휴일인 경우는 그 다음일 ) \\n9. 용도 : 기타복리후생비 \\n10. 내용 : 6월 휴양시설 지원금 \\n11. 프로젝트 : 소속 부서 CC \\n12. 결재라인 : 본인만 (이 건은 상위자 결재는 필요 없습니다 .) \\n13. 합의라인 : 김태영 (경영지원팀 ) >> 강신명 (김태영과장을 1번 합의자로 추가해 \\n주세요 ) \\n질문6) 지출결의서 (법카_기본) 작성시 \"지급기한 \"과 \"회계처리일자 \"의 일괄변경 입력방법 \\n안내 \\n답변) \\n1. 지출결의서 작성에서 지출내역을 전체 선택 \\n2. 일괄변경 선택',\n",
       " {'spot': '제1장', 'file_name': '지출결의서_아마란스_질의응답.pdf'})"
      ]
     },
     "execution_count": 644,
     "metadata": {},
     "output_type": "execute_result"
    }
   ],
   "source": [
    "new_documents[1].text, new_documents[1].metadata"
   ]
  },
  {
   "cell_type": "code",
   "execution_count": 586,
   "id": "f2afea70-951a-4155-b255-73fdb19eda05",
   "metadata": {},
   "outputs": [],
   "source": [
    "from llama_index.node_parser import SentenceSplitter "
   ]
  },
  {
   "cell_type": "code",
   "execution_count": 587,
   "id": "51afc51a-b47e-4500-ab55-c8b40306d316",
   "metadata": {},
   "outputs": [],
   "source": [
    "parser = SentenceSplitter(chunk_size=512, chunk_overlap=30)"
   ]
  },
  {
   "cell_type": "code",
   "execution_count": 412,
   "id": "09b58be5-efa2-4f3c-b63e-c19419ba8e51",
   "metadata": {},
   "outputs": [],
   "source": [
    "model_name = 'kakaobank/kf-deberta-base'\n",
    "embed_model = HuggingFaceEmbedding(model_name=model_name, embed_batch_size=32)"
   ]
  },
  {
   "cell_type": "code",
   "execution_count": 413,
   "id": "0f90ea38-31d0-488e-a133-d482b88ea200",
   "metadata": {},
   "outputs": [
    {
     "name": "stdout",
     "output_type": "stream",
     "text": [
      "LLM is explicitly disabled. Using MockLLM.\n"
     ]
    }
   ],
   "source": [
    "service_context = ServiceContext.from_defaults(node_parser=parser, embed_model=embed_model, llm=None)"
   ]
  },
  {
   "cell_type": "code",
   "execution_count": 845,
   "id": "4baf2cf3-4170-4fe2-851c-e0187704ca50",
   "metadata": {},
   "outputs": [],
   "source": [
    "index = VectorStoreIndex.from_documents(\n",
    "    doc_list, service_context=service_context, storage_context=data_storage\n",
    ")"
   ]
  },
  {
   "cell_type": "code",
   "execution_count": 846,
   "id": "85774c4f-6f09-4e1c-b4ce-15db0e79e585",
   "metadata": {},
   "outputs": [
    {
     "data": {
      "text/plain": [
       "188"
      ]
     },
     "execution_count": 846,
     "metadata": {},
     "output_type": "execute_result"
    }
   ],
   "source": [
    "data_collection.count()"
   ]
  },
  {
   "cell_type": "code",
   "execution_count": 669,
   "id": "b4a27f6b-8571-49f5-bc80-1db419365169",
   "metadata": {},
   "outputs": [],
   "source": [
    "from llama_index.retrievers import VectorIndexRetriever \n",
    "from llama_index.vector_stores import SimpleVectorStore\n",
    "from llama_index.query_engine import RetrieverQueryEngine \n",
    "from llama_index.postprocessor import SimilarityPostprocessor \n",
    "from llama_index.postprocessor import SentenceTransformerRerank \n",
    "from llama_index.postprocessor import KeywordNodePostprocessor \n",
    "from llama_index.postprocessor import SimilarityPostprocessor, CohereRerank\n",
    "from llama_index.schema import Node, NodeWithScore "
   ]
  },
  {
   "cell_type": "code",
   "execution_count": 671,
   "id": "b2d8cd30-9885-4aa2-9808-4c5dd4c85fd4",
   "metadata": {},
   "outputs": [],
   "source": [
    "retriever = VectorIndexRetriever(\n",
    "    index = index,\n",
    "    service_context=service_context,\n",
    "    similarity_top_k = 10, \n",
    "    verbose=True\n",
    ")"
   ]
  },
  {
   "cell_type": "code",
   "execution_count": 754,
   "id": "df06a715-c90b-4185-9f5b-8f2a95e962d0",
   "metadata": {},
   "outputs": [],
   "source": [
    "def get_retrieved_nodes(\n",
    "    retriever, query_str, vector_top_k=10, similarity_cutoff=0.6, reranker_top_n=3, service_context=None, with_reranker=False\n",
    "):\n",
    "    query_bundle = QueryBundle(query_str)   # query bundle 생성 \n",
    "    retrieved_nodes = retriever.retrieve(query_bundle)   # 유사도가 제일 높은 node 추출 \n",
    "    node_postprocessors = SimilarityPostprocessor(similarity_cutoff=similarity_cutoff)   # 전처리  - 유사 점수 기준 Cutoff \n",
    "    processed_nodes = node_postprocessors.postprocess_nodes(retrieved_nodes)\n",
    "    \n",
    "    if with_reranker:   # 재순위화 \n",
    "        reranker = SentenceTransformerRerank(\n",
    "            model='bongsoo/albert-small-kor-cross-encoder-v1',\n",
    "            top_n=reranker_top_n,\n",
    "        )\n",
    "        reranked_nodes = reranker.postprocess_nodes(\n",
    "            processed_nodes, query_bundle\n",
    "        )\n",
    "    return reranked_nodes"
   ]
  },
  {
   "cell_type": "code",
   "execution_count": 715,
   "id": "0817a38a-6d98-4edf-a13d-e43a8c2f732e",
   "metadata": {},
   "outputs": [],
   "source": [
    "with_reranker = True\n",
    "cutoff = 0.2\n",
    "\n",
    "query = '교통비의 정의 기준은 ?' # queries[0]"
   ]
  },
  {
   "cell_type": "code",
   "execution_count": 716,
   "id": "b19ad496-402a-4723-a47e-dde9706fc8df",
   "metadata": {},
   "outputs": [
    {
     "name": "stdout",
     "output_type": "stream",
     "text": [
      "1.19443941116333\n"
     ]
    }
   ],
   "source": [
    "import time\n",
    "from llama_index import QueryBundle\n",
    "\n",
    "start = time.time()\n",
    "retrieved_nodes = retriever.retrieve(query)\n",
    "nodes = get_retrieved_nodes(retriever, query, similarity_cutoff=cutoff, service_context=service_context, with_reranker=with_reranker)\n",
    "end = time.time() - start \n",
    "print(end)"
   ]
  },
  {
   "cell_type": "code",
   "execution_count": 717,
   "id": "ac8ba902-4d84-4d70-9291-ad49ce646134",
   "metadata": {},
   "outputs": [
    {
     "data": {
      "text/plain": [
       "{'page_label': 1, 'file_name': '신여비교통비.pdf'}"
      ]
     },
     "execution_count": 717,
     "metadata": {},
     "output_type": "execute_result"
    }
   ],
   "source": [
    "nodes[0].node.relationships['1'].metadata"
   ]
  },
  {
   "cell_type": "code",
   "execution_count": 718,
   "id": "130c3ec8-cb8c-464e-ac25-153cb4c48b53",
   "metadata": {
    "scrolled": true
   },
   "outputs": [
    {
     "name": "stdout",
     "output_type": "stream",
     "text": [
      "key: 1, value: node_id='신여비교통비_doc_1' node_type=<ObjectType.DOCUMENT: '4'> metadata={'page_label': 1, 'file_name': '신여비교통비.pdf'} hash='c0395b03779d2b24a5f5c1385ee48dccef329514cfc4293667cf5c8785f1c405'\n",
      "\n",
      "key: 2, value: node_id='6ab7a5cd-8915-41aa-9ec6-3be743ac8f9e' node_type=<ObjectType.TEXT: '1'> metadata={'page_label': 1, 'file_name': '신여비교통비.pdf'} hash='ca8f23d11a07e5b410cff08e815078185f044ca1d079c82e79c95a9d89f5679f'\n",
      "\n",
      "key: 3, value: node_id='987143ad-4a77-40cb-a10d-34c7b3715313' node_type=<ObjectType.TEXT: '1'> metadata={} hash='3a63d0dee2494b16d5bf5c31cb32c6e756a5eb06ea396675f703f977fd96b90b'\n",
      "\n"
     ]
    }
   ],
   "source": [
    "for key, value in nodes[0].node.relationships.items():\n",
    "    print(f\"key: {key}, value: {value}\", end='\\n\\n')"
   ]
  },
  {
   "cell_type": "code",
   "execution_count": 719,
   "id": "e7538b12-2ae9-4f3a-93f8-b98af9a46c5e",
   "metadata": {},
   "outputs": [],
   "source": [
    "def get_info(retrieved_node):\n",
    "    '''\n",
    "    id, text, score 반환 \n",
    "    '''\n",
    "    id = retrieved_node.node.relationships['1'].node_id\n",
    "    name = retrieved_node.node.relationships['1'].metadata['name']\n",
    "    txt = retrieved_node.node.text \n",
    "    score = retrieved_node.score \n",
    "    return [id, name, txt, score] "
   ]
  },
  {
   "cell_type": "code",
   "execution_count": 720,
   "id": "97fa5a90-5379-48fb-af81-e0d5f3c43a01",
   "metadata": {},
   "outputs": [
    {
     "name": "stdout",
     "output_type": "stream",
     "text": [
      "3\n"
     ]
    }
   ],
   "source": [
    "print(len(nodes))"
   ]
  },
  {
   "cell_type": "code",
   "execution_count": 721,
   "id": "a16fc6f7-7f1e-4dbf-bfd3-03155355fb51",
   "metadata": {
    "scrolled": true
   },
   "outputs": [
    {
     "data": {
      "text/plain": [
       "(['제2항 상위 직책을 대리하거나, 동행하는 경우에는 그 직급의 출장 경비를 지급할 수 있다.\\n제7조 (지급의 제한)\\n제1항 회사소유 또는 임차한 시설이 있거나 회사가 교통편을 제공하는 경우 이를 이용함을 원칙으로\\n한다.\\n제2항 장기체재에 따른 숙소 제공 시에는 숙박비를 지원하지 아니한다.\\n제3항 장기출장 시에는 야근 식대 및 교통비를 지원하지 아니한다 .',\n",
       "  '제18조 (장기출장 시 귀향여비 )\\n제1항 해외 장기출장 시 국내 귀향에 따른 왕복항공료를 회사에서 분기당 1회씩 지원한다.\\n제2항 국내 장기출장 시 귀향에 따른 교통비를 별표 제1호에 의하여 회사에서 월 2회씩 지원한다 .\\n단, 거주지를 출장지로 이전한 경우에는 월 1회로 한다.\\n부 칙\\n제1조 (시행일)\\n제1항 이 규정은 2017년 1월 1일부터 제정, 시행한다 .\\n제2항 이 규정 시행일 이전의 위 내용과 관련된 규정은 이 규정의 시행 즉시 효력을 상실한다 .\\n부 칙\\n제1조 (시행일)\\n제1항 이 규정은 2018년 8월 1일부터 개정, 시행한다 .',\n",
       "  '제1장 총 칙\\n제1조 (목적)\\n이 규정은 회사의 임.직원 또는 계약에 의해 회사의 업무를 수행하는 자가 회사의 출장명령에 의해\\n국.내외를 출장할 때 그 여비의 지급기준에 관한 사항을 정함을 목적으로 한다.\\n제2조 (용어정의 )\\n이 규정에서 사용하는 용어의 정의는 아래 각 호와 같다.\\n1. “교통비”라 함은 경유지와 종착 지점간의 철도, 항공, 선박, 자동차 등의 운임을 말한다.\\n2. “숙박비”라 함은 1박 이상의 출장 시 숙박에 소요되는 비용을 말한다.\\n3. “일비”라 함은 출장 중 발생하는 현지교통비 또는 도시권내 교통비 및 이에 따른 부대비용과\\n출장중의 통신비 및 제 잡비 등의 모든 경비를 말한다.\\n4. “식비”라 함은 출장 중 출장자의 식사 및 음료 비용 등을 말한다.\\n5. “업무상 외출”이라 함은 숙박을 요하지 않는 당일 출장을 말한다.\\n6. “장기출장 ”이라 함은 1개월을 초과하여 수행하는 출장을 말한다.\\n7. “장기체재 ”라 함은 장기출장의 일종으로서 동일장소에서 3개월을 초과하여 수행하는 출장을\\n말한다.'],\n",
       " [0.18671219, 0.16505632, 0.13733838])"
      ]
     },
     "execution_count": 721,
     "metadata": {},
     "output_type": "execute_result"
    }
   ],
   "source": [
    "contexts = [node.text for node in nodes]\n",
    "scores = [node.score for node in nodes]\n",
    "contexts, scores "
   ]
  },
  {
   "cell_type": "code",
   "execution_count": 724,
   "id": "7e200f34-5fd9-48e0-b99b-4e9e1a284a66",
   "metadata": {
    "scrolled": true
   },
   "outputs": [
    {
     "name": "stdout",
     "output_type": "stream",
     "text": [
      "제1장 총 칙\n",
      "제1조 (목적)\n",
      "이 규정은 회사의 임.직원 또는 계약에 의해 회사의 업무를 수행하는 자가 회사의 출장명령에 의해\n",
      "국.내외를 출장할 때 그 여비의 지급기준에 관한 사항을 정함을 목적으로 한다.\n",
      "제2조 (용어정의 )\n",
      "이 규정에서 사용하는 용어의 정의는 아래 각 호와 같다.\n",
      "1. “교통비”라 함은 경유지와 종착 지점간의 철도, 항공, 선박, 자동차 등의 운임을 말한다.\n",
      "2. “숙박비”라 함은 1박 이상의 출장 시 숙박에 소요되는 비용을 말한다.\n",
      "3. “일비”라 함은 출장 중 발생하는 현지교통비 또는 도시권내 교통비 및 이에 따른 부대비용과\n",
      "출장중의 통신비 및 제 잡비 등의 모든 경비를 말한다.\n",
      "4. “식비”라 함은 출장 중 출장자의 식사 및 음료 비용 등을 말한다.\n",
      "5. “업무상 외출”이라 함은 숙박을 요하지 않는 당일 출장을 말한다.\n",
      "6. “장기출장 ”이라 함은 1개월을 초과하여 수행하는 출장을 말한다.\n",
      "7. “장기체재 ”라 함은 장기출장의 일종으로서 동일장소에서 3개월을 초과하여 수행하는 출장을\n",
      "말한다.\n"
     ]
    }
   ],
   "source": [
    "print(nodes[2].text)"
   ]
  },
  {
   "cell_type": "code",
   "execution_count": 727,
   "id": "75e16d60-d799-4e9a-9890-b2debb84a3f3",
   "metadata": {},
   "outputs": [
    {
     "data": {
      "text/plain": [
       "{'page_label': 1, 'file_name': '신여비교통비.pdf'}"
      ]
     },
     "execution_count": 727,
     "metadata": {},
     "output_type": "execute_result"
    }
   ],
   "source": [
    "nodes[0].metadata"
   ]
  },
  {
   "cell_type": "code",
   "execution_count": 730,
   "id": "bfe1c5c2-bc96-491f-a7f7-e8ee0b593c47",
   "metadata": {},
   "outputs": [],
   "source": [
    "def get_info(retrieved_node):\n",
    "    '''\n",
    "    id, text, score 반환 \n",
    "    '''\n",
    "    id = retrieved_node.node.relationships['1'].node_id\n",
    "    name = retrieved_node.node.relationships['1'].metadata['file_name']\n",
    "    txt = retrieved_node.node.text \n",
    "    score = retrieved_node.score \n",
    "    return [id, name, txt, score] "
   ]
  },
  {
   "cell_type": "code",
   "execution_count": 733,
   "id": "96e0ff94-33eb-4dec-93b4-a15e0faeb18f",
   "metadata": {
    "scrolled": true
   },
   "outputs": [
    {
     "name": "stdout",
     "output_type": "stream",
     "text": [
      "제2항 상위 직책을 대리하거나, 동행하는 경우에는 그 직급의 출장 경비를 지급할 수 있다.\n",
      "제7조 (지급의 제한)\n",
      "제1항 회사소유 또는 임차한 시설이 있거나 회사가 교통편을 제공하는 경우 이를 이용함을 원칙으로\n",
      "한다.\n",
      "제2항 장기체재에 따른 숙소 제공 시에는 숙박비를 지원하지 아니한다.\n",
      "제3항 장기출장 시에는 야근 식대 및 교통비를 지원하지 아니한다 .\n"
     ]
    }
   ],
   "source": [
    "print(get_info(nodes[0])[2])"
   ]
  },
  {
   "cell_type": "code",
   "execution_count": 753,
   "id": "f76d551a-2eca-40ca-8b6d-2432fe83d3b7",
   "metadata": {
    "scrolled": true
   },
   "outputs": [
    {
     "name": "stdout",
     "output_type": "stream",
     "text": [
      "<s>[INST] 질문: 교통비의 정의 기준은 ? \n",
      "\n",
      "    관련 정보: 제1장 총 칙\n",
      "제1조 (목적)\n",
      "이 규정은 회사의 임.직원 또는 계약에 의해 회사의 업무를 수행하는 자가 회사의 출장명령에 의해\n",
      "국.내외를 출장할 때 그 여비의 지급기준에 관한 사항을 정함을 목적으로 한다.\n",
      "제2조 (용어정의 )\n",
      "이 규정에서 사용하는 용어의 정의는 아래 각 호와 같다.\n",
      "1. “교통비”라 함은 경유지와 종착 지점간의 철도, 항공, 선박, 자동차 등의 운임을 말한다.\n",
      "2. “숙박비”라 함은 1박 이상의 출장 시 숙박에 소요되는 비용을 말한다.\n",
      "3. “일비”라 함은 출장 중 발생하는 현지교통비 또는 도시권내 교통비 및 이에 따른 부대비용과\n",
      "출장중의 통신비 및 제 잡비 등의 모든 경비를 말한다.\n",
      "4. “식비”라 함은 출장 중 출장자의 식사 및 음료 비용 등을 말한다.\n",
      "5. “업무상 외출”이라 함은 숙박을 요하지 않는 당일 출장을 말한다.\n",
      "6. “장기출장 ”이라 함은 1개월을 초과하여 수행하는 출장을 말한다.\n",
      "7. “장기체재 ”라 함은 장기출장의 일종으로서 동일장소에서 3개월을 초과하여 수행하는 출장을\n",
      "말한다. \n",
      " \n",
      "    관련 정보를 바탕으로 질문에 자연스럽게 답해줘 [/INST] \n",
      "\n"
     ]
    }
   ],
   "source": [
    "prompt_template = (\n",
    "    f\"\"\"<s>[INST] 질문: {query} \\n\n",
    "    관련 정보: {nodes[2].text} \\n \n",
    "    관련 정보를 바탕으로 질문에 자연스럽게 답해줘 [/INST] \\n\"\"\"\n",
    ")\n",
    "\n",
    "print(prompt_template)"
   ]
  },
  {
   "cell_type": "code",
   "execution_count": 737,
   "id": "70c4ba5f-5db6-45d9-961a-6f0278f34bf5",
   "metadata": {},
   "outputs": [],
   "source": [
    "import torch\n",
    "from transformers import AutoTokenizer, AutoModelForCausalLM, BitsAndBytesConfig\n",
    "from peft import PeftModel, PeftConfig\n",
    "from transformers import TextStreamer, GenerationConfig\n",
    "from llama_index.response_synthesizers import (\n",
    "    ResponseMode,\n",
    "    get_response_synthesizer,\n",
    ")"
   ]
  },
  {
   "cell_type": "code",
   "execution_count": 738,
   "id": "73006be3-aaff-4ff8-a103-c83226e5aa79",
   "metadata": {},
   "outputs": [],
   "source": [
    "def print_trainable_parameters(model):\n",
    "    \"\"\"\n",
    "    Prints the number of trainable parameters in the model.\n",
    "    \"\"\"\n",
    "    trainable_params = 0\n",
    "    all_param = 0\n",
    "    for _, param in model.named_parameters():\n",
    "        all_param += param.numel()\n",
    "        if param.requires_grad:\n",
    "            trainable_params += param.numel()\n",
    "    print(\n",
    "        f\"trainable params: {trainable_params} || all params: {all_param} || trainable%: {100 * trainable_params / all_param}\"\n",
    "    )"
   ]
  },
  {
   "cell_type": "code",
   "execution_count": 744,
   "id": "b1cea5f9-1518-4b47-b34a-6a8ca759df5b",
   "metadata": {
    "scrolled": true
   },
   "outputs": [
    {
     "data": {
      "application/vnd.jupyter.widget-view+json": {
       "model_id": "db2f6eb9270c4b53b9173894f0404b29",
       "version_major": 2,
       "version_minor": 0
      },
      "text/plain": [
       "Loading checkpoint shards:   0%|          | 0/3 [00:00<?, ?it/s]"
      ]
     },
     "metadata": {},
     "output_type": "display_data"
    }
   ],
   "source": [
    "from transformers import LlamaForCausalLM, LlamaTokenizer, LlamaTokenizerFast, BitsAndBytesConfig\n",
    "\n",
    "tokenizer = LlamaTokenizerFast.from_pretrained(os.path.join(model_dir, 'tokenizer'))   # LlamaTokenizer (x)  -> LlamaTokenizerFast (o)\n",
    "model = AutoModelForCausalLM.from_pretrained(model_dir, torch_dtype=torch.float16, low_cpu_mem_usage=True) # , device_map=\"auto\")"
   ]
  },
  {
   "cell_type": "code",
   "execution_count": 748,
   "id": "84130928-8d27-4560-a1d4-718c9236e731",
   "metadata": {
    "scrolled": true
   },
   "outputs": [
    {
     "data": {
      "text/plain": [
       "MistralForCausalLM(\n",
       "  (model): MistralModel(\n",
       "    (embed_tokens): Embedding(32000, 4096)\n",
       "    (layers): ModuleList(\n",
       "      (0-31): 32 x MistralDecoderLayer(\n",
       "        (self_attn): MistralAttention(\n",
       "          (q_proj): Linear(in_features=4096, out_features=4096, bias=False)\n",
       "          (k_proj): Linear(in_features=4096, out_features=1024, bias=False)\n",
       "          (v_proj): Linear(in_features=4096, out_features=1024, bias=False)\n",
       "          (o_proj): Linear(in_features=4096, out_features=4096, bias=False)\n",
       "          (rotary_emb): MistralRotaryEmbedding()\n",
       "        )\n",
       "        (mlp): MistralMLP(\n",
       "          (gate_proj): Linear(in_features=4096, out_features=14336, bias=False)\n",
       "          (up_proj): Linear(in_features=4096, out_features=14336, bias=False)\n",
       "          (down_proj): Linear(in_features=14336, out_features=4096, bias=False)\n",
       "          (act_fn): SiLU()\n",
       "        )\n",
       "        (input_layernorm): MistralRMSNorm()\n",
       "        (post_attention_layernorm): MistralRMSNorm()\n",
       "      )\n",
       "    )\n",
       "    (norm): MistralRMSNorm()\n",
       "  )\n",
       "  (lm_head): Linear(in_features=4096, out_features=32000, bias=False)\n",
       ")"
      ]
     },
     "execution_count": 748,
     "metadata": {},
     "output_type": "execute_result"
    }
   ],
   "source": [
    "g_device = torch.device(\"cuda\") if torch.cuda.is_available() else \"cpu\"\n",
    "model.to(g_device)"
   ]
  },
  {
   "cell_type": "code",
   "execution_count": 749,
   "id": "35da719a-cb3f-4d32-88d3-2e85967076cc",
   "metadata": {},
   "outputs": [],
   "source": [
    "generation_config = GenerationConfig(\n",
    "    temperature=0.8,\n",
    "    do_sample=True,\n",
    "    top_p=0.95,\n",
    "    max_new_tokens=512,\n",
    ")"
   ]
  },
  {
   "cell_type": "code",
   "execution_count": 750,
   "id": "fdd29a0b-21ac-451c-8e9b-c0587e3e1cd9",
   "metadata": {},
   "outputs": [],
   "source": [
    "gened = model.generate(\n",
    "    **tokenizer(\n",
    "        prompt_template,\n",
    "        return_tensors='pt',\n",
    "        return_token_type_ids=False\n",
    "    ).to('cuda'),\n",
    "    generation_config=generation_config,\n",
    "    pad_token_id=tokenizer.eos_token_id,\n",
    "    eos_token_id=tokenizer.eos_token_id,\n",
    "    # streamer=streamer,\n",
    ")"
   ]
  },
  {
   "cell_type": "code",
   "execution_count": 751,
   "id": "842e69f5-2c4d-4918-b0c9-a7a1a57c9f9d",
   "metadata": {},
   "outputs": [],
   "source": [
    "result_str = tokenizer.decode(gened[0])\n",
    "\n",
    "start_tag = f\"[/INST]\"\n",
    "start_index = result_str.find(start_tag)\n",
    "\n",
    "if start_index != -1:\n",
    "    result_str = result_str[start_index + len(start_tag):].strip()"
   ]
  },
  {
   "cell_type": "code",
   "execution_count": 752,
   "id": "58ba4fdb-e89d-472b-8a84-9d8751f0357e",
   "metadata": {},
   "outputs": [
    {
     "name": "stdout",
     "output_type": "stream",
     "text": [
      "질문: 교통비의 정의 기준은? \n",
      "\n",
      "답변: \n",
      "교통비는 경유지와 종착 지점간의 철도, 항공, 선박, 자동차 등의 운임을 말한다. 따라서, 출장 중 이동하는 경로와 수단에 따라 교통비가 지급되는 경우이다.</s>\n"
     ]
    }
   ],
   "source": [
    "print(result_str)"
   ]
  },
  {
   "cell_type": "code",
   "execution_count": null,
   "id": "95af4f32-d9e6-46b7-ae53-4b43e95fe4ff",
   "metadata": {},
   "outputs": [],
   "source": []
  }
 ],
 "metadata": {
  "kernelspec": {
   "display_name": "Python 3 (ipykernel)",
   "language": "python",
   "name": "python3"
  },
  "language_info": {
   "codemirror_mode": {
    "name": "ipython",
    "version": 3
   },
   "file_extension": ".py",
   "mimetype": "text/x-python",
   "name": "python",
   "nbconvert_exporter": "python",
   "pygments_lexer": "ipython3",
   "version": "3.10.13"
  }
 },
 "nbformat": 4,
 "nbformat_minor": 5
}
