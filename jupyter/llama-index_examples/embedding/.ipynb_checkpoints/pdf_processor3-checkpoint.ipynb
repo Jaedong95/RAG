{
 "cells": [
  {
   "cell_type": "code",
   "execution_count": 1,
   "id": "7f86fa98-141b-4e32-9fa0-1937dad173d3",
   "metadata": {},
   "outputs": [],
   "source": [
    "from llama_index import Document, VectorStoreIndex, SimpleDirectoryReader, ServiceContext\n",
    "from llama_index.vector_stores import ChromaVectorStore\n",
    "from llama_index.readers.chroma import ChromaReader\n",
    "from llama_index.storage.storage_context import StorageContext\n",
    "# from transformers import AutoTokenizer, AutoModel\n",
    "from llama_index.embeddings import HuggingFaceEmbedding\n",
    "from llama_index.schema import MetadataMode\n",
    "from IPython.display import Markdown, display\n",
    "from llama_index import Document, VectorStoreIndex \n",
    "from llama_index.node_parser import SentenceSplitter\n",
    "import chromadb\n",
    "import pandas as pd \n",
    "import openai\n",
    "import re\n",
    "import os\n",
    "import getpass\n",
    "import glob "
   ]
  },
  {
   "cell_type": "code",
   "execution_count": 2,
   "id": "e743a17a-7d43-4c34-8589-159cacf2f2ac",
   "metadata": {},
   "outputs": [],
   "source": [
    "default_path = os.getcwd()\n",
    "model_path = os.path.join(default_path, '../../models')\n",
    "model_dir = os.path.join(model_path, \"mistral_origin\")\n",
    "data_path = os.path.join(default_path, '../../../data')\n",
    "rulebook_path = os.path.join(data_path, 'pdf', 'rules')"
   ]
  },
  {
   "cell_type": "code",
   "execution_count": 3,
   "id": "5e54471a-2a65-4762-8dcf-401a1f0bede4",
   "metadata": {},
   "outputs": [
    {
     "data": {
      "text/plain": [
       "'/rag/jupyter/llama-index_examples/embedding/../../../data/pdf/rules/신여비교통비.pdf'"
      ]
     },
     "execution_count": 3,
     "metadata": {},
     "output_type": "execute_result"
    }
   ],
   "source": [
    "file_list = glob.glob(f'{rulebook_path}/*.pdf')\n",
    "file_list[6]"
   ]
  },
  {
   "cell_type": "code",
   "execution_count": 4,
   "id": "b8b26a57-059a-4c72-bd67-ee0476695502",
   "metadata": {},
   "outputs": [
    {
     "name": "stdin",
     "output_type": "stream",
     "text": [
      "OpenAI API Key: ········\n"
     ]
    }
   ],
   "source": [
    "os.environ[\"OPENAI_API_KEY\"] = getpass.getpass(\"OpenAI API Key:\")\n",
    "openai.api_key = os.environ[\"OPENAI_API_KEY\"]"
   ]
  },
  {
   "cell_type": "code",
   "execution_count": 6,
   "id": "d5301360-b676-455e-b2a9-156ff66353c9",
   "metadata": {},
   "outputs": [
    {
     "data": {
      "text/plain": [
       "[Collection(name=deposit),\n",
       " Collection(name=data),\n",
       " Collection(name=card),\n",
       " Collection(name=loan)]"
      ]
     },
     "execution_count": 6,
     "metadata": {},
     "output_type": "execute_result"
    }
   ],
   "source": [
    "chroma_client = chromadb.HttpClient(host=\"192.168.0.146\")\n",
    "chroma_client.list_collections()"
   ]
  },
  {
   "cell_type": "code",
   "execution_count": 7,
   "id": "905cbaf5-111d-4153-a6dd-301e45f04dc5",
   "metadata": {},
   "outputs": [
    {
     "data": {
      "text/plain": [
       "Collection(name=data)"
      ]
     },
     "execution_count": 7,
     "metadata": {},
     "output_type": "execute_result"
    }
   ],
   "source": [
    "data_collection = chroma_client.get_or_create_collection(\"data\")\n",
    "data_collection"
   ]
  },
  {
   "cell_type": "code",
   "execution_count": 8,
   "id": "bfae857a-4b11-4ed9-9f9d-7fa9004acd6d",
   "metadata": {},
   "outputs": [],
   "source": [
    "data_store = ChromaVectorStore(chroma_collection=data_collection)\n",
    "data_storage = StorageContext.from_defaults(vector_store=data_store)"
   ]
  },
  {
   "cell_type": "code",
   "execution_count": 90,
   "id": "ec206b28-411d-466d-a7c1-426e0e7e4ed2",
   "metadata": {},
   "outputs": [],
   "source": [
    "documents = SimpleDirectoryReader(input_files=[file_list[8]]).load_data()"
   ]
  },
  {
   "cell_type": "code",
   "execution_count": 91,
   "id": "35d79fc9-ec2e-4de4-b8e6-6ce434327f6a",
   "metadata": {},
   "outputs": [],
   "source": [
    "num_mapper = dict({'①':'제1항', '②':'제2항', '③':'제3항', '④':'제4항', '⑤':'제5항', '⑥':'제6항',\\\n",
    "                   '⑦':'제7항', '⑧': '제8항', '⑨': '제9항', '⑩': '제10항', '⑪': '제11항', '⑫': '제12항',\\\n",
    "                  '⑬':'제13항', '⑭':'제14항', '⑮':'제15항', '⑯':'제16항', '⑰':'제17항', '⑱':'제18항', '⑲':'제19항', '⑳':'제20항'})"
   ]
  },
  {
   "cell_type": "code",
   "execution_count": 92,
   "id": "f3302ee4-9b6d-4fd7-bf17-f3ab765f1186",
   "metadata": {},
   "outputs": [],
   "source": [
    "def text_cleanse(document):\n",
    "    '''\n",
    "    여러 공백 문자열 단일 공백 문자로 변환 \n",
    "    여러 줄변환 문자 줄변환 문자로 변환 (\\n x 2~ => \\n x 2) \n",
    "    문서 맨 윗 내용이 페이지 번호인 경우 페이지 번호 제거 \n",
    "    '''\n",
    "    document.text = re.sub('[^A-Za-z0-9\\'\\\"\\-가-힣(){}\\\\n[]]', '', document.text)\n",
    "    for num in num_mapper.keys():\n",
    "        document.text = document.text.replace(num, num_mapper[num])\n",
    "    document.text = re.sub(' +', ' ', document.text)\n",
    "    document.text = document.text.strip()\n",
    "    # document.text = re.sub(r'\\r\\n{2,}', '\\n\\n', document.text)\n",
    "    \n",
    "    text_list = document.text.splitlines(True)\n",
    "    if text_list[0].startswith('페이지') or text_list[0].startswith(document.metadata['page_label']):\n",
    "        text_list = text_list[1:]\n",
    "\n",
    "    new_text = [] \n",
    "    for line in text_list:\n",
    "        if line == '\\n' or line == ' \\n':\n",
    "            continue \n",
    "        new_text.append(line) \n",
    "    document.text = ''.join(new_text)\n",
    "    return document"
   ]
  },
  {
   "cell_type": "code",
   "execution_count": 93,
   "id": "01bacf29-55e6-45c3-aaac-2842c9a9ca3f",
   "metadata": {},
   "outputs": [],
   "source": [
    "for idx in range(len(documents)):\n",
    "    documents[idx] = text_cleanse(documents[idx])"
   ]
  },
  {
   "cell_type": "markdown",
   "id": "4893f21c-5e5a-4d7b-af66-f3db5c6d1ac3",
   "metadata": {},
   "source": [
    "### Document Processing "
   ]
  },
  {
   "cell_type": "raw",
   "id": "3fc4b434-63a2-40ea-88b4-0a91e6e0c752",
   "metadata": {},
   "source": [
    "- 목차는 걸러낸다. \n",
    "- 제 1장, 제 2장, ... 단위로 Document를 정의한다.\n",
    "- 부칙도 걸러낸다"
   ]
  },
  {
   "cell_type": "code",
   "execution_count": 94,
   "id": "a4298f5b-f77f-4fe5-8636-6127d1f5fc9b",
   "metadata": {},
   "outputs": [],
   "source": [
    "def get_start_point(documents):\n",
    "    '''\n",
    "    목차 등을 걸러내고 문서 본문이 시작되는 지점을 찾는 함수\n",
    "    '''\n",
    "    s_point = 1\n",
    "    for doc in documents:\n",
    "        if len(re.findall(r'제 *1 *장', doc.text)) != 0 and (len(re.findall(r'목 *차', doc.text)) == 0 and len(re.findall(r'차 *례', doc.text)) == 0): \n",
    "            s_point = doc.metadata['page_label']\n",
    "            break \n",
    "    return int(s_point) - 1"
   ]
  },
  {
   "cell_type": "code",
   "execution_count": 95,
   "id": "908c5eaa-cf4e-4183-8f04-45c7c4b91444",
   "metadata": {},
   "outputs": [
    {
     "data": {
      "text/plain": [
       "1"
      ]
     },
     "execution_count": 95,
     "metadata": {},
     "output_type": "execute_result"
    }
   ],
   "source": [
    "s_point = get_start_point(documents)\n",
    "s_point"
   ]
  },
  {
   "cell_type": "code",
   "execution_count": 96,
   "id": "cde62c9b-3599-4f3c-b9a3-605d8689c4b5",
   "metadata": {},
   "outputs": [
    {
     "data": {
      "text/plain": [
       "(['오늘 하루도 잘 마무리되어 가고 있다. \\n'], [' 기대가 안되는건 아니다 \\n', '\\n'])"
      ]
     },
     "execution_count": 96,
     "metadata": {},
     "output_type": "execute_result"
    }
   ],
   "source": [
    "doc = '오늘 하루도 잘 마무리되어 가고 있다. \\n 내일 하루는 어떨까 ? \\n 기대가 안되는건 아니다 \\n\\n'\n",
    "text_list = doc.splitlines(True) \n",
    "text_list[:1], text_list[2:]"
   ]
  },
  {
   "cell_type": "code",
   "execution_count": 97,
   "id": "299c2acd-25f4-483a-9034-f38abf20c4d4",
   "metadata": {},
   "outputs": [
    {
     "data": {
      "text/plain": [
       "0"
      ]
     },
     "execution_count": 97,
     "metadata": {},
     "output_type": "execute_result"
    }
   ],
   "source": [
    "val_dict = dict()\n",
    "len(val_dict)"
   ]
  },
  {
   "cell_type": "code",
   "execution_count": null,
   "id": "09fc1630-d099-497b-8588-5d731442ff8b",
   "metadata": {},
   "outputs": [],
   "source": [
    "def split_doc(split_spots: dict, document):\n",
    "    '''\n",
    "    주어진 spot에 따라 문서를 분리하는 함수\n",
    "    \n",
    "    split_spots: {int: val, int: val, ...}\n",
    "    e.g) split_spots: {1 (1번째 line): '제1장', 3 (3번째 line): '제2장'}\n",
    "    len(split_spots): 2  => 3개의 document 획득\n",
    "    '''\n",
    "    text_list = document.text.splitlines(True)\n",
    "    splitted_doc = [] \n",
    "    prev_spot = 0 \n",
    "    \n",
    "    for spot in split_spots.keys():\n",
    "        print(f'spot: {spot}')\n",
    "        prev_doc_texts = text_list[prev_spot:spot]\n",
    "        prev_doc_text = ''.join(prev_doc_texts)\n",
    "        prev_spot = spot + 1\n",
    "        prev_doc = Document(text=prev_doc_text, \n",
    "                            doc_id=f'{file_name}_doc_{doc_no}',\n",
    "                            metadata={'spot': split_spots[spot], 'file_name': file_name},\n",
    "                            excluded_llm_metadata_key=['spot', 'file_name'])\n",
    "        splitted_doc.append(prev_doc)\n",
    "    return splitted_doc"
   ]
  },
  {
   "cell_type": "code",
   "execution_count": null,
   "id": "e1d04a79-fe80-460a-980a-f8a5790e728f",
   "metadata": {},
   "outputs": [],
   "source": [
    "global file_name \n",
    "\n",
    "file_name = documents[0].metadata['file_name'].split('.')[0]\n",
    "file_name"
   ]
  },
  {
   "cell_type": "code",
   "execution_count": null,
   "id": "bf281160-250c-48e2-a43c-dc3d69d875f6",
   "metadata": {},
   "outputs": [],
   "source": [
    "def get_new_doc_content(document):  \n",
    "    '''\n",
    "    제1장 ~ 제n장 및 부칙을 문서 단위로 가져오는 함수 \n",
    "    input: old_document (페이지 단위로 분할된 document object) \n",
    "    output: new_documents (장 단위로 분할된 document objects) \n",
    "    idx: 파일명 설정하기 위한 값, 페이지 번호 \n",
    "    '''\n",
    "    global prev_spot \n",
    "    # print(f'prev_spot: {prev_spot}')\n",
    "    doc_list = []; meta_info = dict();\n",
    "    text_list = document.text.splitlines(True)\n",
    "    split_spots = dict() \n",
    "    print(text_list)\n",
    "    for idx, text in enumerate(text_list):\n",
    "        content_spots = re.findall(r'제 *[0-9] *장', text)\n",
    "        extra_spots = re.findall(r'부 *칙', text)\n",
    "        if len(content_spots) == 0 and extra_spots == 0:\n",
    "            continue \n",
    "        elif len(content_spots) > 0:\n",
    "            # print(f'content spot: {content_spots}')\n",
    "            text_list.insert(idx, '\\n')\n",
    "            split_spots[idx] = content_spots\n",
    "            prev_spot = content_spots\n",
    "        elif len(extra_spots) > 0:\n",
    "            # print(f'extra spot: {extra_spots}')\n",
    "            split_spots[idx] = extra_spots \n",
    "            text_list.insert(idx, '\\n')\n",
    "            prev_spot = content_spots \n",
    "\n",
    "    if len(split_spots) == 0: \n",
    "        new_text = ''.join(text_list)\n",
    "        doc = Document(text=new_text, \n",
    "                       doc_id=f'{file_name}_doc_{doc_no}',\n",
    "                       metadata={'spot': prev_spot, 'file_name': file_name},\n",
    "                       excluded_llm_metadata_keys=['spot', 'file_name']\n",
    "              )\n",
    "        return doc \n",
    "        \n",
    "    splitted_docs = split_doc(split_spots, document)\n",
    "    return splitted_docs"
   ]
  },
  {
   "cell_type": "code",
   "execution_count": null,
   "id": "1e1aa895-4938-4f4c-92f3-fa219b93169f",
   "metadata": {},
   "outputs": [],
   "source": [
    "global prev_spot\n",
    "global doc_no\n",
    "\n",
    "doc_no = 1 \n",
    "prev_spot='제1장'"
   ]
  },
  {
   "cell_type": "code",
   "execution_count": null,
   "id": "4a6500e2-d47c-4bce-b607-00fcb62dddf2",
   "metadata": {},
   "outputs": [],
   "source": [
    "s_point"
   ]
  },
  {
   "cell_type": "code",
   "execution_count": null,
   "id": "1dc98aa2-ced7-4c96-928d-fa0fb073dde8",
   "metadata": {},
   "outputs": [
    {
     "name": "stdout",
     "output_type": "stream",
     "text": [
      "[' 윤 리 헌 장 \\n', '우리는 기업의 사회적 책임을 소중히 여기고, 고객의 가치와 신뢰를 얻기 위해 \\n', '비즈니스 활동에서 공정한 기준에 따라 행동하며 이러한 기준에서 벗어나는 \\n', '어떠한 결과도 수용하지 않음을 선언한다 . \\n', '우리가 지키는 높은 윤리수준은 \\n', '명문화된 규정보다 임직원 각자의 자발적 참여로 구축되는 건전한 기업문화로 자연스럽게 달성되며 \\n', '아름다운 전통으로 계승한다 . \\n', '하나, 우리는 높은 윤리의식과 밝고 고운 심성을 바탕으로 정직하고 공정하게 직무를 수행한다 . \\n', '하나, 우리는 최고의 솔루션과 서비스로 고객의 소중한 가치를 항상 최우선으로 생각한다 . \\n', '하나, 우리는 효율적인 경영으로 이익을 실현함으로써 주주가치를 존중한다 . \\n', '하나, 고객 및 협력사와의 거래는 상호 발전을 기함과 동시에 투명하고 공정하게 한다. \\n', '하나, 우리는 국가와 지역사회의 각종 법규를 준수한다 . \\n', '하나, 우리는 일체의 부정행위를 하지 않으며 업무수행 시 회사이익을 우선한다 . \\n', '윤 리 강 령 \\n', '제 1 장 기 본 책 무 \\n', '제1조 (최고의 제품과 서비스창출 ) \\n', '제1항 품질은 결코 타협하거나 양보할 대상이 아닌 우리의 최고 가치로 삼는다. \\n', '제2항 가장 좋게, 싸게, 빠르게, 최고의 경쟁력을 확보하기 위해 최선을 다한다. \\n', ' 제3항 부단한 혁신과 연구개발을 통해 새로운 가치를 창조함으로 써 인류사회의 발전을 선도한다 . \\n', '제2조 (법규준수와 공정한 경쟁) \\n', '제1항 사업활동에 있어서 모든 법규와 규범, 기초질서를 충실히 준수하며 , 문화와 관습을 존중한다 . \\n', '제2항 경쟁사를 존중하며 , 정당한 방법과 실력으로 자유롭고 공정하게 경쟁한다 . \\n', '제3항 공정한 거래를 위하여 자유경쟁의 원칙에 따라 경쟁한다 . \\n', '제4항 공정거래 당사자들과는 상호 신뢰를 기반으로 공동발전을 도모한다 . \\n', '제3조 (주주에 대한 존중) \\n', '제1항 안정적인 경영활동을 통하여 이익을 실현하고 주주의 투자수익을 보호한다 . \\n', '제2항 주주와의 상호 신뢰를 위해서 기업정보를 투명하게 공개하도록 한다. \\n', '제4조 (고객에 대한 책임) \\n', '제1항 고객의 이익이 핑거의 이익이 된다는 신념으로 고객을 대한다. \\n', '제2항 최상의 제품과 서비스를 제공하도록 최선을 다한다. \\n', ' 제3항 고객의 안전과 정보를 보호하며 고객에게 피해가 갈 수 있는 법률 및 기준을 위반하지 아니한다 .']\n"
     ]
    }
   ],
   "source": [
    "new_documents = []\n",
    "for idx, doc in enumerate(documents):\n",
    "    # print(idx)\n",
    "    if idx >= s_point:\n",
    "        new_documents.append(get_new_doc_content(doc))   # idx: 페이지 번호 "
   ]
  },
  {
   "cell_type": "code",
   "execution_count": null,
   "id": "57470d1e-ae36-4173-b902-6722770dcb24",
   "metadata": {
    "scrolled": true
   },
   "outputs": [],
   "source": [
    "print(new_documents[0].text)"
   ]
  },
  {
   "cell_type": "code",
   "execution_count": null,
   "id": "0d849fd8-acf5-4fb5-b207-3b1d2b8540c4",
   "metadata": {},
   "outputs": [],
   "source": []
  },
  {
   "cell_type": "code",
   "execution_count": null,
   "id": "e6da7aa9-1275-41a9-806c-b3c3b129af0f",
   "metadata": {},
   "outputs": [],
   "source": []
  }
 ],
 "metadata": {
  "kernelspec": {
   "display_name": "Python 3 (ipykernel)",
   "language": "python",
   "name": "python3"
  },
  "language_info": {
   "codemirror_mode": {
    "name": "ipython",
    "version": 3
   },
   "file_extension": ".py",
   "mimetype": "text/x-python",
   "name": "python",
   "nbconvert_exporter": "python",
   "pygments_lexer": "ipython3",
   "version": "3.10.13"
  }
 },
 "nbformat": 4,
 "nbformat_minor": 5
}
